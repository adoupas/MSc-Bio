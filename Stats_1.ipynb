{
  "nbformat": 4,
  "nbformat_minor": 0,
  "metadata": {
    "colab": {
      "provenance": [],
      "authorship_tag": "ABX9TyMENegTv5JhCMbElGIFfjXr",
      "include_colab_link": true
    },
    "kernelspec": {
      "name": "python3",
      "display_name": "Python 3"
    },
    "language_info": {
      "name": "python"
    }
  },
  "cells": [
    {
      "cell_type": "markdown",
      "metadata": {
        "id": "view-in-github",
        "colab_type": "text"
      },
      "source": [
        "<a href=\"https://colab.research.google.com/github/kdemertzis/MSc-Bio/blob/main/Stats_1.ipynb\" target=\"_parent\"><img src=\"https://colab.research.google.com/assets/colab-badge.svg\" alt=\"Open In Colab\"/></a>"
      ]
    },
    {
      "cell_type": "markdown",
      "source": [
        "# **Υπολογισμός Περιγραφικής Στατιστικής**\n",
        "Ξεκινήστε εισάγοντας όλα τα πακέτα που θα χρειαστείτε:"
      ],
      "metadata": {
        "id": "iuyUks_3e7sZ"
      }
    },
    {
      "cell_type": "code",
      "source": [
        "import math\n",
        "import statistics\n",
        "import numpy as np\n",
        "import scipy.stats\n",
        "import pandas as pd"
      ],
      "metadata": {
        "id": "VKxkc_uzfHfS"
      },
      "execution_count": 1,
      "outputs": []
    },
    {
      "cell_type": "markdown",
      "source": [
        "Αυτά είναι όλα τα πακέτα που θα χρειαστείτε για υπολογισμούς στατιστικών στοιχείων Python. Συνήθως, δεν θα χρησιμοποιήσετε το ενσωματωμένο math πακέτο της Python, αλλά θα είναι χρήσιμο σε αυτό το σεμινάριο. Αργότερα, θα κάνετε εισαγωγή matplotlib.pyplot για οπτικοποίηση δεδομένων.\n",
        "\n",
        "Ας δημιουργήσουμε κάποια δεδομένα για να εργαστούμε. Θα ξεκινήσετε με λίστες Python που περιέχουν ορισμένα αυθαίρετα αριθμητικά δεδομένα:"
      ],
      "metadata": {
        "id": "3widFc1zfLbO"
      }
    },
    {
      "cell_type": "code",
      "source": [
        "x = [8.0, 1, 2.5, 4, 28.0]\n",
        "x_with_nan = [8.0, 1, 2.5, math.nan, 4, 28.0]\n",
        "x\n",
        "\n",
        "x_with_nan\n"
      ],
      "metadata": {
        "colab": {
          "base_uri": "https://localhost:8080/"
        },
        "id": "WiPjtQWRfPeS",
        "outputId": "8ecd1f8c-0dcf-4d7b-ae3f-9f786caa5482"
      },
      "execution_count": 2,
      "outputs": [
        {
          "output_type": "execute_result",
          "data": {
            "text/plain": [
              "[8.0, 1, 2.5, nan, 4, 28.0]"
            ]
          },
          "metadata": {},
          "execution_count": 2
        }
      ]
    },
    {
      "cell_type": "markdown",
      "source": [
        "Τώρα έχετε τις λίστες xκαι x_with_nan. Είναι σχεδόν τα ίδια, με τη διαφορά που x_with_nan περιέχει μια nanτιμή. Είναι σημαντικό να κατανοήσετε τη συμπεριφορά των ρουτινών στατιστικών Python όταν συναντούν μια μη-αριθμητική τιμή (nan). Στην επιστήμη δεδομένων, οι τιμές που λείπουν είναι συχνές και συχνά θα τις αντικαταστήσετε με nan.\n",
        "\n",
        "**Σημείωση:** Πώς παίρνετε μια nan τιμή;\n",
        "\n",
        "Στην Python, μπορείτε να χρησιμοποιήσετε οποιοδήποτε από τα παρακάτω:\n",
        "\n",
        "float('nan')\n",
        "math.nan\n",
        "np.nan\n",
        "Μπορείτε να χρησιμοποιήσετε όλες αυτές τις λειτουργίες εναλλακτικά:\n",
        "\n",
        "```\n",
        "math.isnan(np.nan), np.isnan(math.nan)\n",
        "math.isnan(y_with_nan[3]), np.isnan(y_with_nan[3])\n",
        "\n",
        "```\n",
        "Μπορείτε να δείτε ότι όλες οι συναρτήσεις είναι ισοδύναμες. Ωστόσο, έχετε υπόψη σας ότι η σύγκριση δύο nanτιμών για την ισότητα αποδίδει False. Με άλλα λόγια, math.nan == math.nanείναι False!\n",
        "\n",
        "Τώρα, δημιουργήστε np.ndarray και pd.Series αντικείμενα που αντιστοιχούν σε x και x_with_nan:"
      ],
      "metadata": {
        "id": "n3nRrQNAfdF6"
      }
    },
    {
      "cell_type": "code",
      "source": [
        "y, y_with_nan = np.array(x), np.array(x_with_nan)\n",
        "z, z_with_nan = pd.Series(x), pd.Series(x_with_nan)\n",
        "y\n",
        "\n",
        "y_with_nan\n",
        "z\n",
        "\n",
        "z_with_nan"
      ],
      "metadata": {
        "colab": {
          "base_uri": "https://localhost:8080/"
        },
        "id": "7mYvt0TlflOg",
        "outputId": "03a751d0-762d-42ed-db6f-727907df105c"
      },
      "execution_count": 4,
      "outputs": [
        {
          "output_type": "execute_result",
          "data": {
            "text/plain": [
              "0     8.0\n",
              "1     1.0\n",
              "2     2.5\n",
              "3     NaN\n",
              "4     4.0\n",
              "5    28.0\n",
              "dtype: float64"
            ]
          },
          "metadata": {},
          "execution_count": 4
        }
      ]
    },
    {
      "cell_type": "markdown",
      "source": [
        "Τώρα έχετε δύο πίνακες NumPy (y και y_with_nan) και δύο Panda Series (z και z_with_nan). Όλα αυτά είναι 1D ακολουθίες τιμών.\n",
        "\n",
        "**Σημείωση:** Παρόλο που θα χρησιμοποιείτε λίστες, έχετε υπόψη σας ότι, στις περισσότερες περιπτώσεις, μπορείτε να χρησιμοποιήσετε πλειάδες με τον ίδιο τρόπο.\n",
        "\n",
        "Μπορείτε προαιρετικά να καθορίσετε μια ετικέτα για κάθε τιμή στο z και z_with_nan."
      ],
      "metadata": {
        "id": "_gNoOTxKgx9d"
      }
    },
    {
      "cell_type": "markdown",
      "source": [
        "# **Μέτρα Κεντρικής Τάσης**\n",
        "Οι μετρήσεις της κεντρικής τάσης δείχνουν τις κεντρικές ή μεσαίες τιμές των συνόλων δεδομένων. Υπάρχουν διάφοροι ορισμοί για το τι θεωρείται το κέντρο ενός συνόλου δεδομένων. Σε αυτό το σεμινάριο, θα μάθετε πώς να προσδιορίζετε και να υπολογίζετε αυτές τις μετρήσεις κεντρικής τάσης:\n",
        "\n",
        "Mean\n",
        "Weighted mean\n",
        "Geometric mean\n",
        "Harmonic mean\n",
        "Median\n",
        "Mode\n",
        "\n",
        "**Mean**\n",
        "Ο μέσος όρος του δείγματος, που ονομάζεται επίσης αριθμητικός μέσος όρος δείγματος ή απλά ο μέσος όρος, είναι ο αριθμητικός μέσος όρος όλων των στοιχείων σε ένα σύνολο δεδομένων. Ο μέσος όρος ενός συνόλου δεδομένων 𝑥 εκφράζεται μαθηματικά ως Σᵢ𝑥ᵢ/𝑛, όπου 𝑖 = 1, 2, …, 𝑛. Με άλλα λόγια, είναι το άθροισμα όλων των στοιχείων 𝑥ᵢ διαιρεμένο με τον αριθμό των στοιχείων στο σύνολο δεδομένων 𝑥.\n",
        "\n",
        "Αυτό το σχήμα απεικονίζει τον μέσο όρο ενός δείγματος με πέντε σημεία δεδομένων:\n",
        "![py-stats-01.3254dbfe6b9a.png](data:image/png;base64,iVBORw0KGgoAAAANSUhEUgAABFcAAAD3CAIAAABXbyxXAAAh40lEQVR42u3dfZjVc+L/8Xe3k1CM1a6KyLUrq8iy9oaVWJKb3H6mtDUqKuza2NWwqaVYpQlFTOQmt1n3WglL086kdtymaHQRZbpBpDVlZpbR7/ru57vne35nuhm7mZnOeTyu+cdptKczT+/9vDpnzoSNAAAAmSR4CAAAACsIAAAgM1bQyjpRUVGxkownAzSADNAAMqCOM6jPFVRVVeXLjAzQADJAA8iAOs7ACsJ5hwaQARpABlhBVhDOOzSADNAAMsAKEjoyQAPIAA0gA6wgoSMDNIAM0AAywAoSOjJAA8gADSADrCChIwM0gAzQADLAChI6MkADyAANIAOsIISOBpABGkAGyMAKQuhoABmgAWSADKwghM52o6ysrKSkpLCwsGjzSkpKish4MmDLDcyZM6eoqOitt95yrroqQAZWEEKnoU+g5557btWqVZWVlVWbV11dXUXGkwFbbaC8vHzhwoVFRUUrVqxwwLoqQAZWEEKngSopKVm1apXLX6wgtmEDS5YsWbBggQPWVQEysIIQOg1UYWHhlp8FcvmLDPimDVRWVhYWFjpgXRUgAysIodNAFRUVufzFCmKbN1BUVOSAdVWADKwghI4VhBWEFYSrAmRgBSF0rCCsIKwgXBUgAysI5x1WEFYQVhCuCpCBFYTzDisIKwgrCFcFWEFWEM47GvYKKnqvaMLcCVfOvnLC3AlF7xXV/bVahw4dwr81atRo5513bt++fffu3YcPH/7KK69kyAVr/CAsWbLECtruvmohhOHDh2/yE/r06RN/wpFHHmkF4aoAK0joyID6X0EbKjYUlBR0LegargzJH10LuhaUFGyo2FDHl5LHHnts/38544wzunXr1rp16/jy8cQTT1y+fPl/9juPHDkyhDBy5Mj0XkH9+/cPIUydOtUKqq8V1LZt2y+++CLlV9esWbPDDjtYQbgqwAoSOjKgoaygteVrj7vnuJT9k/zR454ea8vX1uWl5HPPPZd8Y0VFxcMPP7zPPvuEEL7//e/X5sfFbtcraPHixW+88cb69eutoO1uBR1yyCEhhBkzZqT86s033xxCOPTQQ60gXBVgBQkdGVD/K2hDxYYtT6D447h7jqubZ4Q2uYJiH3744b777htC6N+/f3qvoP+GFVS/K2jixIkhhCiKUn71pz/9aZMmTa6//norCFcFWEFCRwbU/woqKCnY6gSKPwpKCup3BVVVVT3++OMhhCZNmiS/Lu7pp58eOnRoly5dsrOzmzdvvtdee/Xr12/BggXJ/2LYlMQiKi4uvvjii3/0ox+1adOmWbNme+yxx2mnnVbLRzgxrt5+++2zzjqrTZs2WVlZ+++//7hx4zZsSN2NlZWVd95555FHHrnLLrtkZWXts88+Q4cOfffdd7f6irgjjzwyfljmz59/4oknZmdnt2jRokuXLlOmTEl8zpIlSzb5x5w6dWqcwdy5c08//fS2bds2bdq0VatWHTt27N279zPPPGPAbMN0582bt//++7do0eKjjz5K/NLChQtDCMcff/z06dNrrqBVq1ZddtllBxxwwI477tiyZcuuXbuOHz8+5ZnAFStWTJgw4dhjj+3QoUNWVlarVq0OO+ywiRMnprz0Lm6gQ4cOlZWVkyZNOvDAA3fYYYdddtnlpJNOeuONN6wgXBVgBSF0rKD/VfN7gTb30bWga72voMrKyuzs7BDCPffck7ixY8eOWVlZBx988Mknn9yrV6/4+aKWLVvOnj07+RmSAw88MIRw4IEH9v+3hx56KP7V7t27N2nSpEuXLieccMJpp512wAEHxFvrgQceqOUK6tevX3Z2dtu2bc8888zjjjsuKysrhNCrV6+KiorkOx9/f3yzZs2OOeaYKIr23nvvEEJ2dvaLL75YmxV0ySWXNGvW7IADDsjJyfnZz34Wj5xx48bFn7Ny5cr+/ft37NgxhPDzn/888cecPXt2dXX1zJkzmzVrFkI46KCDzjjjjF69eh1yyCHNmjU799xzDZhtu4KuueaaEMKNN96Y+KXhw4eHEKb/S8oKevXVV9u2bRtCaN++fc+ePXv06BEX3r179/Ly8sSn3XXXXfHndOvWLYqibt26xY2dfPLJlZWVNVdQv379srKyjjnmmNNPPz2+Y61atSotLbWCXBV4ELCCEDpW0P+8I1wtJ1D8UQfvGrflFRQvlhDCZZddlrjloYceSv5798rKysmTJ4cQOnXqlHyBuIVXxM2YMeODDz5IvuXRRx9t1qxZdnb2Z599VpsVFEI47bTT/vGPf8Q3vvnmm+3atQshTJo0KfGZkyZNCiF897vfff311+NbvvjiiwsuuCC+bP3888+3uoJCCLfeemvKlXGrVq2S7+TmXhF31FFHpazH+FmI+fPnN5whsTGEWn5UH3zwJmo/+ODa/w41//WvBg3a5O3fdAUtX768SZMmP/7xjxNf5bZt22ZnZ5eXl6esoHXr1sVL+Kqrrko8c7h69eqjjz46pdUFCxYUFxcn/88tW7bsoIMOCiHcd999NZ8P3HvvvRcvXhzf+Pnnnx9//PEhhEGDBllBrgo8CFhBCB0rqGrC3AnfaAVdN/e6el9BOTk5IYTBgwdv+feJnypJ7I3/4PuC4udtHn/88dqsoB122KGsrCz59ttuuy2EsO+++yZuid/d4ZZbbkn+tPLy8j333DOEMG3atK2uoNNOOy3lf71Tp04hhOeff36rK2j//fcPISTPxQYoPVZQVVVVz549QwjxyzKffPLJEML5559fVVWVsoJuvPHGEMKZZ56Z8lu9//77zZo1+853vpM842uaOXNmCOH000+vuYIee+yx5M+cO3duPI2sIFcFHgSsIISOFVR15ewrv9EKGj17dL2voDPPPDOEMHTo0OQbly5dOnny5AsvvHDAgAHxy8DiyZF4zdtWV9DKlSunTp160UUXDRw4MP4dunTpEkIYP358bVbQySefnHJ7eXl548aNQwjvvfdefA9DCI0bN048X5Tycqnkv6ff3ApK2TZVVVWnnHJKCOHee+/d6grKzc0NIfTo0aOwsLDm+zhbQdt2BcVr5/e//32i2Pg5t5QVdMIJJ8SvlKv5u8WrddGiRf/3RiYbNjz11FOjRo0aPHhwbm5u//79Tz311BBCly5dUlZQ06ZNU74nbc2aNSGErKwsK8hVgQcBKwihYwVtl88Fxa/s+sMf/pC45fLLL2/atOkm3xjg9ttvr80Kmjx5csuWLTf5O4waNao2K+jCCy+s+Uvxi+LiFzIVFxeHENq1a7eJN6goKIj3yVZXUM13Mqi5eTa3gpYvXx6/gCqEsOOOO/7iF78YNWpULb9RxAr6piuovLx8t91222OPPVauXJmVldW5c+f4c1JWUDx1tqCwsDD+zEWLFsXP+9XUoUOHlBW055571rx78SdbQa4KPAhYQQgdK2j7+76gysrKXXfdNYRw//33x7c8+OCDIYSdd965oKCgtLR03bp18e29e/dOGQObW0Hz5s1r1KhRs2bNxo4du3DhwrVr18YvQ8rLy6vNK+i2uoLmzp0bX1nG391e89NuueWWWq6gmg9L7VdQ/GOXnnnmmeHDhx9xxBHx99Y3bdo0+RuN2CbvjhD/Y/wdX/GzPYlnFFNW0A9+8IMQQs+ePftvRuKN3Tp37hxCOOmkkwoLC1evXh0/m7do0aJNrqDkW6wgXBVgBSF0rKD/6j3iDp5ycL2/R9xjjz0WX7snvgkniqIQwg033JDymfGPp6zNCrrkkktCCBdddFHK7WeccUbtV1CvXr0294q4pUuXJr8iLvldEGLx3KrNK+L+yxWUbO3atX/6059CCC1atFizZo0Ns81X0N///vd4eCTnmrKC4ndB2Or3nr3xxhshhDZt2qS8lPGJJ56wgnBVgBUkdGRgBf0nK2g7+nlBiZ+aOnDgwMSNxxxzTAjh4YcfTv7MBQsWxK+RSx4DY8aMSXlzudigQYNCCBMmTEi+ccWKFbvsskvtV1DLli1XrFiRfPvtt98eQujYsWPKuyMk/4Sfqqqq9evXx3/k2rw7Qm1WUPzHKSgoqE0G7du3DyGkvE8322QFVVVVHX744bvttlvv3r0Tt6SsoGuvvbY2PwV4zpw58Vucb/INPKwgXBVgBQkdGVhB33gFbajYcNw9x211AvW4p8eGig31tYIqKioeeeSR+Cfh7Lfffh9++GHil+LXHfXs2TPxw1XKysriJ4JS5kE8S0499dSU/8X4SvTggw/+9NNP41s++eST+IVMtV9B8Tt9JZ7nWbx4cfzOb9dff33iMydOnBhC2GOPPRIvc/riiy8uvPDC2r9Tdm1W0KhRo0IIw4YNS8lg7NixKT+edd68eU2aNGncuPGyZctsmG9jBdWUsoI+/fTTuJPLL7885T3ZX3vttdtuuy2xyRs3bty0adPkNwO87bbbGjVqZAXhqgArSOjIwAr6T1bQ/7w4qnztlodQj3t6rC1fW5eXkscee2z8fRFRFB111FHx0zLxC89S3pC6tLS0devW8XeEn3766T179txpp506derUq1evlHmwfPny+C0QjjjiiNzc3IEDBz7yyCPxU0zxlejuu+9+yimn9OrVKzs7+3vf+96AAQNqv4J+9atfZWdnt2vX7swzzzz++ONbtGgRQjjxxBNTfmpq/N1KzZs3P/bYY3NycuJnh3bdddda/tTU2qygl156qfG//PKXvxwwYMDAgQPnzJlTXV0dP0qdOnU69dRTe/fuffjhh8cv2Bs+fLgBU18rKP6pqXvttVf8w3O7deuWk5Nz1FFHxb/VYYcdlvi0888/P35F5VFHHdW7d+/4B/vGr6W0gnBVgBUkdGRgBf0nKyh+RqigpKDm9wh1LehaUFJQN88CJV9Kxho1arTTTju1b9++e/fueXl5r7322ib/ldLS0pycnPbt22dlZe2zzz7Dhg37+OOPN/ntMc8++2y3bt1at24d/yV6YuGUlZWdc845e++9d/Pmzdu3bz9o0KBly5bV8ucLJT6ttLQ0iqLdd9+9efPm++233zXXXLN+/fqa7+5w5513HnHEEa1bt27evHmHDh2GDBmS8hTNf7mC4kvtww47bKeddko8IVZdXT1t2rT+/fv/8Ic/3HXXXVu0aLH33nuffPLJTz31lPVSvyuoqqrq448/vuqqqw477LBWrVo1b968Xbt2P/nJT0aMGPHKK68kPx16yy23dO3adccdd9xll126d+8+Y8aMmpvHCsJVAVaQ0JGBFfQNVtD/XQC9V3Td3OtGzx593dzr6uAd4dLAN/1hrPXim2ZA+ql9A1aQqwJkYAUhdDJuBWEFYQU5YF0VIAMrCKFjBWEFYQXhqgAZWEEIHSsIKwgrCFcFyMAKwnmHFYQVhBWEqwJkYAXhvMMKwgrCCsJVAVaQFYTzDisIKwgrCFcFWEFCRwZYQVhBWEG4KsAKEjoywArCCsIKwlUBVpDQkQFJ5syZ4/IXK4ht3sCcOXMcsK4KkIEVhNBpoIqKisrLy13+YgWxDRv45JNP5s2b54B1VYAMrCCETgP11ltvLVy40OUvVhDbqoHKysri4uKlS5c6YF0VIAMrCKHTcBUVFS1ZsqSystLlL1YQ/2UDn3zySXFx8cKFCx2trgqQgRWE0GnQVqxYsWDBgsLCwqLNKykpKSLjyYAtNzBnzpx58+Z5FshVATKwghA6GkAGaAAZIAMrCKGjAWSABpABMrCCEDoaQAZoABkgAysI5x0aQAZoABlgBVlBOO/QADJAA8gAK0joyAANIAM0gAywgoSODNAAMkADyAArSOjIAA0gAzSADLCChI4M0AAyQAPIACtI6MgADSADNIAMsIIQugw0oAFkgAaQAVYQQkcDyAANIANkYAUhdDSADNAAMkAGVhBCRwPIAA0gA2RgBSF0NIAM0AAyQAZWEEJHA8gADSADZGAF4bxDA8gADSADrCArCOcdGkAGaAAZYAUJHRmgAWSABpABVpDQkQEaQAZoABlgBQkdGaABZIAGkAFWkNCRARpABmgAGWAFCR0ZoAFkgAaQAVYQQvcgaMCDgAzQADLACkLoaAAZoAFkgAysIISOBpABGkAGyMAKQuhoABmgAWSADKwghI4GkAEaQAbIwArCeYcGkAEaQAbIwArCeYcGkAEaQAZYQVYQzjs0gAzQADLAChI6MkADyAANIAOsIKEjAzSADNAAMsAKEjoyQAPIAA0gA6wgoSMDNIAM0AAywAoSOjJAA8gADSADrCCEjgaQgQw0oAFkgBWE0NEAMkADyAAZWEEIHQ0gAzSADJCBFYTQ0QAyQAPIABlYQQgdDSADNIAMkIEVhPMODSADNIAMkIEVhPMODSADNIAMsIKsIJx3aAAZoAFkgBUkdGSABpABGkAGWEFCRwZoABmgAWSAFSR0ZIAGkAEaQAZYQUJHBmgAGaABZIAVJHRkgAaQARpABlhBCB0NIAM0gAxkgBWE0NEAMkADyAAZWEEIHQ0gAzSADJCBFYTQ0QAyQAPIABlYQQgdDSADNIAMkIEVhPMODSADNIAMkIEVhPMODSADNIAMsIKsIJx3aAAZoAFkgBUkdGSABpABGkAGWEFCRwZoABmgAWSAFSR0ZIAGkAEaQAZYQUJHBmgAGaABZIAVJHRkgAaQARpABlhBCB0NIAM0gAw8CFhBCB0NIAM0gAyQgRWE0NEAMkADyAAZWEEInW/8X34IiQ8N4ChAA8gAK8gKwnlnBWkAGaABZIAVJHRkYAVpABmgAWSAFSR0ZGAFaQAZoAFkgBUkdGRgBWkAGaABZIAVJHRkYAVpABmgAWSAFSR0ZGAFaQAZoAFkgBWE0LGCcBSgAWSADKwghI4VhKMADSADZGAFIXSsIBwFaAAZIAMrCKFjBeEoQAPIABlYQQgdKwhHARpABsjACsJ5hxWEowANIANkYAXhvLOCNICjAA0gA6wgKwjnXbpb/6tfJT40gKMADSADrCArCOcdGkAGaAAZYAUJHRmgAWSABpABVpDQkQEaQAZoABlgBQkdGaABZIAGkAFWkNCRARpABmgAGWAFCR0ZoAFkgAaQAVbQt2LGazNGPzt6+F+Gj3529IzXZjScr26DvWN1f9+cd/Xy1fHzgnDpgwaQgQsDKyjdVtDysuX5L+R3vqlzuDIkf3S+qXP+C/nLy5bX1xe1wd6xerxvzrt6+epYQbj0QQPIwIWBFZRWK+idZe90v717ShPJH0ffcfQ7y96p+69og71j9XvfnHf18tWxgnDpgwaQgQsDKyh9VtDysuVbziL+6H579zpeyQ32jtX7fXPe1ctXxwrCpQ8aQAYuDKyg9FlB+S/kbzWL+CP/hfy6/HI22DtW7/fNeVcvXx0rCJc+aAAZuDCwgtJnBdV8feTmPjrf1Lkuv5wN9o7V+31z3tXLV8cKwqUPGkAGLgysoDRZQTNem1HLLOKPOnsnjQZ7xxrCfXPe1ctXxwrCpQ8aQAYuDKygNFlBo58d/Y3KGPPsmLr5kzbYO9YQ7pvzrl6+OlYQLn3QADJwYWAFpckKGv6X4d+ojLyn8urmT9pg71hDuG/Ou3r56lhBuPRBA8jAhYEV5LmgzB3ungvKzL/ysYJw6YMGkIELAyvI9wV9u3xfkPOuoX11rCBc+qABZODCwArKxPeI6zK5S11+ORvsHav3++a8q5evjhWESx80gAxcGFhBfl7Qt87PC3LeNaivjhWESx80gAxcGFhB6bOCavnzdI++4+g6/nm6DfaO1ft9c97Vy1fHCsKlDxpABi4MrKD0WUErV658Z9k7W47j6DuOfmfZO3X/FW2wd6x+75vzrl6+OlVduiQ+/H8eLn3QADLI8AsDKygdVlC8kvNfyK/5usnON3XOfyG/Hpdxg71j9XjfnHfbezkaQAZoABm4MLCCGtafcMZrM8Y8Oybvqbwxz45pUO+S0WDvWN3fN+dd2pSjAWSABpCBCwMrSOjIAA0gAzSADLCChI4M0AAyQAPIACsIoXsQNOBBQAZoABlgBSF0NIAM0AAyQAZWEEJnGz7s3ikbRwEaQAZYQVYQzruM4qem4ihAA8gAK8gKwnlnBWkAGaABZIAVJHRkYAVpABmgAWSAFSR0ZGAFaQAZoAFkgBUkdGRgBWkAGaABZIAVJHRkYAVpABmgAWSAFSR0ZGAFaQAZoAFkgBUkdGRgBWkAGaABZIAVhNCxgnAUoAFkgAysIISOFYSjAA0gA2RgBSF0rCAcBWgAGSADKwihYwXhKEADyAAZWEEIHSsIRwEaQAbIwArCeWcFWUE4CtAAMsAKsoJw3qEBZIAGkAFWkNCRARpABmgAGWAFCR0ZoAFkgAaQAVaQ0JEBGkAGaAAZYAUJHRmgAWSABpABVpDQkQEaQAZoABlgBSF0GWhAA8gADSADGsIKAgAASHtWEAAAYAUBAABYQQAAAFYQAACAFQQAAGAFAQAAWEEAAABWEAAAgBUEAADwLa6gAAAAkL7q7bmgSy+91PpEBmgAGaABZEB9ZWAF4bxDA8gADSADrCChIwM0gAzQADLACtqG/vrXv/oyIwM0gAzQADKgvjLwHnEAAEBmsYIAAAArCAAAwAraJoqLi0eNGpWbm9uvX79LL7101qxZ1dXVvgYZYvLkydGmDBs2zIOTllauXDlz5sxJkyYNGzYsJycniqL58+c7HDTgcMgoX3755cKFC+++++4RI0YMHjy4T58+Q4YMmTBhwptvvukokEHNDJwGaezpp5++7rrrLrroooEDB/bp02fQoEFjxoz529/+9vXXX6d8ZnV19axZsy699NJ+/frl5uaOGjWquLh4+15BU6dOjaKob9++Y8eOHT9+fG5ubhRF+fn5DriMWkEjR46c/P+7//77PThp6a677kr5v7HNrSCHQ4Y34HBIY2+88Ub8pR88ePDYsWOvv/763/3ud/EtDz74oKNABikZOA3S2NChQ/v06ZOXlzd27NgbbrhhxIgR8d+OXXvttcn/jVdXV1977bVRFOXm5ubn519zzTV9+/aNouiOO+7YXlfQ/Pnz4/pXrVoV3/LZZ59ddNFFURTNnDlTGZmzggoLCz0UGeL555+/9957X3zxxdWrV19xxRWbuwJ2OGjA4ZDGFi1aNGHChMWLFyff+OKLL/bu3TuKokWLFjkKZJCcgdMgjZWWllZUVCTf8sEHH5x77rlRFM2ePTtx44wZM6Iouvjiiz/77LP4llWrVsWf9tJLL22XK+jSSy+NomjOnDnJN7711lvxkeeveawg0tsWroAdDhpwOGSggoKCKIpuueUWR4EMkjNwGmSahx9+OIqiiRMnxv9YXV0dD5633nor+dMKCwujKLrsssu2vxX0ySefRFF01llnVVVVpfzS0KFDoyh6++23dWAFkYFXwA4HDTgcMtOsWbOiKLr66qsdBTJIZOA0yECPPfZYFEU333xz/I+lpaVRFJ133nkpn1ZZWdmnT58oij799NPtbAW9/PLLURTl5eXV/KXx48dHUTRr1iwdZMgKuummm6ZNmzZlypTp06e//vrr/novw6+AHQ4acDhkpvh7xiZPnuwokEEiA6dBpvnoo4/OP//8KIpKSkriW55++un4uwFrfvLw4cOjKHr11Ve3sxU0c+bMKIrGjx9f85fuvPPOKIruvvtuKWTICkpx8cUXL1++3IOTsVfADgcNOBwy0GeffXb22WdHUfTyyy87CmSQyMBpkAlmz549efLkSZMm/fGPf+zTp09OTk7yW19MmzYtiqK77rqr5r8Yv2XCtv0LkbpYQY8++mgURZMmTar5Sw888EAURbfeeqss0t5TTz319NNPl5WVVVRUrF279tVXX73kkkuiKDr33HO37fObbEdXwA4HDTgcMs1XX301ZsyYKIrGjBnjKJBBcgZOg0wQfzNYrE+fPo8++mjy62CnTJkSRdH06dNr/ouTJk2Kouixxx7bLlfQjTfe6HQj2ZdffjlixIgoim6//XaPRiavIIdDhq8gh0MGXgOdd955iTeAchTIwGmQaaqqqsrKyu65554+ffpccskliYkbh5FWK8gz3WxO/FrwX//61x6KzLwCdjhowOGQUeL/rpPfDttRIAOnQSaL3xc78Y1AafiKuC1812N+fr7vesxkK1eujN8XyEORmVfADgcNOBwyx9133x1F0TnnnFNWVuYokEHNDJwGGai8vDx+adyXX36Z+AuRTb47Ql5eXhRFr7zyyna2gtasWbO5d8A877zzoigqLS3VQWZasmRJFEUDBw70UGTmFbDDQQMOhwxx7733RlE0aNCg999/33WCDDaZgdMgA1VXV8dvgR2/NjIN3yk7MeD8NDRSxO+SmfyzAsi0K2CHgwYcDmnvvvvui6JowIAB7733nusEGWwhA6dBpnnzzTfjKuL/xtPwp6Zu3Lhx/vz58UG2evXq+JZ169ZdfPHFURTNnDlTBGnv/ffff+WVV5L/b+yrr776y1/+kpOTE0XR66+/7iHK2Ctgh0OGN+BwSHvTp0+Pr3KWLl3qOkEGW8jAaZDGFi9eXFRU9M9//jP5xtLS0t/85jcp3/j35JNPxm+Pvm7duviWVatWDR48OIqil156abtcQRs3bpw6dWoURX379h07dmx+fn5ubm78rZD+gicTlJSUxE9njxgx4rrrrrv66quHDBkSRVFOTs4TTzzh8UlLS5cuHfFv8X/vv/3tbxO3OBw04HDIBPE3/MR/iTu5hscff9xRIINEBk6DNBY/mTNgwIDRo0dPmjRp3Lhx8d9xRFE0duzY5JfCVldXjxs3Loqi3Nzc/Pz8sWPH9u3bN4qiO+64Y5vfq1CXD0FxcfHIkSNzc3P79euXl5c3a9YsR1uG+Oijj+66667LL798yJAhff/lwgsvvPnmm7f8V4Ns1+KnuTfH4aABh0PmXPpszhVXXOEokEEiA6dBel8HPvjgg1deeeV5550Xf3EvuOCCCRMmlJSU1Pzk6urqWbNm5eXl9evXLzc3d+TIkcXFxd/GvQq+MAAAQEaxggAAACsIAADACgIAALCCAAAArCAAAAArCAAAwAoCAACwggAAAKwgAAAAKwgAAMAKAgAAsIIAaGiGDBkSQujRo8fXX3+dfPvZZ58dQjjppJNSbgcAKwiA7VtFRcVBBx0UQrjmmmsSN06bNi2EsOeee3766aceIgCsIADSzZIlS3baaaemTZvOnTt348aNixcvbtmyZeIfAcAKAiAN3X///SGE9u3bf/DBBwcccEAIYdy4cR4WAKwgANLZ4MGDQwitW7cOIRx//PG+HQgAKwiANFdRUdGhQ4cQQps2bdasWeMBAcAKAiDNPfvss40aNQohNG3adN68eR4QAKwgANLZqlWr2rRpE0IYOHBgCGGvvfZau3athwUAKwiA9FRdXd29e/cQwrBhwzZu3JibmxtCOOWUUzwyAFhBAKSnK664IoRw6KGHVlVVbdy4cf369Z06dQohTJw40YMDgBUEQLqZPXt248aNW7Vq9e677yZuXLhwYYsWLZo3b/7yyy97iACwggBIHx999NEee+wRQvjzn/+c8ktTpkwJIXTs2HHdunUeKACsIAAAACsIAADACgIAALCCAAAArCAAAMAKAgAAsIIAAADS0/8DIkLe95sJ2hMAAAAASUVORK5CYII=)\n",
        "\n",
        "Οι πράσινες κουκκίδες αντιπροσωπεύουν τα σημεία δεδομένων 1, 2,5, 4, 8 και 28. Η κόκκινη διακεκομμένη γραμμή είναι ο μέσος όρος τους ή (1 + 2,5 + 4 + 8 + 28) / 5 = 8,7.\n",
        "\n",
        "Μπορείτε να υπολογίσετε τη μέση τιμή με καθαρή Python χρησιμοποιώντας sum() και len(), χωρίς εισαγωγή βιβλιοθηκών:"
      ],
      "metadata": {
        "id": "5eOikfJ_hAqP"
      }
    },
    {
      "cell_type": "code",
      "source": [
        "mean_ = sum(x) / len(x)\n",
        "mean_"
      ],
      "metadata": {
        "id": "wvhSzWsdh_m9"
      },
      "execution_count": null,
      "outputs": []
    },
    {
      "cell_type": "markdown",
      "source": [
        "Αν και αυτό είναι καθαρό και κομψό, μπορείτε επίσης να εφαρμόσετε ενσωματωμένες συναρτήσεις στατιστικών στοιχείων Python:"
      ],
      "metadata": {
        "id": "Qmfq1FRziA91"
      }
    },
    {
      "cell_type": "code",
      "source": [
        "mean_ = statistics.mean(x)\n",
        "mean_\n",
        "\n",
        "mean_ = statistics.fmean(x)\n",
        "mean_"
      ],
      "metadata": {
        "colab": {
          "base_uri": "https://localhost:8080/"
        },
        "id": "cp2rAAt6iFHl",
        "outputId": "1cd74421-0346-44ff-c624-753b3ccbd50d"
      },
      "execution_count": 5,
      "outputs": [
        {
          "output_type": "execute_result",
          "data": {
            "text/plain": [
              "8.7"
            ]
          },
          "metadata": {},
          "execution_count": 5
        }
      ]
    },
    {
      "cell_type": "markdown",
      "source": [
        "Έχετε καλέσει τις συναρτήσεις mean() και fmean() από την ενσωματωμένη statistics βιβλιοθήκη Python και πήρατε το ίδιο αποτέλεσμα με την καθαρή Python. fmean() εισάγεται στην Python 3.8 ως ταχύτερη εναλλακτική του mean(). Επιστρέφει πάντα έναν αριθμό κινητής υποδιαστολής.\n",
        "\n",
        "Ωστόσο, εάν υπάρχουν nanτιμές μεταξύ των δεδομένων σας, τότε statistics.mean()και statistics.fmean() θα επιστρέψει nan ως έξοδος:"
      ],
      "metadata": {
        "id": "-20YL-xuiMnO"
      }
    },
    {
      "cell_type": "code",
      "source": [
        "mean_ = statistics.mean(x_with_nan)\n",
        "mean_\n",
        "\n",
        "mean_ = statistics.fmean(x_with_nan)\n",
        "mean_"
      ],
      "metadata": {
        "colab": {
          "base_uri": "https://localhost:8080/"
        },
        "id": "bb1B-bXliWW8",
        "outputId": "c2bf5e38-b772-4b9d-857d-7ac5301e3312"
      },
      "execution_count": 6,
      "outputs": [
        {
          "output_type": "execute_result",
          "data": {
            "text/plain": [
              "nan"
            ]
          },
          "metadata": {},
          "execution_count": 6
        }
      ]
    },
    {
      "cell_type": "markdown",
      "source": [
        "Αυτό το αποτέλεσμα είναι συνεπές με τη συμπεριφορά του sum(), επειδή sum(x_with_nan) επίσης επιστρέφει nan.\n",
        "\n",
        "Εάν χρησιμοποιείτε το NumPy, τότε μπορείτε να βρείτε τον μέσο όρο με np.mean():"
      ],
      "metadata": {
        "id": "Kf_eyC7kicZT"
      }
    },
    {
      "cell_type": "code",
      "source": [
        "mean_ = np.mean(y)\n",
        "mean_"
      ],
      "metadata": {
        "colab": {
          "base_uri": "https://localhost:8080/"
        },
        "id": "rpnDfM04ihSg",
        "outputId": "b6b86731-5c46-47bf-e405-ca88ee225b48"
      },
      "execution_count": 7,
      "outputs": [
        {
          "output_type": "execute_result",
          "data": {
            "text/plain": [
              "8.7"
            ]
          },
          "metadata": {},
          "execution_count": 7
        }
      ]
    },
    {
      "cell_type": "markdown",
      "source": [
        "Στο παραπάνω παράδειγμα, mean() είναι μια συνάρτηση, αλλά μπορείτε να χρησιμοποιήσετε και την αντίστοιχη μέθοδο .mean():"
      ],
      "metadata": {
        "id": "h_0U8ODdilYx"
      }
    },
    {
      "cell_type": "code",
      "source": [
        "mean_ = y.mean()\n",
        "mean_"
      ],
      "metadata": {
        "colab": {
          "base_uri": "https://localhost:8080/"
        },
        "id": "ooDOJ9QEiovY",
        "outputId": "9800497f-3d09-4f4e-95ac-d093d36d559a"
      },
      "execution_count": 8,
      "outputs": [
        {
          "output_type": "execute_result",
          "data": {
            "text/plain": [
              "8.7"
            ]
          },
          "metadata": {},
          "execution_count": 8
        }
      ]
    },
    {
      "cell_type": "markdown",
      "source": [
        "Η συνάρτηση mean() και η μέθοδος .mean() από το NumPy επιστρέφουν το ίδιο αποτέλεσμα με το statistics.mean(). Αυτό συμβαίνει επίσης όταν υπάρχουν nanτιμές μεταξύ των δεδομένων σας:"
      ],
      "metadata": {
        "id": "WtnQ1s0piuJm"
      }
    },
    {
      "cell_type": "code",
      "source": [
        "np.mean(y_with_nan)\n",
        "\n",
        "y_with_nan.mean()"
      ],
      "metadata": {
        "colab": {
          "base_uri": "https://localhost:8080/"
        },
        "id": "XHq5MzNeiw3Y",
        "outputId": "f723ee0a-24c6-4761-aefd-cef62e855287"
      },
      "execution_count": 9,
      "outputs": [
        {
          "output_type": "execute_result",
          "data": {
            "text/plain": [
              "nan"
            ]
          },
          "metadata": {},
          "execution_count": 9
        }
      ]
    },
    {
      "cell_type": "markdown",
      "source": [
        "Συχνά δεν χρειάζεται να αποκτήσετε μια nan αξία ως αποτέλεσμα. Εάν προτιμάτε να αγνοήσετε nan τιμές, τότε μπορείτε να χρησιμοποιήσετε np.nanmean():"
      ],
      "metadata": {
        "id": "mqfU70yWi0Wk"
      }
    },
    {
      "cell_type": "code",
      "source": [
        "np.nanmean(y_with_nan)"
      ],
      "metadata": {
        "colab": {
          "base_uri": "https://localhost:8080/"
        },
        "id": "w0qb85Bki-YO",
        "outputId": "413bddb1-d945-4bf3-a2c6-03969cb368fd"
      },
      "execution_count": 10,
      "outputs": [
        {
          "output_type": "execute_result",
          "data": {
            "text/plain": [
              "8.7"
            ]
          },
          "metadata": {},
          "execution_count": 10
        }
      ]
    },
    {
      "cell_type": "markdown",
      "source": [
        "nanmean() απλά αγνοεί όλες τις nan αξίες. Επιστρέφει την ίδια τιμή σαν mean() να την εφαρμόσατε στο σύνολο δεδομένων χωρίς τις nan τιμές.\n",
        "\n",
        "pd.Series Τα αντικείμενα έχουν επίσης τη μέθοδο .mean():"
      ],
      "metadata": {
        "id": "vOnxbeKTi_pD"
      }
    },
    {
      "cell_type": "code",
      "source": [
        "mean_ = z.mean()\n",
        "mean_"
      ],
      "metadata": {
        "colab": {
          "base_uri": "https://localhost:8080/"
        },
        "id": "QnPaRByBjG6Y",
        "outputId": "fc1eb7e1-6039-4845-8818-ee80b9125eb6"
      },
      "execution_count": 11,
      "outputs": [
        {
          "output_type": "execute_result",
          "data": {
            "text/plain": [
              "8.7"
            ]
          },
          "metadata": {},
          "execution_count": 11
        }
      ]
    },
    {
      "cell_type": "markdown",
      "source": [
        "Όπως μπορείτε να δείτε, χρησιμοποιείται παρόμοια όπως στην περίπτωση του NumPy. Ωστόσο, .mean() από το Pandas αγνοεί τις nan τιμές από προεπιλογή:"
      ],
      "metadata": {
        "id": "bI7XqZj7jKEW"
      }
    },
    {
      "cell_type": "code",
      "source": [
        "z_with_nan.mean()"
      ],
      "metadata": {
        "colab": {
          "base_uri": "https://localhost:8080/"
        },
        "id": "RaBYm3z-jXoF",
        "outputId": "83f1287f-9dbe-48d4-faae-f8c4e61d4c59"
      },
      "execution_count": 12,
      "outputs": [
        {
          "output_type": "execute_result",
          "data": {
            "text/plain": [
              "8.7"
            ]
          },
          "metadata": {},
          "execution_count": 12
        }
      ]
    },
    {
      "cell_type": "markdown",
      "source": [
        "Αυτή η συμπεριφορά είναι το αποτέλεσμα της προεπιλεγμένης τιμής της προαιρετικής παραμέτρου skipna. Μπορείτε να αλλάξετε αυτήν την παράμετρο για να τροποποιήσετε τη συμπεριφορά."
      ],
      "metadata": {
        "id": "zDT2TLiTjfFL"
      }
    },
    {
      "cell_type": "markdown",
      "source": [
        "# **Σταθμισμένος Μέσος**\n",
        "Ο σταθμισμένος μέσος όρος, που ονομάζεται επίσης σταθμισμένος αριθμητικός μέσος όρος ή σταθμισμένος μέσος όρος, είναι μια γενίκευση του αριθμητικού μέσου όρου που σας δίνει τη δυνατότητα να ορίσετε τη σχετική συμβολή κάθε σημείου δεδομένων στο αποτέλεσμα.\n",
        "\n",
        "Ορίζετε ένα βάρος 𝑤ᵢ για κάθε σημείο δεδομένων 𝑥ᵢ του συνόλου δεδομένων 𝑥, όπου 𝑖 = 1, 2, …, 𝑛 και 𝑛 είναι ο αριθμός των στοιχείων στο 𝑥. Στη συνέχεια, πολλαπλασιάζετε κάθε σημείο δεδομένων με το αντίστοιχο βάρος, αθροίζετε όλα τα γινόμενα και διαιρείτε το άθροισμα που προκύπτει με το άθροισμα των βαρών: Σᵢ(𝑤ᵢ𝑥ᵢ) / Σᵢ𝑤ᵢ.\n",
        "\n",
        "Σημείωση: Είναι βολικό (και συνήθως συμβαίνει) όλα τα βάρη να είναι μη αρνητικά, 𝑤ᵢ ≥ 0, και το άθροισμά τους να είναι ίσο με ένα ή Σᵢ𝑤ᵢ = 1.\n",
        "\n",
        "Ο σταθμισμένος μέσος όρος είναι πολύ βολικός όταν χρειάζεστε τον μέσο όρο ενός συνόλου δεδομένων που περιέχει στοιχεία που εμφανίζονται με δεδομένες σχετικές συχνότητες. Για παράδειγμα, πείτε ότι έχετε ένα σύνολο στο οποίο το 20% όλων των στοιχείων είναι ίσο με 2, το 50% των στοιχείων είναι ίσο με 4 και το υπόλοιπο 30% των στοιχείων είναι ίσο με 8. Μπορείτε να υπολογίσετε τον μέσο όρο του ένα τέτοιο σετ όπως αυτό:"
      ],
      "metadata": {
        "id": "GqI1ojCKjqD9"
      }
    },
    {
      "cell_type": "code",
      "source": [
        "0.2 * 2 + 0.5 * 4 + 0.3 * 8"
      ],
      "metadata": {
        "colab": {
          "base_uri": "https://localhost:8080/"
        },
        "id": "7mDrsKq4j4hx",
        "outputId": "c38f6421-a58d-4a1e-dc83-bffec3304be3"
      },
      "execution_count": 13,
      "outputs": [
        {
          "output_type": "execute_result",
          "data": {
            "text/plain": [
              "4.8"
            ]
          },
          "metadata": {},
          "execution_count": 13
        }
      ]
    },
    {
      "cell_type": "markdown",
      "source": [
        "Εδώ, λαμβάνετε υπόψη τις συχνότητες με τα βάρη. Με αυτήν τη μέθοδο, δεν χρειάζεται να γνωρίζετε τον συνολικό αριθμό των αντικειμένων.\n",
        "\n",
        "Μπορείτε να εφαρμόσετε τον σταθμισμένο μέσο όρο σε καθαρή Python συνδυάζοντας sum() με ένα range() ή με zip():"
      ],
      "metadata": {
        "id": "qFLAu9sSj9Uh"
      }
    },
    {
      "cell_type": "code",
      "source": [
        "x = [8.0, 1, 2.5, 4, 28.0]\n",
        "w = [0.1, 0.2, 0.3, 0.25, 0.15]\n",
        "wmean = sum(w[i] * x[i] for i in range(len(x))) / sum(w)\n",
        "wmean\n",
        "\n",
        "wmean = sum(x_ * w_ for (x_, w_) in zip(x, w)) / sum(w)\n",
        "wmean"
      ],
      "metadata": {
        "colab": {
          "base_uri": "https://localhost:8080/"
        },
        "id": "UnR5PR8FkOnI",
        "outputId": "9a2901f7-77c3-466b-912f-d01913d856f3"
      },
      "execution_count": 14,
      "outputs": [
        {
          "output_type": "execute_result",
          "data": {
            "text/plain": [
              "6.95"
            ]
          },
          "metadata": {},
          "execution_count": 14
        }
      ]
    },
    {
      "cell_type": "markdown",
      "source": [
        "Και πάλι, αυτή είναι μια καθαρή και κομψή εφαρμογή όπου δεν χρειάζεται να εισάγετε βιβλιοθήκες.\n",
        "\n",
        "Ωστόσο, εάν έχετε μεγάλα σύνολα δεδομένων, τότε το NumPy είναι πιθανό να παρέχει καλύτερη λύση. Μπορείτε να χρησιμοποιήσετε np.average() για να λάβετε τον σταθμισμένο μέσο όρο των συστοιχιών NumPy ή των Panda Series:"
      ],
      "metadata": {
        "id": "0V-WpK5RkQN9"
      }
    },
    {
      "cell_type": "code",
      "source": [
        "y, z, w = np.array(x), pd.Series(x), np.array(w)\n",
        "wmean = np.average(y, weights=w)\n",
        "wmean\n",
        "\n",
        "wmean = np.average(z, weights=w)\n",
        "wmean\n"
      ],
      "metadata": {
        "colab": {
          "base_uri": "https://localhost:8080/"
        },
        "id": "fX-85VyTkVO4",
        "outputId": "9fd68ba9-2855-4d52-c219-ae2f9f580e9c"
      },
      "execution_count": 15,
      "outputs": [
        {
          "output_type": "execute_result",
          "data": {
            "text/plain": [
              "6.95"
            ]
          },
          "metadata": {},
          "execution_count": 15
        }
      ]
    },
    {
      "cell_type": "markdown",
      "source": [
        "Το αποτέλεσμα είναι το ίδιο όπως στην περίπτωση της αμιγούς υλοποίησης Python. Μπορείτε επίσης να χρησιμοποιήσετε αυτήν τη μέθοδο σε συνηθισμένες λίστες και πλειάδες.\n",
        "\n",
        "Μια άλλη λύση είναι να χρησιμοποιήσετε το προϊόν βάσει στοιχείων w * y με np.sum() ή .sum():"
      ],
      "metadata": {
        "id": "LDoJyYI1kZgI"
      }
    },
    {
      "cell_type": "code",
      "source": [
        "(w * y).sum() / w.sum()"
      ],
      "metadata": {
        "colab": {
          "base_uri": "https://localhost:8080/"
        },
        "id": "cDCoK8y7kf6u",
        "outputId": "cd802880-d56b-4dbc-cd30-de850f4b9f6c"
      },
      "execution_count": 16,
      "outputs": [
        {
          "output_type": "execute_result",
          "data": {
            "text/plain": [
              "6.95"
            ]
          },
          "metadata": {},
          "execution_count": 16
        }
      ]
    },
    {
      "cell_type": "markdown",
      "source": [
        "Ωστόσο, να είστε προσεκτικοί εάν το σύνολο δεδομένων σας περιέχει nan τιμές:"
      ],
      "metadata": {
        "id": "bi--cRwakjWq"
      }
    },
    {
      "cell_type": "code",
      "source": [
        "w = np.array([0.1, 0.2, 0.3, 0.0, 0.2, 0.1])\n",
        "(w * y_with_nan).sum() / w.sum()\n",
        "\n",
        "np.average(y_with_nan, weights=w)\n",
        "\n",
        "np.average(z_with_nan, weights=w)\n"
      ],
      "metadata": {
        "colab": {
          "base_uri": "https://localhost:8080/"
        },
        "id": "eQNt2H32kqeq",
        "outputId": "66ea63fd-d543-45d1-cb4a-dbdf594c4272"
      },
      "execution_count": 17,
      "outputs": [
        {
          "output_type": "execute_result",
          "data": {
            "text/plain": [
              "nan"
            ]
          },
          "metadata": {},
          "execution_count": 17
        }
      ]
    },
    {
      "cell_type": "markdown",
      "source": [
        "Σε αυτήν την περίπτωση, average() επιστρέφει nan, το οποίο είναι συνεπές με το np.mean()."
      ],
      "metadata": {
        "id": "4h4KLRfGkuLd"
      }
    },
    {
      "cell_type": "markdown",
      "source": [
        "# **Αρμονικός Μέσος**\n",
        "Ο αρμονικός μέσος όρος είναι ο αντίστροφος του μέσου όρου των αντίστροφων όλων των στοιχείων του συνόλου δεδομένων: 𝑛 / Σᵢ(1/𝑥ᵢ), όπου 𝑖 = 1, 2, …, 𝑛 και 𝑛 είναι ο αριθμός των στοιχείων στο σύνολο δεδομένων 𝑥. Μια παραλλαγή της καθαρής εφαρμογής Python του αρμονικού μέσου είναι η εξής:"
      ],
      "metadata": {
        "id": "d64_xuxJkzAV"
      }
    },
    {
      "cell_type": "code",
      "source": [
        "hmean = len(x) / sum(1 / item for item in x)\n",
        "hmean"
      ],
      "metadata": {
        "colab": {
          "base_uri": "https://localhost:8080/"
        },
        "id": "yQrUT_Erk6JG",
        "outputId": "d12ea8b1-dc9f-444d-e721-1c9e75319c8b"
      },
      "execution_count": 18,
      "outputs": [
        {
          "output_type": "execute_result",
          "data": {
            "text/plain": [
              "2.7613412228796843"
            ]
          },
          "metadata": {},
          "execution_count": 18
        }
      ]
    },
    {
      "cell_type": "markdown",
      "source": [
        "Είναι αρκετά διαφορετικό από την τιμή του αριθμητικού μέσου όρου για τα ίδια δεδομένα x, που υπολογίσατε ότι είναι 8,7.\n",
        "\n",
        "Μπορείτε επίσης να υπολογίσετε αυτό το μέτρο με statistics.harmonic_mean():"
      ],
      "metadata": {
        "id": "ChbaJcOYk9_n"
      }
    },
    {
      "cell_type": "code",
      "source": [
        "hmean = statistics.harmonic_mean(x)\n",
        "hmean"
      ],
      "metadata": {
        "colab": {
          "base_uri": "https://localhost:8080/"
        },
        "id": "Hdn0l7CjlCyM",
        "outputId": "26f6e299-2fb7-430c-cee7-686c4a74f955"
      },
      "execution_count": 19,
      "outputs": [
        {
          "output_type": "execute_result",
          "data": {
            "text/plain": [
              "2.7613412228796843"
            ]
          },
          "metadata": {},
          "execution_count": 19
        }
      ]
    },
    {
      "cell_type": "markdown",
      "source": [
        "Το παραπάνω παράδειγμα δείχνει μία υλοποίηση του statistics.harmonic_mean(). Εάν έχετε μια nanτιμή σε ένα σύνολο δεδομένων, τότε θα επιστρέψει nan. Εάν υπάρχει τουλάχιστον ένα 0, τότε θα επιστρέψει 0. Εάν παρέχετε τουλάχιστον έναν αρνητικό αριθμό, τότε θα λάβετε statistics.StatisticsError:"
      ],
      "metadata": {
        "id": "MlyWX9NelFpW"
      }
    },
    {
      "cell_type": "code",
      "source": [
        "statistics.harmonic_mean(x_with_nan)\n",
        "\n",
        "statistics.harmonic_mean([1, 0, 2])\n",
        "\n",
        "statistics.harmonic_mean([1, 2, -2])  # Raises StatisticsError"
      ],
      "metadata": {
        "colab": {
          "base_uri": "https://localhost:8080/",
          "height": 360
        },
        "id": "zkQ2ztholLOg",
        "outputId": "60888db0-fd73-4fbd-ef5f-a1ae8a9539f5"
      },
      "execution_count": 20,
      "outputs": [
        {
          "output_type": "error",
          "ename": "StatisticsError",
          "evalue": "ignored",
          "traceback": [
            "\u001b[0;31m---------------------------------------------------------------------------\u001b[0m",
            "\u001b[0;31mStatisticsError\u001b[0m                           Traceback (most recent call last)",
            "\u001b[0;32m<ipython-input-20-fd37f071cf41>\u001b[0m in \u001b[0;36m<module>\u001b[0;34m\u001b[0m\n\u001b[1;32m      3\u001b[0m \u001b[0mstatistics\u001b[0m\u001b[0;34m.\u001b[0m\u001b[0mharmonic_mean\u001b[0m\u001b[0;34m(\u001b[0m\u001b[0;34m[\u001b[0m\u001b[0;36m1\u001b[0m\u001b[0;34m,\u001b[0m \u001b[0;36m0\u001b[0m\u001b[0;34m,\u001b[0m \u001b[0;36m2\u001b[0m\u001b[0;34m]\u001b[0m\u001b[0;34m)\u001b[0m\u001b[0;34m\u001b[0m\u001b[0;34m\u001b[0m\u001b[0m\n\u001b[1;32m      4\u001b[0m \u001b[0;34m\u001b[0m\u001b[0m\n\u001b[0;32m----> 5\u001b[0;31m \u001b[0mstatistics\u001b[0m\u001b[0;34m.\u001b[0m\u001b[0mharmonic_mean\u001b[0m\u001b[0;34m(\u001b[0m\u001b[0;34m[\u001b[0m\u001b[0;36m1\u001b[0m\u001b[0;34m,\u001b[0m \u001b[0;36m2\u001b[0m\u001b[0;34m,\u001b[0m \u001b[0;34m-\u001b[0m\u001b[0;36m2\u001b[0m\u001b[0;34m]\u001b[0m\u001b[0;34m)\u001b[0m  \u001b[0;31m# Raises StatisticsError\u001b[0m\u001b[0;34m\u001b[0m\u001b[0;34m\u001b[0m\u001b[0m\n\u001b[0m",
            "\u001b[0;32m/usr/lib/python3.8/statistics.py\u001b[0m in \u001b[0;36mharmonic_mean\u001b[0;34m(data)\u001b[0m\n\u001b[1;32m    404\u001b[0m             \u001b[0;32mraise\u001b[0m \u001b[0mTypeError\u001b[0m\u001b[0;34m(\u001b[0m\u001b[0;34m'unsupported type'\u001b[0m\u001b[0;34m)\u001b[0m\u001b[0;34m\u001b[0m\u001b[0;34m\u001b[0m\u001b[0m\n\u001b[1;32m    405\u001b[0m     \u001b[0;32mtry\u001b[0m\u001b[0;34m:\u001b[0m\u001b[0;34m\u001b[0m\u001b[0;34m\u001b[0m\u001b[0m\n\u001b[0;32m--> 406\u001b[0;31m         \u001b[0mT\u001b[0m\u001b[0;34m,\u001b[0m \u001b[0mtotal\u001b[0m\u001b[0;34m,\u001b[0m \u001b[0mcount\u001b[0m \u001b[0;34m=\u001b[0m \u001b[0m_sum\u001b[0m\u001b[0;34m(\u001b[0m\u001b[0;36m1\u001b[0m\u001b[0;34m/\u001b[0m\u001b[0mx\u001b[0m \u001b[0;32mfor\u001b[0m \u001b[0mx\u001b[0m \u001b[0;32min\u001b[0m \u001b[0m_fail_neg\u001b[0m\u001b[0;34m(\u001b[0m\u001b[0mdata\u001b[0m\u001b[0;34m,\u001b[0m \u001b[0merrmsg\u001b[0m\u001b[0;34m)\u001b[0m\u001b[0;34m)\u001b[0m\u001b[0;34m\u001b[0m\u001b[0;34m\u001b[0m\u001b[0m\n\u001b[0m\u001b[1;32m    407\u001b[0m     \u001b[0;32mexcept\u001b[0m \u001b[0mZeroDivisionError\u001b[0m\u001b[0;34m:\u001b[0m\u001b[0;34m\u001b[0m\u001b[0;34m\u001b[0m\u001b[0m\n\u001b[1;32m    408\u001b[0m         \u001b[0;32mreturn\u001b[0m \u001b[0;36m0\u001b[0m\u001b[0;34m\u001b[0m\u001b[0;34m\u001b[0m\u001b[0m\n",
            "\u001b[0;32m/usr/lib/python3.8/statistics.py\u001b[0m in \u001b[0;36m_sum\u001b[0;34m(data, start)\u001b[0m\n\u001b[1;32m    164\u001b[0m     \u001b[0;32mfor\u001b[0m \u001b[0mtyp\u001b[0m\u001b[0;34m,\u001b[0m \u001b[0mvalues\u001b[0m \u001b[0;32min\u001b[0m \u001b[0mgroupby\u001b[0m\u001b[0;34m(\u001b[0m\u001b[0mdata\u001b[0m\u001b[0;34m,\u001b[0m \u001b[0mtype\u001b[0m\u001b[0;34m)\u001b[0m\u001b[0;34m:\u001b[0m\u001b[0;34m\u001b[0m\u001b[0;34m\u001b[0m\u001b[0m\n\u001b[1;32m    165\u001b[0m         \u001b[0mT\u001b[0m \u001b[0;34m=\u001b[0m \u001b[0m_coerce\u001b[0m\u001b[0;34m(\u001b[0m\u001b[0mT\u001b[0m\u001b[0;34m,\u001b[0m \u001b[0mtyp\u001b[0m\u001b[0;34m)\u001b[0m  \u001b[0;31m# or raise TypeError\u001b[0m\u001b[0;34m\u001b[0m\u001b[0;34m\u001b[0m\u001b[0m\n\u001b[0;32m--> 166\u001b[0;31m         \u001b[0;32mfor\u001b[0m \u001b[0mn\u001b[0m\u001b[0;34m,\u001b[0m\u001b[0md\u001b[0m \u001b[0;32min\u001b[0m \u001b[0mmap\u001b[0m\u001b[0;34m(\u001b[0m\u001b[0m_exact_ratio\u001b[0m\u001b[0;34m,\u001b[0m \u001b[0mvalues\u001b[0m\u001b[0;34m)\u001b[0m\u001b[0;34m:\u001b[0m\u001b[0;34m\u001b[0m\u001b[0;34m\u001b[0m\u001b[0m\n\u001b[0m\u001b[1;32m    167\u001b[0m             \u001b[0mcount\u001b[0m \u001b[0;34m+=\u001b[0m \u001b[0;36m1\u001b[0m\u001b[0;34m\u001b[0m\u001b[0;34m\u001b[0m\u001b[0m\n\u001b[1;32m    168\u001b[0m             \u001b[0mpartials\u001b[0m\u001b[0;34m[\u001b[0m\u001b[0md\u001b[0m\u001b[0;34m]\u001b[0m \u001b[0;34m=\u001b[0m \u001b[0mpartials_get\u001b[0m\u001b[0;34m(\u001b[0m\u001b[0md\u001b[0m\u001b[0;34m,\u001b[0m \u001b[0;36m0\u001b[0m\u001b[0;34m)\u001b[0m \u001b[0;34m+\u001b[0m \u001b[0mn\u001b[0m\u001b[0;34m\u001b[0m\u001b[0;34m\u001b[0m\u001b[0m\n",
            "\u001b[0;32m/usr/lib/python3.8/statistics.py\u001b[0m in \u001b[0;36m<genexpr>\u001b[0;34m(.0)\u001b[0m\n\u001b[1;32m    404\u001b[0m             \u001b[0;32mraise\u001b[0m \u001b[0mTypeError\u001b[0m\u001b[0;34m(\u001b[0m\u001b[0;34m'unsupported type'\u001b[0m\u001b[0;34m)\u001b[0m\u001b[0;34m\u001b[0m\u001b[0;34m\u001b[0m\u001b[0m\n\u001b[1;32m    405\u001b[0m     \u001b[0;32mtry\u001b[0m\u001b[0;34m:\u001b[0m\u001b[0;34m\u001b[0m\u001b[0;34m\u001b[0m\u001b[0m\n\u001b[0;32m--> 406\u001b[0;31m         \u001b[0mT\u001b[0m\u001b[0;34m,\u001b[0m \u001b[0mtotal\u001b[0m\u001b[0;34m,\u001b[0m \u001b[0mcount\u001b[0m \u001b[0;34m=\u001b[0m \u001b[0m_sum\u001b[0m\u001b[0;34m(\u001b[0m\u001b[0;36m1\u001b[0m\u001b[0;34m/\u001b[0m\u001b[0mx\u001b[0m \u001b[0;32mfor\u001b[0m \u001b[0mx\u001b[0m \u001b[0;32min\u001b[0m \u001b[0m_fail_neg\u001b[0m\u001b[0;34m(\u001b[0m\u001b[0mdata\u001b[0m\u001b[0;34m,\u001b[0m \u001b[0merrmsg\u001b[0m\u001b[0;34m)\u001b[0m\u001b[0;34m)\u001b[0m\u001b[0;34m\u001b[0m\u001b[0;34m\u001b[0m\u001b[0m\n\u001b[0m\u001b[1;32m    407\u001b[0m     \u001b[0;32mexcept\u001b[0m \u001b[0mZeroDivisionError\u001b[0m\u001b[0;34m:\u001b[0m\u001b[0;34m\u001b[0m\u001b[0;34m\u001b[0m\u001b[0m\n\u001b[1;32m    408\u001b[0m         \u001b[0;32mreturn\u001b[0m \u001b[0;36m0\u001b[0m\u001b[0;34m\u001b[0m\u001b[0;34m\u001b[0m\u001b[0m\n",
            "\u001b[0;32m/usr/lib/python3.8/statistics.py\u001b[0m in \u001b[0;36m_fail_neg\u001b[0;34m(values, errmsg)\u001b[0m\n\u001b[1;32m    287\u001b[0m     \u001b[0;32mfor\u001b[0m \u001b[0mx\u001b[0m \u001b[0;32min\u001b[0m \u001b[0mvalues\u001b[0m\u001b[0;34m:\u001b[0m\u001b[0;34m\u001b[0m\u001b[0;34m\u001b[0m\u001b[0m\n\u001b[1;32m    288\u001b[0m         \u001b[0;32mif\u001b[0m \u001b[0mx\u001b[0m \u001b[0;34m<\u001b[0m \u001b[0;36m0\u001b[0m\u001b[0;34m:\u001b[0m\u001b[0;34m\u001b[0m\u001b[0;34m\u001b[0m\u001b[0m\n\u001b[0;32m--> 289\u001b[0;31m             \u001b[0;32mraise\u001b[0m \u001b[0mStatisticsError\u001b[0m\u001b[0;34m(\u001b[0m\u001b[0merrmsg\u001b[0m\u001b[0;34m)\u001b[0m\u001b[0;34m\u001b[0m\u001b[0;34m\u001b[0m\u001b[0m\n\u001b[0m\u001b[1;32m    290\u001b[0m         \u001b[0;32myield\u001b[0m \u001b[0mx\u001b[0m\u001b[0;34m\u001b[0m\u001b[0;34m\u001b[0m\u001b[0m\n\u001b[1;32m    291\u001b[0m \u001b[0;34m\u001b[0m\u001b[0m\n",
            "\u001b[0;31mStatisticsError\u001b[0m: harmonic mean does not support negative values"
          ]
        }
      ]
    },
    {
      "cell_type": "markdown",
      "source": [
        "Λάβετε υπόψη αυτά τα τρία σενάρια όταν χρησιμοποιείτε αυτήν τη μέθοδο!\n",
        "\n",
        "Ένας τρίτος τρόπος για τον υπολογισμό του αρμονικού μέσου είναι να χρησιμοποιήσετε scipy.stats.hmean():"
      ],
      "metadata": {
        "id": "v8UEYVwnlVS0"
      }
    },
    {
      "cell_type": "code",
      "source": [
        "scipy.stats.hmean(y)\n",
        "\n",
        "scipy.stats.hmean(z)"
      ],
      "metadata": {
        "colab": {
          "base_uri": "https://localhost:8080/"
        },
        "id": "Z9_2hV6qlX4d",
        "outputId": "701d9a7a-68e4-460d-d346-76e1d214fa45"
      },
      "execution_count": 21,
      "outputs": [
        {
          "output_type": "execute_result",
          "data": {
            "text/plain": [
              "2.7613412228796843"
            ]
          },
          "metadata": {},
          "execution_count": 21
        }
      ]
    },
    {
      "cell_type": "markdown",
      "source": [
        "Και πάλι, αυτή είναι μια αρκετά απλή εφαρμογή. Ωστόσο, εάν το σύνολο δεδομένων σας περιέχει nan, 0, έναν αρνητικό αριθμό ή οτιδήποτε άλλο εκτός από θετικούς αριθμούς, τότε θα λάβετε ένα ValueError!"
      ],
      "metadata": {
        "id": "dnJMqBTqlbPn"
      }
    },
    {
      "cell_type": "markdown",
      "source": [
        "# **Γεωμετρικός μέσος**\n",
        "Ο γεωμετρικός μέσος όρος είναι η 𝑛-η ρίζα του γινομένου όλων των 𝑛 στοιχείων 𝑥ᵢ σε ένα σύνολο δεδομένων 𝑥: ⁿ√(Πᵢ𝑥ᵢ), όπου 𝑖 = 1, 2, …, 𝑛. Το παρακάτω σχήμα απεικονίζει τα αριθμητικά, αρμονικά και γεωμετρικά μέσα ενός συνόλου δεδομένων:\n",
        "![02.ec1ca0f9a9ac.png](data:image/png;base64,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)\n",
        "Και πάλι, οι πράσινες κουκκίδες αντιπροσωπεύουν τα σημεία δεδομένων 1, 2.5, 4, 8 και 28. Η κόκκινη διακεκομμένη γραμμή είναι ο μέσος όρος. Η μπλε διακεκομμένη γραμμή είναι ο αρμονικός μέσος όρος και η κίτρινη διακεκομμένη γραμμή είναι ο γεωμετρικός μέσος όρος.\n",
        "\n",
        "Μπορείτε να εφαρμόσετε τον γεωμετρικό μέσο όρο σε καθαρή Python ως εξής:"
      ],
      "metadata": {
        "id": "ZSjgnY2Qlg6H"
      }
    },
    {
      "cell_type": "code",
      "source": [
        "gmean = 1\n",
        "for item in x:\n",
        "    gmean *= item\n",
        "\n",
        "gmean **= 1 / len(x)\n",
        "gmean"
      ],
      "metadata": {
        "colab": {
          "base_uri": "https://localhost:8080/"
        },
        "id": "0yNRbbySq6mC",
        "outputId": "a5dcfa6a-e416-4591-ed04-655a7538b37f"
      },
      "execution_count": 22,
      "outputs": [
        {
          "output_type": "execute_result",
          "data": {
            "text/plain": [
              "4.677885674856041"
            ]
          },
          "metadata": {},
          "execution_count": 22
        }
      ]
    },
    {
      "cell_type": "markdown",
      "source": [
        "Όπως μπορείτε να δείτε, η τιμή του γεωμετρικού μέσου όρου, σε αυτήν την περίπτωση, διαφέρει σημαντικά από τις τιμές των αριθμητικών μέσων (8,7) και των αρμονικών (2,76) για το ίδιο σύνολο δεδομένων x.\n",
        "\n",
        "Παρουσιάστηκε η Python 3.8 statistics.geometric_mean(), η οποία μετατρέπει όλες τις τιμές σε αριθμούς κινητής υποδιαστολής και επιστρέφει τον γεωμετρικό τους μέσο όρο:"
      ],
      "metadata": {
        "id": "VnBJ8YJxq_dz"
      }
    },
    {
      "cell_type": "code",
      "source": [
        "gmean = statistics.geometric_mean(x)\n",
        "gmean"
      ],
      "metadata": {
        "colab": {
          "base_uri": "https://localhost:8080/"
        },
        "id": "VfZHLRwyrELZ",
        "outputId": "3340f4ab-7558-4f21-ab5f-df2b4d68a301"
      },
      "execution_count": 23,
      "outputs": [
        {
          "output_type": "execute_result",
          "data": {
            "text/plain": [
              "4.67788567485604"
            ]
          },
          "metadata": {},
          "execution_count": 23
        }
      ]
    },
    {
      "cell_type": "markdown",
      "source": [
        "Έχετε το ίδιο αποτέλεσμα όπως στο προηγούμενο παράδειγμα, αλλά με ελάχιστο σφάλμα στρογγυλοποίησης.\n",
        "\n",
        "Εάν μεταβιβάσετε δεδομένα με nanτιμές, τότε statistics.geometric_mean() θα συμπεριφέρονται όπως οι περισσότερες παρόμοιες συναρτήσεις και θα επιστρέφουν nan:"
      ],
      "metadata": {
        "id": "VBWTnualrHfx"
      }
    },
    {
      "cell_type": "code",
      "source": [
        "gmean = statistics.geometric_mean(x_with_nan)\n",
        "gmean"
      ],
      "metadata": {
        "colab": {
          "base_uri": "https://localhost:8080/"
        },
        "id": "jyCu5Z9lrM51",
        "outputId": "8b03dc29-ac7e-45f5-c359-ec6472b9d714"
      },
      "execution_count": 24,
      "outputs": [
        {
          "output_type": "execute_result",
          "data": {
            "text/plain": [
              "nan"
            ]
          },
          "metadata": {},
          "execution_count": 24
        }
      ]
    },
    {
      "cell_type": "markdown",
      "source": [
        "Πράγματι, αυτό είναι συνεπές με τη συμπεριφορά των statistics.mean(), statistics.fmean(), και statistics.harmonic_mean(). Εάν υπάρχει μηδέν ή αρνητικός αριθμός μεταξύ των δεδομένων σας, τότε statistics.geometric_mean() θα αυξηθεί το statistics.StatisticsError.\n",
        "\n",
        "Μπορείτε επίσης να πάρετε το γεωμετρικό μέσο με scipy.stats.gmean():"
      ],
      "metadata": {
        "id": "motNVopZrQp9"
      }
    },
    {
      "cell_type": "code",
      "source": [
        "scipy.stats.gmean(y)\n",
        "\n",
        "scipy.stats.gmean(z)\n"
      ],
      "metadata": {
        "colab": {
          "base_uri": "https://localhost:8080/"
        },
        "id": "3KdP_biTrWRG",
        "outputId": "1b593e2e-c0b3-4289-dd54-7676d27527a5"
      },
      "execution_count": 25,
      "outputs": [
        {
          "output_type": "execute_result",
          "data": {
            "text/plain": [
              "4.67788567485604"
            ]
          },
          "metadata": {},
          "execution_count": 25
        }
      ]
    },
    {
      "cell_type": "markdown",
      "source": [
        "Λάβατε το ίδιο αποτέλεσμα με την καθαρή υλοποίηση Python.\n",
        "\n",
        "Εάν έχετε nanτιμές σε ένα σύνολο δεδομένων, τότε gmean() θα επιστρέψει nan. Εάν υπάρχει τουλάχιστον ένα 0, τότε θα επιστρέψει 0.0 και θα δώσει μια προειδοποίηση. Εάν παρέχετε τουλάχιστον έναν αρνητικό αριθμό, τότε θα λάβετε nan και την προειδοποίηση."
      ],
      "metadata": {
        "id": "cZR4VLbyrdKc"
      }
    },
    {
      "cell_type": "markdown",
      "source": [
        "# **Διάμεσος**\n",
        "Η διάμεσος του δείγματος είναι το μεσαίο στοιχείο ενός ταξινομημένου συνόλου δεδομένων. Το σύνολο δεδομένων μπορεί να ταξινομηθεί με αύξουσα ή φθίνουσα σειρά. Εάν ο αριθμός των στοιχείων 𝑛 του συνόλου δεδομένων είναι περιττός, τότε η διάμεσος είναι η τιμή στη μεσαία θέση: 0,5(𝑛 + 1). Αν το 𝑛 είναι άρτιο, τότε η διάμεσος είναι ο αριθμητικός μέσος όρος των δύο τιμών στη μέση, δηλαδή των στοιχείων στις θέσεις 0,5𝑛 και 0,5𝑛 + 1.\n",
        "\n",
        "Για παράδειγμα, εάν έχετε τα σημεία δεδομένων 2, 4, 1, 8 και 9, τότε η διάμεση τιμή είναι 4, η οποία βρίσκεται στη μέση του ταξινομημένου συνόλου δεδομένων (1, 2, 4, 8, 9). Εάν τα σημεία δεδομένων είναι 2, 4, 1 και 8, τότε η διάμεσος είναι 3, που είναι ο μέσος όρος των δύο μεσαίων στοιχείων της ταξινομημένης ακολουθίας (2 και 4). Το παρακάτω σχήμα το δείχνει:\n",
        "![04.f7b39a21dd2d.png](data:image/png;base64,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)\n",
        "Τα σημεία δεδομένων είναι οι πράσινες κουκκίδες και οι μωβ γραμμές δείχνουν τη διάμεσο για κάθε σύνολο δεδομένων. Η διάμεση τιμή για το ανώτερο σύνολο δεδομένων (1, 2,5, 4, 8 και 28) είναι 4. Εάν αφαιρέσετε το άκρο 28 από το χαμηλότερο σύνολο δεδομένων, τότε η διάμεσος γίνεται ο αριθμητικός μέσος όρος μεταξύ 2,5 και 4, που είναι 3,25.\n",
        "\n",
        "Το παρακάτω σχήμα δείχνει τόσο τον μέσο όρο όσο και τη διάμεσο των σημείων δεδομένων 1, 2.5, 4, 8 και 28:\n",
        "![03.33356e86aa97.png](data:image/png;base64,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)\n",
        "Και πάλι, ο μέσος όρος είναι η κόκκινη διακεκομμένη γραμμή, ενώ ο διάμεσος είναι η μωβ γραμμή.\n",
        "\n",
        "Η κύρια διαφορά μεταξύ της συμπεριφοράς του μέσου όρου και της διάμεσης τιμής σχετίζεται με ακραίες τιμές ή ακραίες τιμές δεδομένων . Ο μέσος όρος επηρεάζεται σε μεγάλο βαθμό από ακραίες τιμές, αλλά η διάμεσος εξαρτάται μόνο από ακραίες τιμές είτε ελαφρώς είτε καθόλου. Σκεφτείτε το ακόλουθο σχήμα:\n",
        "![05.b5c3dba0cd5f.png](data:image/png;base64,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)\n",
        "Το ανώτερο σύνολο δεδομένων έχει και πάλι τα στοιχεία 1, 2,5, 4, 8 και 28. Ο μέσος όρος του είναι 8,7 και ο διάμεσος είναι 5, όπως είδατε νωρίτερα. Το χαμηλότερο σύνολο δεδομένων δείχνει τι συμβαίνει όταν μετακινείτε το δεξιότερο σημείο με την τιμή 28:\n",
        "\n",
        "Εάν αυξήσετε την τιμή του (μετακινήστε το προς τα δεξιά) , τότε ο μέσος όρος θα αυξηθεί, αλλά η διάμεση τιμή δεν θα αλλάξει ποτέ.\n",
        "Εάν μειώσετε την τιμή του (μετακινήστε το προς τα αριστερά) , τότε ο μέσος όρος θα πέσει, αλλά η διάμεσος θα παραμείνει ίδια έως ότου η τιμή του κινούμενου σημείου είναι μεγαλύτερη ή ίση με 4.\n",
        "Μπορείτε να συγκρίνετε τη μέση και τη διάμεσο ως ένας τρόπος για να ανιχνεύσετε ακραίες τιμές και ασυμμετρία στα δεδομένα σας. Το εάν η μέση τιμή ή η διάμεση τιμή είναι πιο χρήσιμη για εσάς εξαρτάται από το πλαίσιο του συγκεκριμένου προβλήματός σας.\n",
        "\n",
        "Εδώ είναι μία από τις πολλές πιθανές καθαρές υλοποιήσεις Python της διάμεσης:"
      ],
      "metadata": {
        "id": "-bX4kqPsrgjy"
      }
    },
    {
      "cell_type": "code",
      "source": [
        "n = len(x)\n",
        "if n % 2:\n",
        "    median_ = sorted(x)[round(0.5*(n-1))]\n",
        "else:\n",
        "    x_ord, index = sorted(x), round(0.5 * n)\n",
        "    median_ = 0.5 * (x_ord[index-1] + x_ord[index])\n",
        "\n",
        "median_"
      ],
      "metadata": {
        "colab": {
          "base_uri": "https://localhost:8080/"
        },
        "id": "9A71AKA3sYEk",
        "outputId": "8917091b-7413-4125-9d72-0336ae2e270b"
      },
      "execution_count": 26,
      "outputs": [
        {
          "output_type": "execute_result",
          "data": {
            "text/plain": [
              "4"
            ]
          },
          "metadata": {},
          "execution_count": 26
        }
      ]
    },
    {
      "cell_type": "markdown",
      "source": [
        "Δύο πιο σημαντικά βήματα αυτής της υλοποίησης είναι τα εξής:\n",
        "\n",
        "1.   Ταξινόμηση των στοιχείων του συνόλου δεδομένων\n",
        "2.   Εύρεση των μεσαίων στοιχείων στο ταξινομημένο σύνολο δεδομένων\n",
        "\n",
        "Μπορείτε να λάβετε τη διάμεσο με statistics.median():"
      ],
      "metadata": {
        "id": "BiuKz-uYscet"
      }
    },
    {
      "cell_type": "code",
      "source": [
        "median_ = statistics.median(x)\n",
        "median_\n",
        "\n",
        "median_ = statistics.median(x[:-1])\n",
        "median_"
      ],
      "metadata": {
        "colab": {
          "base_uri": "https://localhost:8080/"
        },
        "id": "K7lmiLDvsuCI",
        "outputId": "b95ef562-5d8b-4ae8-e303-bbebbeab065d"
      },
      "execution_count": 27,
      "outputs": [
        {
          "output_type": "execute_result",
          "data": {
            "text/plain": [
              "3.25"
            ]
          },
          "metadata": {},
          "execution_count": 27
        }
      ]
    },
    {
      "cell_type": "markdown",
      "source": [
        "Η ταξινομημένη έκδοση του xείναι [1, 2.5, 4, 8.0, 28.0], οπότε το στοιχείο στη μέση είναι 4. Η ταξινομημένη έκδοση του x[:-1], η οποία είναι xχωρίς το τελευταίο στοιχείο 28.0, είναι [1, 2.5, 4, 8.0]. Τώρα, υπάρχουν δύο μεσαία στοιχεία 2.5και 4. Ο μέσος όρος τους είναι 3.25.\n",
        "\n",
        "median_low()και είναι δύο ακόμη συναρτήσεις που σχετίζονται με τη διάμεσο στη βιβλιοθήκη median_high()της Python . statisticsΕπιστρέφουν πάντα ένα στοιχείο από το σύνολο δεδομένων:\n",
        "\n",
        "1.   Εάν ο αριθμός των στοιχείων είναι περιττός , τότε υπάρχει μια ενιαία μεσαία τιμή, επομένως αυτές οι συναρτήσεις συμπεριφέρονται ακριβώς όπως median().\n",
        "2.   Εάν ο αριθμός των στοιχείων είναι άρτιος , τότε υπάρχουν δύο μεσαίες τιμές. Σε αυτήν την περίπτωση, median_low() επιστρέφει την χαμηλότερη και median_high() την υψηλότερη μεσαία τιμή.\n",
        "\n",
        "Μπορείτε να χρησιμοποιήσετε αυτές τις λειτουργίες όπως ακριβώς θα χρησιμοποιούσατε median():"
      ],
      "metadata": {
        "id": "nM0NmkKzsyFA"
      }
    },
    {
      "cell_type": "code",
      "source": [
        "statistics.median_low(x[:-1])\n",
        "\n",
        "statistics.median_high(x[:-1])"
      ],
      "metadata": {
        "colab": {
          "base_uri": "https://localhost:8080/"
        },
        "id": "Zx-KKAcytG4B",
        "outputId": "59aea747-1808-40d1-ebc9-e1a6ba24adc0"
      },
      "execution_count": 28,
      "outputs": [
        {
          "output_type": "execute_result",
          "data": {
            "text/plain": [
              "4"
            ]
          },
          "metadata": {},
          "execution_count": 28
        }
      ]
    },
    {
      "cell_type": "markdown",
      "source": [
        "Και πάλι, η ταξινομημένη έκδοση του x[:-1]είναι [1, 2.5, 4, 8.0]. Τα δύο στοιχεία στη μέση είναι 2.5 (χαμηλό) και 4 (υψηλό).\n",
        "\n",
        "Σε αντίθεση με τις περισσότερες άλλες συναρτήσεις από τη statistics βιβλιοθήκη Python, median(), median_low(), και median_high() δεν επιστρέφουν nanόταν υπάρχουν nanτιμές μεταξύ των σημείων δεδομένων:"
      ],
      "metadata": {
        "id": "En7_q98NtKMF"
      }
    },
    {
      "cell_type": "code",
      "source": [
        "statistics.median(x_with_nan)\n",
        "\n",
        "statistics.median_low(x_with_nan)\n",
        "\n",
        "statistics.median_high(x_with_nan)"
      ],
      "metadata": {
        "colab": {
          "base_uri": "https://localhost:8080/"
        },
        "id": "KP3U0W3ftNhl",
        "outputId": "69978a02-678d-45c9-cfb6-d3840af10b03"
      },
      "execution_count": 29,
      "outputs": [
        {
          "output_type": "execute_result",
          "data": {
            "text/plain": [
              "8.0"
            ]
          },
          "metadata": {},
          "execution_count": 29
        }
      ]
    },
    {
      "cell_type": "markdown",
      "source": [
        "Προσοχή σε αυτή τη συμπεριφορά γιατί μπορεί να μην είναι αυτό που θέλετε!\n",
        "\n",
        "Μπορείτε επίσης να λάβετε τη διάμεσο με np.median():"
      ],
      "metadata": {
        "id": "78w2uNortVly"
      }
    },
    {
      "cell_type": "code",
      "source": [
        "median_ = np.median(y)\n",
        "median_\n",
        "\n",
        "median_ = np.median(y[:-1])\n",
        "median_"
      ],
      "metadata": {
        "colab": {
          "base_uri": "https://localhost:8080/"
        },
        "id": "TB1OSzR8tZQA",
        "outputId": "ef72fb91-2e3f-4155-cb8a-c5e77f46ba30"
      },
      "execution_count": 30,
      "outputs": [
        {
          "output_type": "execute_result",
          "data": {
            "text/plain": [
              "3.25"
            ]
          },
          "metadata": {},
          "execution_count": 30
        }
      ]
    },
    {
      "cell_type": "markdown",
      "source": [
        "Έχετε λάβει τις ίδιες τιμές με statistics.median() και np.median().\n",
        "\n",
        "Ωστόσο, εάν υπάρχει μια nanτιμή στο σύνολο δεδομένων σας, τότε np.median()εκδίδει το RuntimeWarning και επιστρέφει nan. Εάν αυτή η συμπεριφορά δεν είναι αυτή που θέλετε, τότε μπορείτε να χρησιμοποιήσετε nanmedian() για να αγνοήσετε όλες τις nan τιμές:"
      ],
      "metadata": {
        "id": "SX_65bPctchu"
      }
    },
    {
      "cell_type": "code",
      "source": [
        "np.nanmedian(y_with_nan)\n",
        "\n",
        "np.nanmedian(y_with_nan[:-1])"
      ],
      "metadata": {
        "colab": {
          "base_uri": "https://localhost:8080/"
        },
        "id": "Nya9ZkF6tikI",
        "outputId": "15653d25-aac0-4cbb-b622-e08c6f1695f1"
      },
      "execution_count": 31,
      "outputs": [
        {
          "output_type": "execute_result",
          "data": {
            "text/plain": [
              "3.25"
            ]
          },
          "metadata": {},
          "execution_count": 31
        }
      ]
    },
    {
      "cell_type": "markdown",
      "source": [
        "Τα ληφθέντα αποτελέσματα είναι τα ίδια με statistics.median() και np.median()εφαρμόζονται στα σύνολα δεδομένων x και y.\n",
        "\n",
        "Τα αντικείμενα Pandas Series έχουν τη μέθοδο .median() που αγνοεί τις nan τιμές από προεπιλογή:"
      ],
      "metadata": {
        "id": "HTXRlyr4tmIS"
      }
    },
    {
      "cell_type": "code",
      "source": [
        "z.median()\n",
        "\n",
        "z_with_nan.median()"
      ],
      "metadata": {
        "colab": {
          "base_uri": "https://localhost:8080/"
        },
        "id": "Xj2eSvbAts3C",
        "outputId": "3ab4e25d-4397-4696-c6bf-b3fe55cbb28c"
      },
      "execution_count": 32,
      "outputs": [
        {
          "output_type": "execute_result",
          "data": {
            "text/plain": [
              "4.0"
            ]
          },
          "metadata": {},
          "execution_count": 32
        }
      ]
    },
    {
      "cell_type": "markdown",
      "source": [
        "Η συμπεριφορά του .median() είναι συνεπής με .mean() τα Pandas. Μπορείτε να αλλάξετε αυτήν τη συμπεριφορά με την προαιρετική παράμετρο skipna."
      ],
      "metadata": {
        "id": "lrIzxVa8twp8"
      }
    },
    {
      "cell_type": "markdown",
      "source": [
        "# **Επικρατούσα τιμή**\n",
        "Η επικρατούσα τιμή είναι η τιμή στο σύνολο δεδομένων που εμφανίζεται πιο συχνά. Εάν δεν υπάρχει ούτε μία τέτοια τιμή, τότε το σύνολο είναι πολυτροπικό αφού έχει πολλαπλές επικρατούσες τιμές. Για παράδειγμα, στο σύνολο που περιέχει τα σημεία 2, 3, 2, 8 και 12, ο αριθμός 2 είναι η επικρατούσα τιμή επειδή εμφανίζεται δύο φορές, σε αντίθεση με τα άλλα στοιχεία που εμφανίζονται μόνο μία φορά.\n",
        "\n",
        "Έτσι μπορείτε να αποκτήσετε την επικρατούσα τιμή με καθαρή Python:"
      ],
      "metadata": {
        "id": "3mLiLkRft1Z6"
      }
    },
    {
      "cell_type": "code",
      "source": [
        "u = [2, 3, 2, 8, 12]\n",
        "mode_ = max((u.count(item), item) for item in set(u))[1]\n",
        "mode_"
      ],
      "metadata": {
        "colab": {
          "base_uri": "https://localhost:8080/"
        },
        "id": "uelYJj5Quxn1",
        "outputId": "337cf365-264f-444c-99b4-d51c7f4454ce"
      },
      "execution_count": 33,
      "outputs": [
        {
          "output_type": "execute_result",
          "data": {
            "text/plain": [
              "2"
            ]
          },
          "metadata": {},
          "execution_count": 33
        }
      ]
    },
    {
      "cell_type": "markdown",
      "source": [
        "Χρησιμοποιείτε u.count() για να λάβετε τον αριθμό των εμφανίσεων κάθε στοιχείου στο u. Το στοιχείο με τον μέγιστο αριθμό εμφανίσεων είναι η λειτουργία. Σημειώστε ότι δεν χρειάζεται να χρησιμοποιήσετε set(u). Αντίθετα, μπορείτε να το αντικαταστήσετε με απλώς uκαι να επαναλάβετε ολόκληρη τη λίστα.\n",
        "**Σημείωση:** επιστρέφει ένα σύνολο set(u) Python με όλα τα μοναδικά στοιχεία. Μπορείτε να χρησιμοποιήσετε αυτό το τέχνασμα για να βελτιστοποιήσετε την εργασία με μεγαλύτερα δεδομένα, ειδικά όταν περιμένετε να δείτε πολλά διπλότυπα.\n",
        "\n",
        "Μπορείτε να αποκτήσετε τη λειτουργία με statistics.mode() και statistics.multimode():"
      ],
      "metadata": {
        "id": "nPsyLjTmu2jv"
      }
    },
    {
      "cell_type": "code",
      "source": [
        "mode_ = statistics.mode(u)\n",
        "mode_\n",
        "mode_ = statistics.multimode(u)\n",
        "mode_"
      ],
      "metadata": {
        "colab": {
          "base_uri": "https://localhost:8080/"
        },
        "id": "8girQvY7u7UI",
        "outputId": "91a12d22-dc42-4b19-bf4c-1cb1ed9a5a01"
      },
      "execution_count": 34,
      "outputs": [
        {
          "output_type": "execute_result",
          "data": {
            "text/plain": [
              "[2]"
            ]
          },
          "metadata": {},
          "execution_count": 34
        }
      ]
    },
    {
      "cell_type": "markdown",
      "source": [
        "Όπως μπορείτε να δείτε, mode()επέστρεψε μια μεμονωμένη τιμή, ενώ multimode() επέστρεψε η λίστα που περιέχει το αποτέλεσμα. Ωστόσο, αυτή δεν είναι η μόνη διαφορά μεταξύ των δύο λειτουργιών. Εάν υπάρχουν περισσότερες από μία τροπικές τιμές, τότε mode() αυξάνει το StatisticsError, ενώ multimode() επιστρέφει τη λίστα με όλες τις λειτουργίες:"
      ],
      "metadata": {
        "id": "wds604MpvTWs"
      }
    },
    {
      "cell_type": "code",
      "source": [
        "v = [12, 15, 12, 15, 21, 15, 12]\n",
        "statistics.mode(v)  # Raises StatisticsError\n",
        "statistics.multimode(v)"
      ],
      "metadata": {
        "colab": {
          "base_uri": "https://localhost:8080/"
        },
        "id": "wANWdRohvZZr",
        "outputId": "874f154c-ae79-4d7c-9f7e-5062fb42edbd"
      },
      "execution_count": 35,
      "outputs": [
        {
          "output_type": "execute_result",
          "data": {
            "text/plain": [
              "[12, 15]"
            ]
          },
          "metadata": {},
          "execution_count": 35
        }
      ]
    },
    {
      "cell_type": "markdown",
      "source": [
        "Θα πρέπει να δώσετε ιδιαίτερη προσοχή σε αυτό το σενάριο και να είστε προσεκτικοί όταν επιλέγετε μεταξύ αυτών των δύο λειτουργιών.\n",
        "\n",
        "statistics.mode() και statistics.multimode() να χειριστεί τις nan τιμές ως κανονικές τιμές και μπορεί να επιστρέψει nan ως η επικρατούσα τιμή:"
      ],
      "metadata": {
        "id": "ryHyoFjOvdeY"
      }
    },
    {
      "cell_type": "code",
      "source": [
        "statistics.mode([2, math.nan, 2])\n",
        "\n",
        "statistics.multimode([2, math.nan, 2])\n",
        "\n",
        "statistics.mode([2, math.nan, 0, math.nan, 5])\n",
        "\n",
        "statistics.multimode([2, math.nan, 0, math.nan, 5])"
      ],
      "metadata": {
        "colab": {
          "base_uri": "https://localhost:8080/"
        },
        "id": "Adf81TK-vnOC",
        "outputId": "edf711a9-fde9-4546-d3a6-0bc133a004a0"
      },
      "execution_count": 36,
      "outputs": [
        {
          "output_type": "execute_result",
          "data": {
            "text/plain": [
              "[nan]"
            ]
          },
          "metadata": {},
          "execution_count": 36
        }
      ]
    },
    {
      "cell_type": "markdown",
      "source": [
        "Στο πρώτο παράδειγμα παραπάνω, ο αριθμός 2 εμφανίζεται δύο φορές και είναι η επικρατούσα τιμή. Στο δεύτερο παράδειγμα, nan είναι η επικρατούσα τιμή αφού εμφανίζεται δύο φορές, ενώ οι άλλες τιμές εμφανίζονται μόνο μία φορά.\n",
        "\n",
        "**Σημείωση:** statistics.multimode() εισάγεται στην Python 3.8 .\n",
        "\n",
        "Μπορείτε επίσης να λάβετε τη λειτουργία με scipy.stats.mode():"
      ],
      "metadata": {
        "id": "gScurxc9vrY4"
      }
    },
    {
      "cell_type": "code",
      "source": [
        "u, v = np.array(u), np.array(v)\n",
        "mode_ = scipy.stats.mode(u)\n",
        "mode_\n",
        "\n",
        "mode_ = scipy.stats.mode(v)\n",
        "mode_"
      ],
      "metadata": {
        "colab": {
          "base_uri": "https://localhost:8080/"
        },
        "id": "cPdpbN5Ev2x4",
        "outputId": "ea9bd867-40c7-440f-ba12-869de8c9f61e"
      },
      "execution_count": 37,
      "outputs": [
        {
          "output_type": "execute_result",
          "data": {
            "text/plain": [
              "ModeResult(mode=array([12]), count=array([3]))"
            ]
          },
          "metadata": {},
          "execution_count": 37
        }
      ]
    },
    {
      "cell_type": "markdown",
      "source": [
        "Αυτή η συνάρτηση επιστρέφει το αντικείμενο με την τιμή και τον αριθμό των φορών που εμφανίζεται. Εάν υπάρχουν πολλές τροπικές τιμές στο σύνολο δεδομένων, τότε επιστρέφεται μόνο η μικρότερη τιμή.\n",
        "\n",
        "Μπορείτε να λάβετε τη λειτουργία και τον αριθμό των εμφανίσεών της ως πίνακες NumPy με σημειογραφία:"
      ],
      "metadata": {
        "id": "E8lsIVWrv7Bs"
      }
    },
    {
      "cell_type": "code",
      "source": [
        "mode_.mode\n",
        "\n",
        "mode_.count"
      ],
      "metadata": {
        "colab": {
          "base_uri": "https://localhost:8080/"
        },
        "id": "J-I7mSa2v_SI",
        "outputId": "f8caf53c-1ac0-4b9d-b051-e503bfcf5d93"
      },
      "execution_count": 38,
      "outputs": [
        {
          "output_type": "execute_result",
          "data": {
            "text/plain": [
              "array([3])"
            ]
          },
          "metadata": {},
          "execution_count": 38
        }
      ]
    },
    {
      "cell_type": "markdown",
      "source": [
        "Αυτός ο κώδικας χρησιμοποιείται .modeγια να επιστρέψει τη μικρότερη λειτουργία ( 12) στον πίνακα vκαι .countγια να επιστρέψει τον αριθμό των φορών που εμφανίζεται ( 3). scipy.stats.mode()είναι επίσης ευέλικτο με nanαξίες. Σας επιτρέπει να ορίσετε την επιθυμητή συμπεριφορά με την προαιρετική παράμετρο nan_policy. Αυτή η παράμετρος μπορεί να λάβει τις τιμές 'propagate', 'raise'(ένα σφάλμα) ή 'omit'.\n",
        "\n",
        "Τα αντικείμενα Pandas Series έχουν τη μέθοδο .mode() που χειρίζεται καλά τις επικρατούσες τιμές και αγνοεί τις nan τιμές από προεπιλογή:"
      ],
      "metadata": {
        "id": "gN64_BYawCb4"
      }
    },
    {
      "cell_type": "code",
      "source": [
        "u, v, w = pd.Series(u), pd.Series(v), pd.Series([2, 2, math.nan])\n",
        "u.mode()\n",
        "\n",
        "v.mode()\n",
        "\n",
        "w.mode()"
      ],
      "metadata": {
        "colab": {
          "base_uri": "https://localhost:8080/"
        },
        "id": "55ayIu31wLxy",
        "outputId": "63ec1df1-747b-40f5-864a-27f073fcfc2a"
      },
      "execution_count": 40,
      "outputs": [
        {
          "output_type": "execute_result",
          "data": {
            "text/plain": [
              "0    2.0\n",
              "dtype: float64"
            ]
          },
          "metadata": {},
          "execution_count": 40
        }
      ]
    },
    {
      "cell_type": "markdown",
      "source": [
        "Όπως μπορείτε να δείτε, .mode() επιστρέφει ένα νέο pd.Seriesπου περιέχει όλες τις τιμές τρόπων. Εάν θέλετε .mode() να λάβετε nan υπόψη τιμές, τότε απλώς περάστε το προαιρετικό όρισμα dropna=False."
      ],
      "metadata": {
        "id": "jIu_09GhwRck"
      }
    },
    {
      "cell_type": "markdown",
      "source": [
        "# **Μέτρα Μεταβλητότητας**\n",
        "Οι μετρήσεις της κεντρικής τάσης δεν επαρκούν για να περιγράψουν δεδομένα. Θα χρειαστείτε επίσης τα μέτρα μεταβλητότητας που ποσοτικοποιούν την εξάπλωση των σημείων δεδομένων. Σε αυτήν την ενότητα, θα μάθετε πώς να προσδιορίζετε και να υπολογίζετε τα ακόλουθα μέτρα μεταβλητότητας:\n",
        "\n",
        "Variance\n",
        "Standard deviation\n",
        "Skewness\n",
        "Percentiles\n",
        "Ranges\n",
        "\n",
        "Variance\n",
        "Η διακύμανση του δείγματος ποσοτικοποιεί την εξάπλωση των δεδομένων. Δείχνει αριθμητικά πόσο μακριά είναι τα σημεία δεδομένων από τη μέση τιμή. Μπορείτε να εκφράσετε τη διακύμανση του δείγματος του συνόλου δεδομένων 𝑥 με στοιχεία 𝑛 μαθηματικά ως 𝑠² = Σᵢ(𝑥ᵢ − mean(𝑥))² / (𝑛 − 1), όπου 𝑖 = 1, 2, …, 𝑛 και η μέση είναι(𝑥) το δείγμα μέσου όρου του 𝑥. Αν θέλετε να καταλάβετε βαθύτερα γιατί διαιρείτε το άθροισμα με 𝑛 − 1 αντί για 𝑛, τότε μπορείτε να βουτήξετε βαθύτερα στη διόρθωση του Bessel .\n",
        "\n",
        "Το παρακάτω σχήμα δείχνει γιατί είναι σημαντικό να λαμβάνεται υπόψη η διακύμανση κατά την περιγραφή συνόλων δεδομένων:\n",
        "![06.2cafb41d561e.png](data:image/png;base64,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)\n",
        "Υπάρχουν δύο σύνολα δεδομένων σε αυτό το σχήμα:\n",
        "\n",
        "--Πράσινες κουκκίδες: Αυτό το σύνολο δεδομένων έχει μικρότερη διακύμανση ή μικρότερη μέση διαφορά από τον μέσο όρο. Έχει επίσης μικρότερο εύρος ή μικρότερη διαφορά μεταξύ του μεγαλύτερου και του μικρότερου στοιχείου.\n",
        "--Λευκές κουκκίδες: Αυτό το σύνολο δεδομένων έχει μεγαλύτερη απόκλιση ή μεγαλύτερη μέση διαφορά από το μέσο όρο. Έχει επίσης μεγαλύτερη εμβέλεια ή μεγαλύτερη διαφορά μεταξύ του μεγαλύτερου και του μικρότερου στοιχείου.\n",
        "\n",
        "Σημειώστε ότι αυτά τα δύο σύνολα δεδομένων έχουν τον ίδιο μέσο όρο και διάμεσο, παρόλο που φαίνεται να διαφέρουν σημαντικά. Ούτε ο μέσος όρος ούτε ο διάμεσος μπορούν να περιγράψουν αυτή τη διαφορά. Γι' αυτό χρειάζεστε τα μέτρα μεταβλητότητας.\n",
        "\n",
        "Δείτε πώς μπορείτε να υπολογίσετε τη διακύμανση του δείγματος με καθαρή Python:"
      ],
      "metadata": {
        "id": "4L76xKFowWr-"
      }
    },
    {
      "cell_type": "code",
      "source": [
        "n = len(x)\n",
        "mean_ = sum(x) / n\n",
        "var_ = sum((item - mean_)**2 for item in x) / (n - 1)\n",
        "var_"
      ],
      "metadata": {
        "colab": {
          "base_uri": "https://localhost:8080/"
        },
        "id": "evLlNSA8w6aH",
        "outputId": "415e607f-f9d5-4e8c-ca5b-32808e5f3224"
      },
      "execution_count": 41,
      "outputs": [
        {
          "output_type": "execute_result",
          "data": {
            "text/plain": [
              "123.19999999999999"
            ]
          },
          "metadata": {},
          "execution_count": 41
        }
      ]
    },
    {
      "cell_type": "markdown",
      "source": [
        "Αυτή η προσέγγιση είναι επαρκής και υπολογίζει καλά τη διακύμανση του δείγματος. Ωστόσο, η συντομότερη και πιο κομψή λύση είναι να καλέσετε την υπάρχουσα συνάρτηση statistics.variance():"
      ],
      "metadata": {
        "id": "gMFLuo8Bw-l2"
      }
    },
    {
      "cell_type": "code",
      "source": [
        "var_ = statistics.variance(x)\n",
        "var_"
      ],
      "metadata": {
        "colab": {
          "base_uri": "https://localhost:8080/"
        },
        "id": "OVYvRTFrxBR5",
        "outputId": "0376c089-462b-49f5-9006-d5c4e185be76"
      },
      "execution_count": 42,
      "outputs": [
        {
          "output_type": "execute_result",
          "data": {
            "text/plain": [
              "123.2"
            ]
          },
          "metadata": {},
          "execution_count": 42
        }
      ]
    },
    {
      "cell_type": "markdown",
      "source": [
        "Έχετε το ίδιο αποτέλεσμα για τη διακύμανση όπως παραπάνω. variance() μπορεί να αποφύγει τον υπολογισμό του μέσου όρου εάν παρέχετε ρητά τον μέσο όρο ως δεύτερο όρισμα: statistics.variance(x, mean_).\n",
        "\n",
        "Εάν έχετε nanτιμές μεταξύ των δεδομένων σας, τότε statistics.variance() θα επιστρέψετε nan:"
      ],
      "metadata": {
        "id": "z4Xfx4MkxE09"
      }
    },
    {
      "cell_type": "code",
      "source": [
        "statistics.variance(x_with_nan)"
      ],
      "metadata": {
        "colab": {
          "base_uri": "https://localhost:8080/"
        },
        "id": "uYMxJ1dJxJ0-",
        "outputId": "352cef5c-acf3-45d1-f839-87394e2f401f"
      },
      "execution_count": 43,
      "outputs": [
        {
          "output_type": "execute_result",
          "data": {
            "text/plain": [
              "nan"
            ]
          },
          "metadata": {},
          "execution_count": 43
        }
      ]
    },
    {
      "cell_type": "markdown",
      "source": [
        "Αυτή η συμπεριφορά είναι συνεπής και με mean() τις περισσότερες άλλες συναρτήσεις από τη statistics βιβλιοθήκη Python.\n",
        "\n",
        "Μπορείτε επίσης να υπολογίσετε τη διακύμανση του δείγματος με το NumPy. Θα πρέπει να χρησιμοποιήσετε τη συνάρτηση np.var() ή την αντίστοιχη μέθοδο .var():"
      ],
      "metadata": {
        "id": "ULtjbS6dxNi0"
      }
    },
    {
      "cell_type": "code",
      "source": [
        "var_ = np.var(y, ddof=1)\n",
        "var_\n",
        "\n",
        "var_ = y.var(ddof=1)\n",
        "var_"
      ],
      "metadata": {
        "colab": {
          "base_uri": "https://localhost:8080/"
        },
        "id": "KbuNOd-ixSq6",
        "outputId": "74377fa2-7a71-405a-a700-3ccd2aea3e76"
      },
      "execution_count": 44,
      "outputs": [
        {
          "output_type": "execute_result",
          "data": {
            "text/plain": [
              "123.19999999999999"
            ]
          },
          "metadata": {},
          "execution_count": 44
        }
      ]
    },
    {
      "cell_type": "markdown",
      "source": [
        "Είναι πολύ σημαντικό να καθορίσετε την παράμετρο ddof=1. Έτσι ορίζετε τους βαθμούς δέλτα ελευθερίας σε 1. Αυτή η παράμετρος επιτρέπει τον σωστό υπολογισμό του 𝑠², με (𝑛 − 1) στον παρονομαστή αντί για 𝑛.\n",
        "\n",
        "Εάν έχετε nan τιμές στο σύνολο δεδομένων, τότε np.var() και .var() θα επιστρέψει nan:"
      ],
      "metadata": {
        "id": "1vWfwvtFxV_2"
      }
    },
    {
      "cell_type": "code",
      "source": [
        "np.var(y_with_nan, ddof=1)\n",
        "\n",
        "y_with_nan.var(ddof=1)"
      ],
      "metadata": {
        "colab": {
          "base_uri": "https://localhost:8080/"
        },
        "id": "27mEM6kdxccA",
        "outputId": "8e791cbd-9f8c-4e2e-afdb-b59723641d12"
      },
      "execution_count": 45,
      "outputs": [
        {
          "output_type": "execute_result",
          "data": {
            "text/plain": [
              "nan"
            ]
          },
          "metadata": {},
          "execution_count": 45
        }
      ]
    },
    {
      "cell_type": "markdown",
      "source": [
        "Αυτό συνάδει με np.mean() και np.average(). Εάν θέλετε να παραλείψετε nan τιμές, τότε θα πρέπει να χρησιμοποιήσετε np.nanvar():"
      ],
      "metadata": {
        "id": "zwLOJSCCxgH0"
      }
    },
    {
      "cell_type": "code",
      "source": [
        "np.nanvar(y_with_nan, ddof=1)"
      ],
      "metadata": {
        "colab": {
          "base_uri": "https://localhost:8080/"
        },
        "id": "MBVoXj51xlOk",
        "outputId": "3275d5cc-bfc8-4c69-ce5b-7b87fb716433"
      },
      "execution_count": 46,
      "outputs": [
        {
          "output_type": "execute_result",
          "data": {
            "text/plain": [
              "123.19999999999999"
            ]
          },
          "metadata": {},
          "execution_count": 46
        }
      ]
    },
    {
      "cell_type": "markdown",
      "source": [
        "np.nanvar() αγνοεί τις nan αξίες. Χρειάζεται επίσης να προσδιορίσετε ddof=1.\n",
        "\n",
        "pd.Series Τα αντικείμενα έχουν τη μέθοδο .var() που παραλείπει nan τις τιμές από προεπιλογή:"
      ],
      "metadata": {
        "id": "qbL12VWFxoHx"
      }
    },
    {
      "cell_type": "code",
      "source": [
        "z.var(ddof=1)\n",
        "\n",
        "z_with_nan.var(ddof=1)"
      ],
      "metadata": {
        "colab": {
          "base_uri": "https://localhost:8080/"
        },
        "id": "f2N7-YWSxvro",
        "outputId": "638aa72f-e6f8-4974-cfad-2cd026effbd3"
      },
      "execution_count": 47,
      "outputs": [
        {
          "output_type": "execute_result",
          "data": {
            "text/plain": [
              "123.19999999999999"
            ]
          },
          "metadata": {},
          "execution_count": 47
        }
      ]
    },
    {
      "cell_type": "markdown",
      "source": [
        "Έχει επίσης την παράμετρο ddof, αλλά η προεπιλεγμένη τιμή του είναι 1, οπότε μπορείτε να την παραλείψετε. Εάν θέλετε μια διαφορετική συμπεριφορά που σχετίζεται με nanτιμές, χρησιμοποιήστε την προαιρετική παράμετρο skipna.\n",
        "\n",
        "Υπολογίζετε τη διακύμανση του πληθυσμού παρόμοια με τη διακύμανση του δείγματος. Ωστόσο, πρέπει να χρησιμοποιήσετε το 𝑛 στον παρονομαστή αντί για το 𝑛 − 1: Σᵢ(𝑥ᵢ − mean(𝑥))² / 𝑛. Σε αυτήν την περίπτωση, 𝑛 είναι ο αριθμός των στοιχείων σε ολόκληρο τον πληθυσμό. Μπορείτε να λάβετε τη διακύμανση πληθυσμού παρόμοια με τη διακύμανση του δείγματος, με τις ακόλουθες διαφορές:\n",
        "\n",
        "Αντικατάσταση (n - 1) με nστην καθαρή υλοποίηση Python.\n",
        "Χρησιμοποιήστε statistics.pvariance() αντί για statistics.variance().\n",
        "Καθορίστε την παράμετρο ddof=0εάν χρησιμοποιείτε NumPy ή Panda. Στο NumPy, μπορείτε να παραλείψετε ddof επειδή η προεπιλεγμένη τιμή του είναι 0.\n",
        "Σημειώστε ότι πρέπει πάντα να γνωρίζετε εάν εργάζεστε με ένα δείγμα ή με ολόκληρο τον πληθυσμό όποτε υπολογίζετε τη διακύμανση!"
      ],
      "metadata": {
        "id": "8aDey4CCxy_y"
      }
    },
    {
      "cell_type": "markdown",
      "source": [
        "# **Τυπική απόκλιση**\n",
        "Η τυπική απόκλιση του δείγματος είναι ένα άλλο μέτρο της διασποράς δεδομένων. Συνδέεται με τη διακύμανση του δείγματος, καθώς η τυπική απόκλιση, 𝑠, είναι η θετική τετραγωνική ρίζα της διακύμανσης του δείγματος. Η τυπική απόκλιση είναι συχνά πιο βολική από τη διακύμανση επειδή έχει την ίδια μονάδα με τα σημεία δεδομένων. Μόλις λάβετε τη διακύμανση, μπορείτε να υπολογίσετε την τυπική απόκλιση με καθαρή Python:"
      ],
      "metadata": {
        "id": "68ltvnX8x7Qw"
      }
    },
    {
      "cell_type": "code",
      "source": [
        "std_ = var_ ** 0.5\n",
        "std_"
      ],
      "metadata": {
        "colab": {
          "base_uri": "https://localhost:8080/"
        },
        "id": "wYlw7e42x_12",
        "outputId": "e63a3c1f-7c3d-4f6e-d40b-3cca34ea3fb8"
      },
      "execution_count": 48,
      "outputs": [
        {
          "output_type": "execute_result",
          "data": {
            "text/plain": [
              "11.099549540409285"
            ]
          },
          "metadata": {},
          "execution_count": 48
        }
      ]
    },
    {
      "cell_type": "markdown",
      "source": [
        "Αν και αυτή η λύση λειτουργεί, μπορείτε επίσης να χρησιμοποιήσετε statistics.stdev():"
      ],
      "metadata": {
        "id": "ex1jHKZHyC6T"
      }
    },
    {
      "cell_type": "code",
      "source": [
        "std_ = statistics.stdev(x)\n",
        "std_"
      ],
      "metadata": {
        "colab": {
          "base_uri": "https://localhost:8080/"
        },
        "id": "7K41br6QyGJW",
        "outputId": "392fdb75-5905-4b85-f437-8c52d74b0741"
      },
      "execution_count": 49,
      "outputs": [
        {
          "output_type": "execute_result",
          "data": {
            "text/plain": [
              "11.099549540409287"
            ]
          },
          "metadata": {},
          "execution_count": 49
        }
      ]
    },
    {
      "cell_type": "markdown",
      "source": [
        "Φυσικά το αποτέλεσμα είναι το ίδιο με πριν. Όπως variance(), stdev() το , δεν υπολογίζει τη μέση τιμή εάν το παρέχετε ρητά ως το δεύτερο όρισμα: statistics.stdev(x, mean_).\n",
        "\n",
        "Μπορείτε να λάβετε την τυπική απόκλιση με το NumPy σχεδόν με τον ίδιο τρόπο. Μπορείτε να χρησιμοποιήσετε τη συνάρτηση std() και την αντίστοιχη μέθοδο .std() για να υπολογίσετε την τυπική απόκλιση. Εάν υπάρχουν nanτιμές στο σύνολο δεδομένων, τότε θα επιστρέψουν nan. Για να αγνοήσετε nanτις τιμές, θα πρέπει να χρησιμοποιήσετε np.nanstd(). Χρησιμοποιείτε std(), .std(), και nanstd() από το NumPy όπως θα χρησιμοποιούσατε var(), .var()και nanvar():"
      ],
      "metadata": {
        "id": "OoRRylr5yJXs"
      }
    },
    {
      "cell_type": "code",
      "source": [
        "np.std(y, ddof=1)\n",
        "\n",
        "y.std(ddof=1)\n",
        "\n",
        "np.std(y_with_nan, ddof=1)\n",
        "\n",
        "y_with_nan.std(ddof=1)\n",
        "\n",
        "np.nanstd(y_with_nan, ddof=1)"
      ],
      "metadata": {
        "colab": {
          "base_uri": "https://localhost:8080/"
        },
        "id": "G-19X-K4yTaI",
        "outputId": "39a84da8-2672-469f-8b82-1ea29075b835"
      },
      "execution_count": 50,
      "outputs": [
        {
          "output_type": "execute_result",
          "data": {
            "text/plain": [
              "11.099549540409285"
            ]
          },
          "metadata": {},
          "execution_count": 50
        }
      ]
    },
    {
      "cell_type": "markdown",
      "source": [
        "Μην ξεχάσετε να ορίσετε τους δέλτα βαθμούς ελευθερίας σε 1!\n",
        "\n",
        "pd.Series Τα αντικείμενα έχουν επίσης τη μέθοδο .std() που παρακάμπτει nan από προεπιλογή:"
      ],
      "metadata": {
        "id": "ctZXW-k5yXyU"
      }
    },
    {
      "cell_type": "code",
      "source": [
        "z.std(ddof=1)\n",
        "\n",
        "z_with_nan.std(ddof=1)"
      ],
      "metadata": {
        "colab": {
          "base_uri": "https://localhost:8080/"
        },
        "id": "AF9I4r4nycTo",
        "outputId": "af1689cd-81d5-4c5a-8b9e-7dff70f114b6"
      },
      "execution_count": 51,
      "outputs": [
        {
          "output_type": "execute_result",
          "data": {
            "text/plain": [
              "11.099549540409285"
            ]
          },
          "metadata": {},
          "execution_count": 51
        }
      ]
    },
    {
      "cell_type": "markdown",
      "source": [
        "Η παράμετρος ddofείναι προεπιλεγμένη σε 1, ώστε να μπορείτε να την παραλείψετε. Και πάλι, εάν θέλετε να αντιμετωπίζετε nanτις τιμές διαφορετικά, εφαρμόστε την παράμετρο skipna.\n",
        "\n",
        "Η τυπική απόκλιση πληθυσμού αναφέρεται σε ολόκληρο τον πληθυσμό. Είναι η θετική τετραγωνική ρίζα της διακύμανσης του πληθυσμού. Μπορείτε να το υπολογίσετε ακριβώς όπως το δείγμα τυπικής απόκλισης, με τις ακόλουθες διαφορές:\n",
        "\n",
        "Βρείτε την τετραγωνική ρίζα της διακύμανσης του πληθυσμού στην καθαρή υλοποίηση Python.\n",
        "Χρησιμοποιήστε statistics.pstdev() αντί για statistics.stdev().\n",
        "Καθορίστε την παράμετρο ddof=0εάν χρησιμοποιείτε NumPy ή Panda. Στο NumPy, μπορείτε να παραλείψετε ddofεπειδή η προεπιλεγμένη τιμή του είναι 0.\n",
        "Όπως μπορείτε να δείτε, μπορείτε να προσδιορίσετε την τυπική απόκλιση στα Python, NumPy και Pandas σχεδόν με τον ίδιο τρόπο που προσδιορίζετε τη διακύμανση. Χρησιμοποιείτε διαφορετικές αλλά ανάλογες συναρτήσεις και μεθόδους με τα ίδια ορίσματα."
      ],
      "metadata": {
        "id": "NtjYVXheyfI8"
      }
    },
    {
      "cell_type": "markdown",
      "source": [
        "# **Ασυμμετρία**\n",
        "Η Ασυμμετρία (λοξότητα) του δείγματος μετρά την ασυμμετρία ενός δείγματος δεδομένων.\n",
        "Υπάρχουν αρκετοί μαθηματικοί ορισμοί της Ασυμμετρίας. Μια κοινή έκφραση για τον υπολογισμό της του συνόλου δεδομένων 𝑥 με στοιχεία 𝑛 είναι (𝑛² / ((𝑛 − 1)(𝑛 − 2))) (Σᵢ(𝑥ᵢ − mean(𝑥))³ / (𝑛𝑠³)). Μια απλούστερη έκφραση είναι Σᵢ(𝑥ᵢ − mean(𝑥))³ 𝑛 / ((𝑛 − 1)(𝑛 − 2)𝑠³), όπου 𝑖 = 1, 2, …, 𝑛 και mean(𝑥) είναι το δείγμα 𝑥. Η Ασυμμετρία που ορίζεται έτσι ονομάζεται προσαρμοσμένος τυποποιημένος συντελεστής ροπής Fisher-Pearson.\n",
        "\n",
        "Το προηγούμενο σχήμα έδειξε δύο σύνολα δεδομένων που ήταν αρκετά συμμετρικά. Με άλλα λόγια, τα σημεία τους είχαν παρόμοιες αποστάσεις από τον μέσο όρο. Αντίθετα, η ακόλουθη εικόνα απεικονίζει δύο ασύμμετρα σύνολα:\n",
        "![07.92abf9f362b0.png](data:image/png;base64,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)\n",
        "Το πρώτο σετ αντιπροσωπεύεται από τις πράσινες κουκκίδες και το δεύτερο με τις λευκές. Συνήθως, οι αρνητικές τιμές λοξότητας υποδεικνύουν ότι υπάρχει μια κυρίαρχη ουρά στην αριστερή πλευρά, την οποία μπορείτε να δείτε με το πρώτο σετ. Οι θετικές τιμές λοξότητας αντιστοιχούν σε μια μακρύτερη ή πιο παχιά ουρά στη δεξιά πλευρά, την οποία μπορείτε να δείτε στο δεύτερο σετ. Εάν η λοξότητα είναι κοντά στο 0 (για παράδειγμα, μεταξύ −0,5 και 0,5), τότε το σύνολο δεδομένων θεωρείται αρκετά συμμετρικό.\n",
        "\n",
        "Αφού υπολογίσετε το μέγεθος του συνόλου δεδομένων σας n, τη μέση τιμή του δείγματος mean_και την τυπική απόκλιση std_, μπορείτε να λάβετε τη λοξότητα του δείγματος με καθαρή Python:"
      ],
      "metadata": {
        "id": "sunLKi_JymaJ"
      }
    },
    {
      "cell_type": "code",
      "source": [
        "x = [8.0, 1, 2.5, 4, 28.0]\n",
        "n = len(x)\n",
        "mean_ = sum(x) / n\n",
        "var_ = sum((item - mean_)**2 for item in x) / (n - 1)\n",
        "std_ = var_ ** 0.5\n",
        "skew_ = (sum((item - mean_)**3 for item in x)\n",
        "         * n / ((n - 1) * (n - 2) * std_**3))\n",
        "skew_"
      ],
      "metadata": {
        "colab": {
          "base_uri": "https://localhost:8080/"
        },
        "id": "w9GLCfG_zTOc",
        "outputId": "29fe40fe-a543-4074-96de-f84d3793ada5"
      },
      "execution_count": 52,
      "outputs": [
        {
          "output_type": "execute_result",
          "data": {
            "text/plain": [
              "1.9470432273905929"
            ]
          },
          "metadata": {},
          "execution_count": 52
        }
      ]
    },
    {
      "cell_type": "markdown",
      "source": [
        "Η λοξότητα είναι θετική, έτσι xέχει και μια δεξιά ουρά.\n",
        "\n",
        "Μπορείτε επίσης να υπολογίσετε τη λοξότητα του δείγματος με scipy.stats.skew():"
      ],
      "metadata": {
        "id": "WwenqaXHzWdc"
      }
    },
    {
      "cell_type": "code",
      "source": [
        "y, y_with_nan = np.array(x), np.array(x_with_nan)\n",
        "scipy.stats.skew(y, bias=False)\n",
        "\n",
        "scipy.stats.skew(y_with_nan, bias=False)"
      ],
      "metadata": {
        "colab": {
          "base_uri": "https://localhost:8080/"
        },
        "id": "1hlDSdfdzZOC",
        "outputId": "3f561dfc-5ae2-4265-f00f-f4585c6b18fd"
      },
      "execution_count": 53,
      "outputs": [
        {
          "output_type": "execute_result",
          "data": {
            "text/plain": [
              "nan"
            ]
          },
          "metadata": {},
          "execution_count": 53
        }
      ]
    },
    {
      "cell_type": "markdown",
      "source": [
        "Το αποτέλεσμα που προκύπτει είναι το ίδιο με την καθαρή υλοποίηση Python. Η παράμετρος biasέχει οριστεί για Falseνα ενεργοποιηθούν οι διορθώσεις για στατιστική μεροληψία. Η προαιρετική παράμετρος nan_policyμπορεί να λάβει τις τιμές 'propagate', 'raise'ή 'omit'. Σας επιτρέπει να ελέγχετε πώς θα χειρίζεστε τις nanτιμές.\n",
        "\n",
        "Τα αντικείμενα Pandas Seriesέχουν τη μέθοδο .skew()που επιστρέφει επίσης τη λοξότητα ενός συνόλου δεδομένων:"
      ],
      "metadata": {
        "id": "2qXCPmiczc_w"
      }
    },
    {
      "cell_type": "code",
      "source": [
        "z, z_with_nan = pd.Series(x), pd.Series(x_with_nan)\n",
        "z.skew()\n",
        "\n",
        "z_with_nan.skew()"
      ],
      "metadata": {
        "colab": {
          "base_uri": "https://localhost:8080/"
        },
        "id": "6NbzVU94zgUY",
        "outputId": "e5ead4b7-14e5-4ed1-f3f1-a81364026f00"
      },
      "execution_count": 54,
      "outputs": [
        {
          "output_type": "execute_result",
          "data": {
            "text/plain": [
              "1.9470432273905924"
            ]
          },
          "metadata": {},
          "execution_count": 54
        }
      ]
    },
    {
      "cell_type": "markdown",
      "source": [
        "Όπως και άλλες μέθοδοι, .skew() αγνοεί τις nan τιμές από προεπιλογή, λόγω της προεπιλεγμένης τιμής της προαιρετικής παραμέτρου skipna."
      ],
      "metadata": {
        "id": "MvfmM8_ozjdW"
      }
    },
    {
      "cell_type": "markdown",
      "source": [
        "# **Εκατοστημόριο**\n",
        "Το δείγμα 𝑝 εκατοστημόριο είναι το στοιχείο στο σύνολο δεδομένων έτσι ώστε το 𝑝% των στοιχείων στο σύνολο δεδομένων είναι μικρότερο ή ίσο με αυτήν την τιμή. Επίσης, το (100 − 𝑝)% των στοιχείων είναι μεγαλύτερο ή ίσο με αυτήν την τιμή. Εάν υπάρχουν δύο τέτοια στοιχεία στο σύνολο δεδομένων, τότε το δείγμα 𝑝 εκατοστημόριο είναι ο αριθμητικός μέσος όρος τους. Κάθε σύνολο δεδομένων έχει τρία τεταρτημόρια , τα οποία είναι τα εκατοστημόρια που χωρίζουν το σύνολο δεδομένων σε τέσσερα μέρη:\n",
        "\n",
        "Το πρώτο τεταρτημόριο είναι το δείγμα 25ο εκατοστημόριο. Διαχωρίζει περίπου το 25% των μικρότερων στοιχείων από το υπόλοιπο σύνολο δεδομένων.\n",
        "Το δεύτερο τεταρτημόριο είναι το δείγμα 50ο εκατοστημόριο ή η διάμεσος . Περίπου το 25% των στοιχείων βρίσκεται μεταξύ του πρώτου και του δεύτερου τεταρτημορίου και ένα άλλο 25% μεταξύ του δεύτερου και του τρίτου τεταρτημορίου.\n",
        "Το τρίτο τεταρτημόριο είναι το δείγμα 75ο εκατοστημόριο. Διαχωρίζει περίπου το 25% των μεγαλύτερων στοιχείων από το υπόλοιπο σύνολο δεδομένων.\n",
        "Κάθε μέρος έχει περίπου τον ίδιο αριθμό αντικειμένων. Εάν θέλετε να διαιρέσετε τα δεδομένα σας σε πολλά διαστήματα, τότε μπορείτε να χρησιμοποιήσετε statistics.quantiles():"
      ],
      "metadata": {
        "id": "snE5_H47zoOG"
      }
    },
    {
      "cell_type": "code",
      "source": [
        "x = [-5.0, -1.1, 0.1, 2.0, 8.0, 12.8, 21.0, 25.8, 41.0]\n",
        "statistics.quantiles(x, n=2)\n",
        "\n",
        "statistics.quantiles(x, n=4, method='inclusive')"
      ],
      "metadata": {
        "colab": {
          "base_uri": "https://localhost:8080/"
        },
        "id": "ZYn_YotyzyqL",
        "outputId": "9ff2b946-966c-4bb8-b566-32cb50c24afb"
      },
      "execution_count": 55,
      "outputs": [
        {
          "output_type": "execute_result",
          "data": {
            "text/plain": [
              "[0.1, 8.0, 21.0]"
            ]
          },
          "metadata": {},
          "execution_count": 55
        }
      ]
    },
    {
      "cell_type": "markdown",
      "source": [
        "Σε αυτό το παράδειγμα, 8.0είναι η διάμεσος του x, ενώ 0.1 και 21.0 είναι το δείγμα 25ης και 75ης εκατοστιαίας θέσης, αντίστοιχα. Η παράμετρος nορίζει τον αριθμό των εκατοστημόνων ίσων πιθανοτήτων που προκύπτουν και method καθορίζει τον τρόπο υπολογισμού τους.\n",
        "\n",
        "Σημείωση: statistics.quantiles() εισάγεται στην Python 3.8 .\n",
        "\n",
        "Μπορείτε επίσης να το χρησιμοποιήσετε np.percentile() για να προσδιορίσετε οποιοδήποτε εκατοστημόριο δείγματος στο σύνολο δεδομένων σας. Για παράδειγμα, έτσι μπορείτε να βρείτε την 5η και την 95η εκατοστιαία θέση:"
      ],
      "metadata": {
        "id": "tE_fdwX7z1m6"
      }
    },
    {
      "cell_type": "code",
      "source": [
        "y = np.array(x)\n",
        "np.percentile(y, 5)\n",
        "\n",
        "np.percentile(y, 95)"
      ],
      "metadata": {
        "colab": {
          "base_uri": "https://localhost:8080/"
        },
        "id": "pQgzDBhbz9uq",
        "outputId": "cdf0b37f-aae7-479f-b01e-2ba0f574922e"
      },
      "execution_count": 56,
      "outputs": [
        {
          "output_type": "execute_result",
          "data": {
            "text/plain": [
              "34.919999999999995"
            ]
          },
          "metadata": {},
          "execution_count": 56
        }
      ]
    },
    {
      "cell_type": "markdown",
      "source": [
        "percentile() παίρνει πολλά επιχειρήματα. Πρέπει να παρέχετε το σύνολο δεδομένων ως πρώτο όρισμα και την τιμή εκατοστημόριου ως δεύτερο. Το σύνολο δεδομένων μπορεί να έχει τη μορφή πίνακα NumPy, λίστας, πλειάδας ή παρόμοιας δομής δεδομένων. Το εκατοστημόριο μπορεί να είναι ένας αριθμός μεταξύ 0 και 100 όπως στο παραπάνω παράδειγμα, αλλά μπορεί επίσης να είναι μια ακολουθία αριθμών:"
      ],
      "metadata": {
        "id": "QqqfFU6P0BJu"
      }
    },
    {
      "cell_type": "code",
      "source": [
        "np.percentile(y, [25, 50, 75])\n",
        "\n",
        "np.median(y)"
      ],
      "metadata": {
        "colab": {
          "base_uri": "https://localhost:8080/"
        },
        "id": "aqEf1EO10FNr",
        "outputId": "8b70c4bd-6b61-4a8d-d163-29a3354370f5"
      },
      "execution_count": 57,
      "outputs": [
        {
          "output_type": "execute_result",
          "data": {
            "text/plain": [
              "8.0"
            ]
          },
          "metadata": {},
          "execution_count": 57
        }
      ]
    },
    {
      "cell_type": "markdown",
      "source": [
        "Αυτός ο κωδικός υπολογίζει το 25ο, το 50ο και το 75ο εκατοστημόριο ταυτόχρονα. Εάν η τιμή εκατοστημόριου είναι μια ακολουθία, τότε percentile() επιστρέφει έναν πίνακα NumPy με τα αποτελέσματα. Η πρώτη πρόταση επιστρέφει τη διάταξη των τεταρτημορίων. Η δεύτερη πρόταση επιστρέφει τη διάμεσο, ώστε να μπορείτε να επιβεβαιώσετε ότι είναι ίσο με το 50ο εκατοστημόριο, που είναι 8.0.\n",
        "\n",
        "Εάν θέλετε να αγνοήσετε nan τιμές, χρησιμοποιήστε np.nanpercentile() αντ' αυτού:"
      ],
      "metadata": {
        "id": "_qq6gFwx0H9k"
      }
    },
    {
      "cell_type": "code",
      "source": [
        "y_with_nan = np.insert(y, 2, np.nan)\n",
        "y_with_nan\n",
        "\n",
        "np.nanpercentile(y_with_nan, [25, 50, 75])"
      ],
      "metadata": {
        "colab": {
          "base_uri": "https://localhost:8080/"
        },
        "id": "DIv0V_AJ0NpK",
        "outputId": "f4123aa3-e4ca-42bb-d59b-846f70edde06"
      },
      "execution_count": 58,
      "outputs": [
        {
          "output_type": "execute_result",
          "data": {
            "text/plain": [
              "array([ 0.1,  8. , 21. ])"
            ]
          },
          "metadata": {},
          "execution_count": 58
        }
      ]
    },
    {
      "cell_type": "markdown",
      "source": [
        "Έτσι μπορείς να αποφύγεις nan τις αξίες.\n",
        "\n",
        "Το NumPy σας προσφέρει επίσης πολύ παρόμοια λειτουργικότητα σε quantile() και nanquantile(). Εάν τα χρησιμοποιείτε, τότε θα πρέπει να παρέχετε τις τιμές των ποσοστών ως αριθμούς μεταξύ 0 και 1 αντί για εκατοστημόρια:"
      ],
      "metadata": {
        "id": "lOvdRjrF0QmB"
      }
    },
    {
      "cell_type": "code",
      "source": [
        "np.quantile(y, 0.05)\n",
        "\n",
        "np.quantile(y, 0.95)\n",
        "\n",
        "np.quantile(y, [0.25, 0.5, 0.75])\n",
        "\n",
        "np.nanquantile(y_with_nan, [0.25, 0.5, 0.75])"
      ],
      "metadata": {
        "colab": {
          "base_uri": "https://localhost:8080/"
        },
        "id": "nAKMQnpu0WAv",
        "outputId": "04c428ce-aee4-493e-e1ab-6e48809341ff"
      },
      "execution_count": 59,
      "outputs": [
        {
          "output_type": "execute_result",
          "data": {
            "text/plain": [
              "array([ 0.1,  8. , 21. ])"
            ]
          },
          "metadata": {},
          "execution_count": 59
        }
      ]
    },
    {
      "cell_type": "markdown",
      "source": [
        "Τα αποτελέσματα είναι τα ίδια με τα προηγούμενα παραδείγματα, αλλά εδώ τα ορίσματά σας είναι μεταξύ 0 και 1. Με άλλα λόγια, περάσατε 0.05 αντί για 5 και 0.95 αντί για 95.\n",
        "\n",
        "pd.Seriesτα αντικείμενα έχουν τη μέθοδο .quantile():"
      ],
      "metadata": {
        "id": "f3BUmLiL0ZZe"
      }
    },
    {
      "cell_type": "code",
      "source": [
        "z, z_with_nan = pd.Series(y), pd.Series(y_with_nan)\n",
        "z.quantile(0.05)\n",
        "\n",
        "z.quantile(0.95)\n",
        "\n",
        "z.quantile([0.25, 0.5, 0.75])\n",
        "\n",
        "z_with_nan.quantile([0.25, 0.5, 0.75])"
      ],
      "metadata": {
        "colab": {
          "base_uri": "https://localhost:8080/"
        },
        "id": "poeHtI3L0e0y",
        "outputId": "249bafb2-9177-4ea3-e2b7-621f0773dfb6"
      },
      "execution_count": 60,
      "outputs": [
        {
          "output_type": "execute_result",
          "data": {
            "text/plain": [
              "0.25     0.1\n",
              "0.50     8.0\n",
              "0.75    21.0\n",
              "dtype: float64"
            ]
          },
          "metadata": {},
          "execution_count": 60
        }
      ]
    },
    {
      "cell_type": "markdown",
      "source": [
        ".quantile() Επίσης χρειάζεται να παρέχετε την τιμή ποσοτικού ως όρισμα. Αυτή η τιμή μπορεί να είναι ένας αριθμός μεταξύ 0 και 1 ή μια ακολουθία αριθμών. Στην πρώτη περίπτωση, .quantile() επιστρέφει ένα βαθμωτό. Στη δεύτερη περίπτωση, επιστρέφει ένα νέο Series κρατώντας τα αποτελέσματα."
      ],
      "metadata": {
        "id": "4xIzPMp40kLm"
      }
    },
    {
      "cell_type": "markdown",
      "source": [
        "# **Εύρος**\n",
        "Το εύρος δεδομένων είναι η διαφορά μεταξύ του μέγιστου και του ελάχιστου στοιχείου στο σύνολο δεδομένων. Μπορείτε να το αποκτήσετε με τη λειτουργία np.ptp():"
      ],
      "metadata": {
        "id": "A9x5euNl0p8w"
      }
    },
    {
      "cell_type": "code",
      "source": [
        "np.ptp(y)\n",
        "\n",
        "np.ptp(z)\n",
        "\n",
        "np.ptp(y_with_nan)\n",
        "\n",
        "np.ptp(z_with_nan)"
      ],
      "metadata": {
        "colab": {
          "base_uri": "https://localhost:8080/"
        },
        "id": "C6dvVm_Q0x3u",
        "outputId": "c6eea0e0-9aba-48e9-9cb8-f4ae3bf4e411"
      },
      "execution_count": 61,
      "outputs": [
        {
          "output_type": "execute_result",
          "data": {
            "text/plain": [
              "nan"
            ]
          },
          "metadata": {},
          "execution_count": 61
        }
      ]
    },
    {
      "cell_type": "markdown",
      "source": [
        "Αυτή η συνάρτηση επιστρέφει nanεάν υπάρχουν nanτιμές στον πίνακα NumPy. Εάν χρησιμοποιείτε ένα Seriesαντικείμενο Pandas, τότε θα επιστρέψει έναν αριθμό.\n",
        "\n",
        "Εναλλακτικά, μπορείτε να χρησιμοποιήσετε ενσωματωμένες συναρτήσεις και μεθόδους Python, NumPy ή Pandas για να υπολογίσετε τα μέγιστα και τα ελάχιστα των ακολουθιών:\n",
        "\n",
        "max()και min()από την τυπική βιβλιοθήκη Python\n",
        "amax()και amin()από το NumPy\n",
        "nanmax()και nanmin()από το NumPy για να αγνοήσει nanτις τιμές\n",
        ".max()και .min()από το NumPy\n",
        ".max()και .min()από το Pandas να αγνοήσει nanτις τιμές από προεπιλογή\n",
        "Ακολουθούν μερικά παραδείγματα για το πώς θα χρησιμοποιούσατε αυτές τις ρουτίνες:"
      ],
      "metadata": {
        "id": "-VWlQTRP01Z2"
      }
    },
    {
      "cell_type": "code",
      "source": [
        "np.amax(y) - np.amin(y)\n",
        "\n",
        "np.nanmax(y_with_nan) - np.nanmin(y_with_nan)\n",
        "\n",
        "y.max() - y.min()\n",
        "\n",
        "z.max() - z.min()\n",
        "\n",
        "z_with_nan.max() - z_with_nan.min()"
      ],
      "metadata": {
        "colab": {
          "base_uri": "https://localhost:8080/"
        },
        "id": "ojz-Cz3R1IvU",
        "outputId": "7541d56d-e2ae-492f-a271-e67545c09d92"
      },
      "execution_count": 63,
      "outputs": [
        {
          "output_type": "execute_result",
          "data": {
            "text/plain": [
              "46.0"
            ]
          },
          "metadata": {},
          "execution_count": 63
        }
      ]
    },
    {
      "cell_type": "markdown",
      "source": [
        "Έτσι λαμβάνετε το εύρος των δεδομένων.\n",
        "\n",
        "Το διατεταρτημόριο είναι η διαφορά μεταξύ του πρώτου και του τρίτου τεταρτημορίου. Αφού υπολογίσετε τα τεταρτημόρια, μπορείτε να πάρετε τη διαφορά τους:"
      ],
      "metadata": {
        "id": "nn0dy4SV1Pxc"
      }
    },
    {
      "cell_type": "code",
      "source": [
        "quartiles = np.quantile(y, [0.25, 0.75])\n",
        "quartiles[1] - quartiles[0]\n",
        "\n",
        "quartiles = z.quantile([0.25, 0.75])\n",
        "quartiles[0.75] - quartiles[0.25]\n"
      ],
      "metadata": {
        "colab": {
          "base_uri": "https://localhost:8080/"
        },
        "id": "seFbyUSe1Uqo",
        "outputId": "12952ee3-6288-4568-c50f-cb23834de1c5"
      },
      "execution_count": 64,
      "outputs": [
        {
          "output_type": "execute_result",
          "data": {
            "text/plain": [
              "20.9"
            ]
          },
          "metadata": {},
          "execution_count": 64
        }
      ]
    },
    {
      "cell_type": "markdown",
      "source": [
        "Σημειώστε ότι έχετε πρόσβαση στις τιμές σε ένα αντικείμενο Pandas Series με τις ετικέτες 0.75 και 0.25."
      ],
      "metadata": {
        "id": "G5O3HmeQ1cNw"
      }
    },
    {
      "cell_type": "markdown",
      "source": [
        "# **Περίληψη Περιγραφικής Στατιστικής**\n",
        "Το SciPy και το Pandas προσφέρουν χρήσιμες ρουτίνες για γρήγορη λήψη περιγραφικών στατιστικών στοιχείων με μία κλήση συνάρτησης ή μεθόδου. Μπορείτε να χρησιμοποιήσετε το scipy.stats.describe() ως εξής:"
      ],
      "metadata": {
        "id": "_SkTOOCi1eGQ"
      }
    },
    {
      "cell_type": "code",
      "source": [
        "result = scipy.stats.describe(y, ddof=1, bias=False)\n",
        "result"
      ],
      "metadata": {
        "colab": {
          "base_uri": "https://localhost:8080/"
        },
        "id": "vJswwLRs1laY",
        "outputId": "31f9c111-c45f-4800-a48b-ef229c12cec8"
      },
      "execution_count": 65,
      "outputs": [
        {
          "output_type": "execute_result",
          "data": {
            "text/plain": [
              "DescribeResult(nobs=9, minmax=(-5.0, 41.0), mean=11.622222222222222, variance=228.75194444444446, skewness=0.9249043136685094, kurtosis=0.14770623629658886)"
            ]
          },
          "metadata": {},
          "execution_count": 65
        }
      ]
    },
    {
      "cell_type": "markdown",
      "source": [
        "Πρέπει να παρέχετε το σύνολο δεδομένων ως πρώτο όρισμα. Το όρισμα μπορεί να είναι ένας πίνακας NumPy, λίστα, πλειάδα ή παρόμοια δομή δεδομένων. Μπορείτε να παραλείψετε ddof=1, καθώς είναι η προεπιλογή και έχει σημασία μόνο όταν υπολογίζετε τη διακύμανση. Μπορείτε να περάσετε bias=False στην αναγκαστική διόρθωση της λοξότητας και της κύρτωσης για στατιστική προκατάληψη.\n",
        "\n",
        "Σημείωση: Η προαιρετική παράμετρος nan_policy μπορεί να λάβει τις τιμές 'propagate'(προεπιλογή), 'raise'(ένα σφάλμα) ή 'omit'. Αυτή η παράμετρος σάς επιτρέπει να ελέγχετε τι συμβαίνει όταν υπάρχουν nan τιμές.\n",
        "\n",
        "describe() επιστρέφει ένα αντικείμενο που περιέχει τα ακόλουθα περιγραφικά στατιστικά στοιχεία:\n",
        "\n",
        "nobs: ο αριθμός των παρατηρήσεων ή των στοιχείων στο σύνολο δεδομένων σας\n",
        "minmax: η πλειάδα με τις ελάχιστες και μέγιστες τιμές του συνόλου δεδομένων σας\n",
        "mean: ο μέσος όρος του συνόλου δεδομένων σας\n",
        "variance: η διακύμανση του συνόλου δεδομένων σας\n",
        "skewness: η λοξότητα του συνόλου δεδομένων σας\n",
        "kurtosis: η κύρτωση του συνόλου δεδομένων σας\n",
        "\n",
        "Μπορείτε να αποκτήσετε πρόσβαση σε συγκεκριμένες τιμές με σημειογραφία κουκκίδων:"
      ],
      "metadata": {
        "id": "U_ebcXuF1pde"
      }
    },
    {
      "cell_type": "code",
      "source": [
        "result.nobs\n",
        "\n",
        "result.minmax[0]  # Min\n",
        "\n",
        "result.minmax[1]  # Max\n",
        "\n",
        "result.mean\n",
        "\n",
        "result.variance\n",
        "\n",
        "result.skewness\n",
        "\n",
        "result.kurtosis"
      ],
      "metadata": {
        "colab": {
          "base_uri": "https://localhost:8080/"
        },
        "id": "DGKA-Nyw14Ck",
        "outputId": "e885876e-de9c-4d63-d57a-44b735a2c5ae"
      },
      "execution_count": 66,
      "outputs": [
        {
          "output_type": "execute_result",
          "data": {
            "text/plain": [
              "0.14770623629658886"
            ]
          },
          "metadata": {},
          "execution_count": 66
        }
      ]
    },
    {
      "cell_type": "markdown",
      "source": [
        "Με το SciPy, είστε μόνο μία κλήση λειτουργίας μακριά από μια περιγραφική περίληψη στατιστικών στοιχείων για το σύνολο δεδομένων σας.\n",
        "\n",
        "Το Pandas έχει παρόμοια, αν όχι καλύτερη, λειτουργικότητα. Series τα αντικείμενα έχουν τη μέθοδο .describe():"
      ],
      "metadata": {
        "id": "z494TUip2BpM"
      }
    },
    {
      "cell_type": "code",
      "source": [
        "result = z.describe()\n",
        "result"
      ],
      "metadata": {
        "colab": {
          "base_uri": "https://localhost:8080/"
        },
        "id": "9FHNs0Yr2GXq",
        "outputId": "698c1f23-7413-4995-9797-8daebbd565f0"
      },
      "execution_count": 68,
      "outputs": [
        {
          "output_type": "execute_result",
          "data": {
            "text/plain": [
              "count     9.000000\n",
              "mean     11.622222\n",
              "std      15.124548\n",
              "min      -5.000000\n",
              "25%       0.100000\n",
              "50%       8.000000\n",
              "75%      21.000000\n",
              "max      41.000000\n",
              "dtype: float64"
            ]
          },
          "metadata": {},
          "execution_count": 68
        }
      ]
    },
    {
      "cell_type": "markdown",
      "source": [
        "Επιστρέφει ένα νέο Series που περιέχει τα εξής:\n",
        "\n",
        "count: ο αριθμός των στοιχείων στο σύνολο δεδομένων σας\n",
        "mean: ο μέσος όρος του συνόλου δεδομένων σας\n",
        "std: η τυπική απόκλιση του συνόλου δεδομένων σας\n",
        "minκαι max: τις ελάχιστες και μέγιστες τιμές του συνόλου δεδομένων σας\n",
        "25%, 50%, και 75%: τα τεταρτημόρια του συνόλου δεδομένων σας\n",
        "Εάν θέλετε το Seriesαντικείμενο που προκύπτει να περιέχει άλλα εκατοστημόρια, τότε θα πρέπει να καθορίσετε την τιμή της προαιρετικής παραμέτρου percentiles. Μπορείτε να αποκτήσετε πρόσβαση σε κάθε στοιχείο resultμε την ετικέτα του:"
      ],
      "metadata": {
        "id": "ThUjcTL12WrD"
      }
    },
    {
      "cell_type": "code",
      "source": [
        "result['mean']\n",
        "\n",
        "result['std']\n",
        "\n",
        "result['min']\n",
        "\n",
        "result['max']\n",
        "\n",
        "result['25%']\n",
        "\n",
        "result['50%']\n",
        "\n",
        "result['75%']"
      ],
      "metadata": {
        "colab": {
          "base_uri": "https://localhost:8080/"
        },
        "id": "HWLwKNox2bet",
        "outputId": "3c368e20-13a1-4c61-d72c-fa9cbceb6878"
      },
      "execution_count": 69,
      "outputs": [
        {
          "output_type": "execute_result",
          "data": {
            "text/plain": [
              "21.0"
            ]
          },
          "metadata": {},
          "execution_count": 69
        }
      ]
    },
    {
      "cell_type": "markdown",
      "source": [
        "Με αυτόν τον τρόπο μπορείτε να λάβετε περιγραφικά στατιστικά στοιχεία ενός Series αντικειμένου με μία κλήση μεθόδου χρησιμοποιώντας Pandas."
      ],
      "metadata": {
        "id": "T8o-z5uD2gZx"
      }
    },
    {
      "cell_type": "markdown",
      "source": [
        "# **Μέτρα συσχέτισης μεταξύ ζευγών δεδομένων**\n",
        "Συχνά θα χρειαστεί να εξετάσετε τη σχέση μεταξύ των αντίστοιχων στοιχείων δύο μεταβλητών σε ένα σύνολο δεδομένων. Ας πούμε ότι υπάρχουν δύο μεταβλητές, 𝑥 και 𝑦, με ίσο αριθμό στοιχείων, 𝑛. Έστω 𝑥₁ από 𝑥 αντιστοιχεί σε 𝑦₁ από 𝑦, 𝑥₂ από 𝑥 σε 𝑦₂ από 𝑦 και ούτω καθεξής. Στη συνέχεια, μπορείτε να πείτε ότι υπάρχουν 𝑛 ζεύγη αντίστοιχων στοιχείων: (𝑥₁, 𝑦₁), (𝑥₂, 𝑦₂) και ούτω καθεξής.\n",
        "\n",
        "Θα δείτε τα ακόλουθα μέτρα συσχέτισης μεταξύ ζευγών δεδομένων:\n",
        "\n",
        "1.   Θετική συσχέτιση υπάρχει όταν μεγαλύτερες τιμές του 𝑥 αντιστοιχούν σε μεγαλύτερες τιμές του 𝑦 και αντίστροφα.\n",
        "2.   Αρνητική συσχέτιση υπάρχει όταν μεγαλύτερες τιμές του 𝑥 αντιστοιχούν σε μικρότερες τιμές του 𝑦 και αντίστροφα.\n",
        "3.   Αδύναμη ή καθόλου συσχέτιση υπάρχει εάν δεν υπάρχει τέτοια φαινομενική σχέση.\n",
        "\n",
        "Το παρακάτω σχήμα δείχνει παραδείγματα αρνητικής, ασθενούς και θετικής συσχέτισης:\n",
        "![08.5a1e9f3e3aa4.png](data:image/png;base64,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)\n",
        "Η γραφική παράσταση στα αριστερά με τις κόκκινες κουκκίδες δείχνει αρνητική συσχέτιση. Η γραφική παράσταση στη μέση με τις πράσινες κουκκίδες δείχνει ασθενή συσχέτιση. Τέλος, η γραφική παράσταση στα δεξιά με τις μπλε τελείες δείχνει θετική συσχέτιση.\n",
        "\n",
        "**Σημείωση:** Υπάρχει ένα σημαντικό πράγμα που πρέπει να έχετε πάντα υπόψη όταν εργάζεστε με συσχέτιση μεταξύ ενός ζεύγους μεταβλητών, και αυτό είναι ότι η συσχέτιση δεν είναι μέτρο ή δείκτης αιτιώδους συνάφειας, αλλά μόνο συσχέτισης!\n",
        "\n",
        "Τα δύο στατιστικά στοιχεία που μετρούν τη συσχέτιση μεταξύ των συνόλων δεδομένων είναι η συνδιακύμανση και ο συντελεστής συσχέτισης. Ας ορίσουμε ορισμένα δεδομένα για να δουλέψουμε με αυτά τα μέτρα. Θα δημιουργήσετε δύο λίστες Python και θα τις χρησιμοποιήσετε για να λάβετε αντίστοιχους πίνακες NumPy και Panda Series:"
      ],
      "metadata": {
        "id": "Pvjsn1Mk2k8W"
      }
    },
    {
      "cell_type": "code",
      "source": [
        "x = list(range(-10, 11))\n",
        "y = [0, 2, 2, 2, 2, 3, 3, 6, 7, 4, 7, 6, 6, 9, 4, 5, 5, 10, 11, 12, 14]\n",
        "x_, y_ = np.array(x), np.array(y)\n",
        "x__, y__ = pd.Series(x_), pd.Series(y_)"
      ],
      "metadata": {
        "id": "ZjpNTotQ3R8N"
      },
      "execution_count": 70,
      "outputs": []
    },
    {
      "cell_type": "markdown",
      "source": [
        "Τώρα που έχετε τις δύο μεταβλητές, μπορείτε να ξεκινήσετε την εξερεύνηση της σχέσης μεταξύ τους."
      ],
      "metadata": {
        "id": "dzqWe2Yr3ZLY"
      }
    },
    {
      "cell_type": "markdown",
      "source": [
        "# **Συνδιακύμανση**\n",
        "Η συνδιακύμανση του δείγματος είναι ένα μέτρο που ποσοτικοποιεί την ισχύ και την κατεύθυνση μιας σχέσης μεταξύ ενός ζεύγους μεταβλητών:\n",
        "\n",
        "Εάν η συσχέτιση είναι θετική, τότε και η συνδιακύμανση είναι θετική. Μια ισχυρότερη σχέση αντιστοιχεί σε υψηλότερη τιμή της συνδιακύμανσης.\n",
        "Αν η συσχέτιση είναι αρνητική, τότε και η συνδιακύμανση είναι αρνητική. Μια ισχυρότερη σχέση αντιστοιχεί σε χαμηλότερη (ή υψηλότερη απόλυτη ) τιμή της συνδιακύμανσης.\n",
        "Εάν η συσχέτιση είναι ασθενής, τότε η συνδιακύμανση είναι κοντά στο μηδέν.\n",
        "Η συνδιακύμανση των μεταβλητών 𝑥 και 𝑦 ορίζεται μαθηματικά ως 𝑠ˣʸ = Σᵢ (𝑥ᵢ − mean(𝑥)) (𝑦ᵢ − mean(𝑦)) / (𝑛 − 1), όπου … me,1,  Το (𝑥) είναι ο μέσος όρος του δείγματος του 𝑥 και ο μέσος όρος(𝑦) είναι ο μέσος όρος του δείγματος του 𝑦. Συνεπάγεται ότι η συνδιακύμανση δύο όμοιων μεταβλητών είναι στην πραγματικότητα η διακύμανση: 𝑠ˣˣ = Σᵢ(𝑥ᵢ − mean(𝑥))² / (𝑛 − 1) = (𝑠ˣ)² και 𝑠ʸʸ = Σᵢ() / (𝑛 − 1) = (𝑠ʸ)².\n",
        "\n",
        "Έτσι μπορείτε να υπολογίσετε τη συνδιακύμανση σε καθαρή Python:"
      ],
      "metadata": {
        "id": "femasBqF3aLO"
      }
    },
    {
      "cell_type": "code",
      "source": [
        "n = len(x)\n",
        "mean_x, mean_y = sum(x) / n, sum(y) / n\n",
        "cov_xy = (sum((x[k] - mean_x) * (y[k] - mean_y) for k in range(n))\n",
        "          / (n - 1))\n",
        "cov_xy"
      ],
      "metadata": {
        "colab": {
          "base_uri": "https://localhost:8080/"
        },
        "id": "dEPBcQUj3ez8",
        "outputId": "90576119-e6c9-4c9e-93a1-92bb33e6349b"
      },
      "execution_count": 71,
      "outputs": [
        {
          "output_type": "execute_result",
          "data": {
            "text/plain": [
              "19.95"
            ]
          },
          "metadata": {},
          "execution_count": 71
        }
      ]
    },
    {
      "cell_type": "markdown",
      "source": [
        "Πρώτα, πρέπει να βρείτε τη μέση τιμή xκαι y. Στη συνέχεια, εφαρμόζετε τον μαθηματικό τύπο για τη συνδιακύμανση.\n",
        "\n",
        "Το NumPy έχει τη συνάρτηση cov()που επιστρέφει τον πίνακα συνδιακύμανσης:"
      ],
      "metadata": {
        "id": "0Jvd7yhi3kJq"
      }
    },
    {
      "cell_type": "code",
      "source": [
        "cov_matrix = np.cov(x_, y_)\n",
        "cov_matrix"
      ],
      "metadata": {
        "colab": {
          "base_uri": "https://localhost:8080/"
        },
        "id": "sUbUd58N3nuq",
        "outputId": "b81c8b4a-8b3d-4543-9ac4-f3320ccbfd8f"
      },
      "execution_count": 72,
      "outputs": [
        {
          "output_type": "execute_result",
          "data": {
            "text/plain": [
              "array([[38.5       , 19.95      ],\n",
              "       [19.95      , 13.91428571]])"
            ]
          },
          "metadata": {},
          "execution_count": 72
        }
      ]
    },
    {
      "cell_type": "markdown",
      "source": [
        "Σημειώστε ότι cov()έχει τις προαιρετικές παραμέτρους bias, οι οποίες είναι προεπιλεγμένες False και ddof, οι οποίες είναι προεπιλεγμένες None. Οι προεπιλεγμένες τιμές τους είναι κατάλληλες για τη λήψη του δείγματος πίνακα συνδιακύμανσης. Το επάνω αριστερό στοιχείο του πίνακα συνδιακύμανσης είναι η συνδιακύμανση του x και x ή η διακύμανση του x. Ομοίως, το στοιχείο κάτω δεξιά είναι η συνδιακύμανση του yκαι yή η διακύμανση του y. Μπορείτε να ελέγξετε για να δείτε ότι αυτό είναι αλήθεια:"
      ],
      "metadata": {
        "id": "qzT3mTFF3rkB"
      }
    },
    {
      "cell_type": "code",
      "source": [
        "x_.var(ddof=1)\n",
        "\n",
        "y_.var(ddof=1)"
      ],
      "metadata": {
        "colab": {
          "base_uri": "https://localhost:8080/"
        },
        "id": "tE2jyQQC3zPQ",
        "outputId": "077109f5-4628-47e3-eeda-fb5e58cd84e0"
      },
      "execution_count": 73,
      "outputs": [
        {
          "output_type": "execute_result",
          "data": {
            "text/plain": [
              "13.914285714285711"
            ]
          },
          "metadata": {},
          "execution_count": 73
        }
      ]
    },
    {
      "cell_type": "markdown",
      "source": [
        "Όπως μπορείτε να δείτε, οι διακυμάνσεις των xκαι yείναι ίσες με cov_matrix[0, 0]και cov_matrix[1, 1], αντίστοιχα.\n",
        "\n",
        "Τα άλλα δύο στοιχεία του πίνακα συνδιακύμανσης είναι ίσα και αντιπροσωπεύουν την πραγματική συνδιακύμανση μεταξύ  και y:"
      ],
      "metadata": {
        "id": "8L0NOnY_32sp"
      }
    },
    {
      "cell_type": "code",
      "source": [
        "cov_xy = cov_matrix[0, 1]\n",
        "cov_xy\n",
        "\n",
        "cov_xy = cov_matrix[1, 0]\n",
        "cov_xy"
      ],
      "metadata": {
        "colab": {
          "base_uri": "https://localhost:8080/"
        },
        "id": "O-S8U26a36O8",
        "outputId": "67dd39be-345e-421f-ce9d-0a911d727cc1"
      },
      "execution_count": 74,
      "outputs": [
        {
          "output_type": "execute_result",
          "data": {
            "text/plain": [
              "19.95"
            ]
          },
          "metadata": {},
          "execution_count": 74
        }
      ]
    },
    {
      "cell_type": "markdown",
      "source": [
        "Λάβατε την ίδια τιμή της συνδιακύμανσης με np.cov() την καθαρή Python.\n",
        "\n",
        "Τα πάντα Series έχουν τη μέθοδο .cov() που μπορείτε να χρησιμοποιήσετε για να υπολογίσετε τη συνδιακύμανση:"
      ],
      "metadata": {
        "id": "w4CrmxGc39xd"
      }
    },
    {
      "cell_type": "code",
      "source": [
        "cov_xy = x__.cov(y__)\n",
        "cov_xy\n",
        "\n",
        "cov_xy = y__.cov(x__)\n",
        "cov_xy"
      ],
      "metadata": {
        "colab": {
          "base_uri": "https://localhost:8080/"
        },
        "id": "a7fM8hGj4DS-",
        "outputId": "78fed623-ff5b-4991-8e47-08e5b63c77d3"
      },
      "execution_count": 75,
      "outputs": [
        {
          "output_type": "execute_result",
          "data": {
            "text/plain": [
              "19.95"
            ]
          },
          "metadata": {},
          "execution_count": 75
        }
      ]
    },
    {
      "cell_type": "markdown",
      "source": [
        "Εδώ, καλείτε .cov() ένα Series αντικείμενο και περνάτε το άλλο αντικείμενο ως πρώτο όρισμα."
      ],
      "metadata": {
        "id": "5aSIEiz24GWH"
      }
    },
    {
      "cell_type": "markdown",
      "source": [
        "# **Συντελεστής συσχέτισης**\n",
        "Ο συντελεστής συσχέτισης ή ο συντελεστής συσχέτισης προϊόντος-στιγμής Pearson , συμβολίζεται με το σύμβολο 𝑟. Ο συντελεστής είναι ένα άλλο μέτρο της συσχέτισης μεταξύ των δεδομένων. Μπορείτε να το σκεφτείτε ως μια τυποποιημένη συνδιακύμανση. Ακολουθούν μερικά σημαντικά στοιχεία σχετικά με αυτό:\n",
        "\n",
        "1.   Η τιμή 𝑟 > 0 υποδηλώνει θετική συσχέτιση.\n",
        "1.   Η τιμή 𝑟 < 0 υποδηλώνει αρνητική συσχέτιση.\n",
        "2.   Η τιμή r = 1 είναι η μέγιστη δυνατή τιμή του 𝑟. Αντιστοιχεί σε μια τέλεια θετική γραμμική σχέση μεταξύ των μεταβλητών.\n",
        "2.   Η τιμή r = −1 είναι η ελάχιστη δυνατή τιμή του 𝑟. Αντιστοιχεί σε μια τέλεια αρνητική γραμμική σχέση μεταξύ των μεταβλητών.\n",
        "1.   Η τιμή r ≈ 0 , ή όταν το 𝑟 είναι γύρω στο μηδέν, σημαίνει ότι η συσχέτιση μεταξύ των μεταβλητών είναι ασθενής.\n",
        "\n",
        "Ο μαθηματικός τύπος για τον συντελεστή συσχέτισης είναι 𝑟 = 𝑠ˣʸ / (𝑠ˣ𝑠ʸ) όπου 𝑠ˣ και 𝑠ʸ είναι οι τυπικές αποκλίσεις των 𝑥 και 𝑦 αντίστοιχα. Εάν έχετε τον μέσο όρο (mean_xκαι mean_y) και τις τυπικές αποκλίσεις (std_x, std_y) για τα σύνολα δεδομένων xκαι y, καθώς και τη συνδιακύμανσή τους cov_xy, τότε μπορείτε να υπολογίσετε τον συντελεστή συσχέτισης με την καθαρή Python:"
      ],
      "metadata": {
        "id": "hD-lCB884KFN"
      }
    },
    {
      "cell_type": "code",
      "source": [
        "var_x = sum((item - mean_x)**2 for item in x) / (n - 1)\n",
        "var_y = sum((item - mean_y)**2 for item in y) / (n - 1)\n",
        "std_x, std_y = var_x ** 0.5, var_y ** 0.5\n",
        "r = cov_xy / (std_x * std_y)\n",
        "r"
      ],
      "metadata": {
        "colab": {
          "base_uri": "https://localhost:8080/"
        },
        "id": "otUHjADw4mWH",
        "outputId": "e61c7c05-9c72-4ceb-e2cb-def8ec33b5b4"
      },
      "execution_count": 76,
      "outputs": [
        {
          "output_type": "execute_result",
          "data": {
            "text/plain": [
              "0.861950005631606"
            ]
          },
          "metadata": {},
          "execution_count": 76
        }
      ]
    },
    {
      "cell_type": "markdown",
      "source": [
        "Έχετε τη μεταβλητή rπου αντιπροσωπεύει τον συντελεστή συσχέτισης.\n",
        "\n",
        "scipy.stats έχει τη ρουτίνα pearsonr() που υπολογίζει τον συντελεστή συσχέτισης και την τιμή 𝑝:"
      ],
      "metadata": {
        "id": "4_gEAqb94qpL"
      }
    },
    {
      "cell_type": "code",
      "source": [
        "r, p = scipy.stats.pearsonr(x_, y_)\n",
        "r\n",
        "\n",
        "p"
      ],
      "metadata": {
        "colab": {
          "base_uri": "https://localhost:8080/"
        },
        "id": "GpJS4nA44zCB",
        "outputId": "4eb75115-6147-478e-815e-dc12e07ee499"
      },
      "execution_count": 77,
      "outputs": [
        {
          "output_type": "execute_result",
          "data": {
            "text/plain": [
              "5.122760847201135e-07"
            ]
          },
          "metadata": {},
          "execution_count": 77
        }
      ]
    },
    {
      "cell_type": "markdown",
      "source": [
        "pearsonr() επιστρέφει μια πλειάδα με δύο αριθμούς. Το πρώτο είναι 𝑟 και το δεύτερο είναι το 𝑝-τιμή.\n",
        "\n",
        "Παρόμοια με την περίπτωση του πίνακα συνδιακύμανσης, μπορείτε να εφαρμόσετε np.corrcoef() με x_ και y_ ως ορίσματα και να πάρετε τον πίνακα συντελεστών συσχέτισης:"
      ],
      "metadata": {
        "id": "t9FCDGSM43NH"
      }
    },
    {
      "cell_type": "code",
      "source": [
        "corr_matrix = np.corrcoef(x_, y_)\n",
        "corr_matrix"
      ],
      "metadata": {
        "colab": {
          "base_uri": "https://localhost:8080/"
        },
        "id": "fuAZsQY54-xT",
        "outputId": "73eacc10-bce9-46fb-efde-34eba3381cf8"
      },
      "execution_count": 78,
      "outputs": [
        {
          "output_type": "execute_result",
          "data": {
            "text/plain": [
              "array([[1.        , 0.86195001],\n",
              "       [0.86195001, 1.        ]])"
            ]
          },
          "metadata": {},
          "execution_count": 78
        }
      ]
    },
    {
      "cell_type": "markdown",
      "source": [
        "Το επάνω αριστερό στοιχείο είναι ο συντελεστής συσχέτισης μεταξύ x_ και x_. Το στοιχείο κάτω δεξιά είναι ο συντελεστής συσχέτισης μεταξύ y_ και y_. Οι τιμές τους είναι ίσες με 1.0. Τα άλλα δύο στοιχεία είναι ίσα και αντιπροσωπεύουν τον πραγματικό συντελεστή συσχέτισης μεταξύ x_ και y_:"
      ],
      "metadata": {
        "id": "cQFec3j15CKX"
      }
    },
    {
      "cell_type": "code",
      "source": [
        "r = corr_matrix[0, 1]\n",
        "r\n",
        "\n",
        "r = corr_matrix[1, 0]\n",
        "r\n"
      ],
      "metadata": {
        "colab": {
          "base_uri": "https://localhost:8080/"
        },
        "id": "CCZeHS9a5JSl",
        "outputId": "adc50464-77a9-4ae2-d676-f6b682f39426"
      },
      "execution_count": 79,
      "outputs": [
        {
          "output_type": "execute_result",
          "data": {
            "text/plain": [
              "0.861950005631606"
            ]
          },
          "metadata": {},
          "execution_count": 79
        }
      ]
    },
    {
      "cell_type": "markdown",
      "source": [
        "Φυσικά, το αποτέλεσμα είναι το ίδιο με το καθαρό Python και το pearsonr().\n",
        "\n",
        "Μπορείτε να πάρετε τον συντελεστή συσχέτισης με scipy.stats.linregress():"
      ],
      "metadata": {
        "id": "lhkNv2Nh5Mi9"
      }
    },
    {
      "cell_type": "code",
      "source": [
        "scipy.stats.linregress(x_, y_)"
      ],
      "metadata": {
        "colab": {
          "base_uri": "https://localhost:8080/"
        },
        "id": "dQ7ksMDv5Qqj",
        "outputId": "0dd06401-4dfd-4c29-a49a-207778c80151"
      },
      "execution_count": 80,
      "outputs": [
        {
          "output_type": "execute_result",
          "data": {
            "text/plain": [
              "LinregressResult(slope=0.5181818181818181, intercept=5.714285714285714, rvalue=0.861950005631606, pvalue=5.122760847201164e-07, stderr=0.06992387660074979, intercept_stderr=0.4234100995002589)"
            ]
          },
          "metadata": {},
          "execution_count": 80
        }
      ]
    },
    {
      "cell_type": "markdown",
      "source": [
        "linregress() παίρνει x_ και y_, εκτελεί γραμμική παλινδρόμηση και επιστρέφει τα αποτελέσματα. slope και intercept ορίστε την εξίσωση της γραμμής παλινδρόμησης, ενώ rvalue είναι ο συντελεστής συσχέτισης. Για να αποκτήσετε πρόσβαση σε συγκεκριμένες τιμές από το αποτέλεσμα του linregress(), συμπεριλαμβανομένου του συντελεστή συσχέτισης, χρησιμοποιήστε σημειογραφία με τελείες:"
      ],
      "metadata": {
        "id": "f40xrn5B5T0o"
      }
    },
    {
      "cell_type": "code",
      "source": [
        "result = scipy.stats.linregress(x_, y_)\n",
        "r = result.rvalue\n",
        "r"
      ],
      "metadata": {
        "colab": {
          "base_uri": "https://localhost:8080/"
        },
        "id": "MQ7HiLAX5gW_",
        "outputId": "f5ad9da9-fcb6-482b-f133-4b3f9c5ffd09"
      },
      "execution_count": 81,
      "outputs": [
        {
          "output_type": "execute_result",
          "data": {
            "text/plain": [
              "0.861950005631606"
            ]
          },
          "metadata": {},
          "execution_count": 81
        }
      ]
    },
    {
      "cell_type": "markdown",
      "source": [
        "Έτσι μπορείτε να εκτελέσετε γραμμική παλινδρόμηση και να αποκτήσετε τον συντελεστή συσχέτισης.\n",
        "\n",
        "Τα πάντα Series έχουν τη μέθοδο .corr() για τον υπολογισμό του συντελεστή συσχέτισης:"
      ],
      "metadata": {
        "id": "EkD-Tt-J5hhJ"
      }
    },
    {
      "cell_type": "code",
      "source": [
        "r = x__.corr(y__)\n",
        "r\n",
        "\n",
        "r = y__.corr(x__)\n",
        "r"
      ],
      "metadata": {
        "colab": {
          "base_uri": "https://localhost:8080/"
        },
        "id": "a1dkc--L5l2U",
        "outputId": "40b1fd01-a549-40a7-f93f-c95b68b34bcf"
      },
      "execution_count": 82,
      "outputs": [
        {
          "output_type": "execute_result",
          "data": {
            "text/plain": [
              "0.861950005631606"
            ]
          },
          "metadata": {},
          "execution_count": 82
        }
      ]
    },
    {
      "cell_type": "markdown",
      "source": [
        "Θα πρέπει να καλέσετε .corr() ένα Series αντικείμενο και να περάσετε το άλλο αντικείμενο ως πρώτο όρισμα."
      ],
      "metadata": {
        "id": "y4U5jT_G5pRY"
      }
    },
    {
      "cell_type": "markdown",
      "source": [
        "# **Εργασία με δεδομένα 2D**\n",
        "Οι στατιστικολόγοι συχνά εργάζονται με δεδομένα 2D. Ακολουθούν μερικά παραδείγματα μορφών δεδομένων 2D:\n",
        "\n",
        "Πίνακες βάσεων δεδομένων\n",
        "\n",
        "1.   Αρχεία CSV\n",
        "2.   Πίνακες βάσεων δεδομένων\n",
        "2.   Υπολογιστικά φύλλα Excel, Calc και Google\n",
        "\n",
        "Το NumPy και το SciPy παρέχουν ένα ολοκληρωμένο μέσο για εργασία με δεδομένα 2D. Το Pandas έχει την κατηγορία DataFrameειδικά για να χειρίζεται δεδομένα με ετικέτα 2D"
      ],
      "metadata": {
        "id": "R7KE0YSb5tPU"
      }
    },
    {
      "cell_type": "markdown",
      "source": [
        "# **Axes**\n",
        "Ξεκινήστε δημιουργώντας έναν πίνακα 2D NumPy:"
      ],
      "metadata": {
        "id": "993jk-On6Y58"
      }
    },
    {
      "cell_type": "code",
      "source": [
        "a = np.array([[1, 1, 1],\n",
        "              [2, 3, 1],\n",
        "              [4, 9, 2],\n",
        "              [8, 27, 4],\n",
        "              [16, 1, 1]])\n",
        "a"
      ],
      "metadata": {
        "colab": {
          "base_uri": "https://localhost:8080/"
        },
        "id": "Qr2_2-E06jyQ",
        "outputId": "55184bfd-a2aa-4c9a-8dcd-6e99d8d41f92"
      },
      "execution_count": 83,
      "outputs": [
        {
          "output_type": "execute_result",
          "data": {
            "text/plain": [
              "array([[ 1,  1,  1],\n",
              "       [ 2,  3,  1],\n",
              "       [ 4,  9,  2],\n",
              "       [ 8, 27,  4],\n",
              "       [16,  1,  1]])"
            ]
          },
          "metadata": {},
          "execution_count": 83
        }
      ]
    },
    {
      "cell_type": "markdown",
      "source": [
        "Τώρα έχετε ένα δισδιάστατο σύνολο δεδομένων, το οποίο θα χρησιμοποιήσετε σε αυτήν την ενότητα. Μπορείτε να εφαρμόσετε συναρτήσεις και μεθόδους στατιστικής Python σε αυτό όπως θα κάνατε σε δεδομένα 1D:"
      ],
      "metadata": {
        "id": "0VMe37O46ntG"
      }
    },
    {
      "cell_type": "code",
      "source": [
        "np.mean(a)\n",
        "\n",
        "a.mean()\n",
        "\n",
        "np.median(a)\n",
        "\n",
        "a.var(ddof=1)"
      ],
      "metadata": {
        "colab": {
          "base_uri": "https://localhost:8080/"
        },
        "id": "hzzG69C26qqJ",
        "outputId": "7355c7be-5528-41e7-c3c7-c4b1b875f8c3"
      },
      "execution_count": 84,
      "outputs": [
        {
          "output_type": "execute_result",
          "data": {
            "text/plain": [
              "53.40000000000001"
            ]
          },
          "metadata": {},
          "execution_count": 84
        }
      ]
    },
    {
      "cell_type": "markdown",
      "source": [
        "Όπως μπορείτε να δείτε, λαμβάνετε στατιστικά στοιχεία (όπως ο μέσος όρος, η διάμεσος ή η διακύμανση) σε όλα τα δεδομένα στον πίνακα a. Μερικές φορές, αυτή η συμπεριφορά είναι αυτό που θέλετε, αλλά σε ορισμένες περιπτώσεις, θα θέλετε αυτές οι ποσότητες να υπολογίζονται για κάθε γραμμή ή στήλη του πίνακα 2D.\n",
        "\n",
        "Οι λειτουργίες και οι μέθοδοι που έχετε χρησιμοποιήσει μέχρι στιγμής έχουν μια προαιρετική παράμετρο που ονομάζεται axis, η οποία είναι απαραίτητη για το χειρισμό δισδιάστατων δεδομένων. axisμπορεί να λάβει οποιαδήποτε από τις ακόλουθες τιμές:\n",
        "\n",
        "1.   axis=None λέει να υπολογίσει τα στατιστικά στοιχεία για όλα τα δεδομένα του πίνακα. Τα παραπάνω παραδείγματα λειτουργούν έτσι. Αυτή η συμπεριφορά είναι συχνά η προεπιλογή στο NumPy.\n",
        "2.   axis=0 λέει να υπολογίσει τα στατιστικά στοιχεία σε όλες τις σειρές, δηλαδή για κάθε στήλη του πίνακα. Αυτή η συμπεριφορά είναι συχνά η προεπιλογή για τις στατιστικές συναρτήσεις SciPy.\n",
        "2.   axis=1 λέει να υπολογίσει τα στατιστικά στοιχεία σε όλες τις στήλες, δηλαδή για κάθε γραμμή του πίνακα.\n",
        "\n",
        "Ας δούμε axis=0 σε δράση με np.mean():"
      ],
      "metadata": {
        "id": "XY5i-5356uYe"
      }
    },
    {
      "cell_type": "code",
      "source": [
        "np.mean(a, axis=0)\n",
        "\n",
        "a.mean(axis=0)"
      ],
      "metadata": {
        "colab": {
          "base_uri": "https://localhost:8080/"
        },
        "id": "6_AY1YjR7Ast",
        "outputId": "ab14e29b-451d-4da4-d1f7-1c417c78c4ff"
      },
      "execution_count": 85,
      "outputs": [
        {
          "output_type": "execute_result",
          "data": {
            "text/plain": [
              "array([6.2, 8.2, 1.8])"
            ]
          },
          "metadata": {},
          "execution_count": 85
        }
      ]
    },
    {
      "cell_type": "markdown",
      "source": [
        "Οι δύο παραπάνω δηλώσεις επιστρέφουν νέους πίνακες NumPy με τον μέσο όρο για κάθε στήλη του a. Σε αυτό το παράδειγμα, ο μέσος όρος της πρώτης στήλης είναι 6.2. Η δεύτερη στήλη έχει το μέσο όρο 8.2, ενώ η τρίτη έχει 1.8.\n",
        "\n",
        "Εάν παρέχετε axis=1 σε mean(), τότε θα λάβετε τα αποτελέσματα για κάθε σειρά:"
      ],
      "metadata": {
        "id": "c1xSdDk97H4g"
      }
    },
    {
      "cell_type": "code",
      "source": [
        "np.mean(a, axis=1)\n",
        "\n",
        "a.mean(axis=1)"
      ],
      "metadata": {
        "colab": {
          "base_uri": "https://localhost:8080/"
        },
        "id": "FmE4XlL57P00",
        "outputId": "c6dd5dbd-299f-4441-9a2c-745f0215c969"
      },
      "execution_count": 86,
      "outputs": [
        {
          "output_type": "execute_result",
          "data": {
            "text/plain": [
              "array([ 1.,  2.,  5., 13.,  6.])"
            ]
          },
          "metadata": {},
          "execution_count": 86
        }
      ]
    },
    {
      "cell_type": "markdown",
      "source": [
        "Όπως μπορείτε να δείτε, η πρώτη σειρά a έχει τη μέση τιμή 1.0, η δεύτερη 2.0 και ούτω καθεξής.\n",
        "\n",
        "**Σημείωση:** Μπορείτε να επεκτείνετε αυτούς τους κανόνες σε πολυδιάστατους πίνακες, αλλά αυτό ξεφεύγει από το πεδίο αυτού του σεμιναρίου. Μη διστάσετε να βουτήξετε μόνοι σας σε αυτό το θέμα!\n",
        "\n",
        "Η παράμετρος axis λειτουργεί με τον ίδιο τρόπο με άλλες συναρτήσεις και μεθόδους NumPy:"
      ],
      "metadata": {
        "id": "E_OV1krn7Tzf"
      }
    },
    {
      "cell_type": "code",
      "source": [
        "np.median(a, axis=0)\n",
        "\n",
        "np.median(a, axis=1)\n",
        "\n",
        "a.var(axis=0, ddof=1)\n",
        "\n",
        "a.var(axis=1, ddof=1)"
      ],
      "metadata": {
        "colab": {
          "base_uri": "https://localhost:8080/"
        },
        "id": "frGooSqJ7atl",
        "outputId": "7c4a646f-eaa9-4fcc-b304-8cbb15c99bac"
      },
      "execution_count": 87,
      "outputs": [
        {
          "output_type": "execute_result",
          "data": {
            "text/plain": [
              "array([  0.,   1.,  13., 151.,  75.])"
            ]
          },
          "metadata": {},
          "execution_count": 87
        }
      ]
    },
    {
      "cell_type": "markdown",
      "source": [
        "Έχετε τις διάμεσους και τις παραλλαγές δειγμάτων για όλες τις στήλες (axis=0) και τις γραμμές (axis=1) του πίνακα a.\n",
        "\n",
        "Αυτό είναι πολύ παρόμοιο όταν εργάζεστε με συναρτήσεις στατιστικών στοιχείων SciPy. Αλλά να θυμάστε ότι σε αυτήν την περίπτωση, η προεπιλεγμένη τιμή για axis είναι 0:"
      ],
      "metadata": {
        "id": "yZLHS0e97hMq"
      }
    },
    {
      "cell_type": "code",
      "source": [
        "scipy.stats.gmean(a)  # Default: axis=0\n",
        "\n",
        "scipy.stats.gmean(a, axis=0)"
      ],
      "metadata": {
        "colab": {
          "base_uri": "https://localhost:8080/"
        },
        "id": "wup2uSSW7kqX",
        "outputId": "d68d288f-020e-4ea8-cb64-84a7be593f79"
      },
      "execution_count": 88,
      "outputs": [
        {
          "output_type": "execute_result",
          "data": {
            "text/plain": [
              "array([4.        , 3.73719282, 1.51571657])"
            ]
          },
          "metadata": {},
          "execution_count": 88
        }
      ]
    },
    {
      "cell_type": "markdown",
      "source": [
        "Εάν παραλείψετε axisή παρέχετε axis=0, τότε θα λάβετε το αποτέλεσμα σε όλες τις σειρές, δηλαδή για κάθε στήλη. Για παράδειγμα, η πρώτη στήλη του a έχει γεωμετρικό μέσο όρο 4.0, και ούτω καθεξής.\n",
        "\n",
        "Εάν καθορίσετε axis=1, τότε θα λάβετε τους υπολογισμούς σε όλες τις στήλες, δηλαδή για κάθε σειρά:"
      ],
      "metadata": {
        "id": "lIe5p5iv7ppn"
      }
    },
    {
      "cell_type": "code",
      "source": [
        "scipy.stats.gmean(a, axis=1)"
      ],
      "metadata": {
        "colab": {
          "base_uri": "https://localhost:8080/"
        },
        "id": "JmJh18Fr7uUJ",
        "outputId": "65a373f7-fee9-48c2-a6b8-944c1961ddc5"
      },
      "execution_count": 89,
      "outputs": [
        {
          "output_type": "execute_result",
          "data": {
            "text/plain": [
              "array([1.        , 1.81712059, 4.16016765, 9.52440631, 2.5198421 ])"
            ]
          },
          "metadata": {},
          "execution_count": 89
        }
      ]
    },
    {
      "cell_type": "markdown",
      "source": [
        "Σε αυτό το παράδειγμα, ο γεωμετρικός μέσος όρος της πρώτης σειράς a είναι 1.0. Για τη δεύτερη σειρά, είναι περίπου 1.82, και ούτω καθεξής.\n",
        "\n",
        "Εάν θέλετε στατιστικά στοιχεία για ολόκληρο το σύνολο δεδομένων, τότε πρέπει να δώσετε axis=None:"
      ],
      "metadata": {
        "id": "PvUqxxOf7xxn"
      }
    },
    {
      "cell_type": "code",
      "source": [
        "scipy.stats.gmean(a, axis=None)"
      ],
      "metadata": {
        "colab": {
          "base_uri": "https://localhost:8080/"
        },
        "id": "Su5LO2uB72m3",
        "outputId": "8e3cfd37-6b84-41e0-c2f0-69b96d9e16f7"
      },
      "execution_count": 90,
      "outputs": [
        {
          "output_type": "execute_result",
          "data": {
            "text/plain": [
              "2.829705017016332"
            ]
          },
          "metadata": {},
          "execution_count": 90
        }
      ]
    },
    {
      "cell_type": "markdown",
      "source": [
        "Ο γεωμετρικός μέσος όρος όλων των στοιχείων του πίνακα a είναι περίπου 2.83.\n",
        "\n",
        "Μπορείτε να λάβετε μια σύνοψη στατιστικών στοιχείων Python με μία κλήση συνάρτησης για δεδομένα 2D με το scipy.stats.describe(). Λειτουργεί παρόμοια με τους πίνακες 1D, αλλά πρέπει να είστε προσεκτικοί με την παράμετρο axis:"
      ],
      "metadata": {
        "id": "4ul_DDm975yi"
      }
    },
    {
      "cell_type": "code",
      "source": [
        "scipy.stats.describe(a, axis=None, ddof=1, bias=False)\n",
        "\n",
        "scipy.stats.describe(a, ddof=1, bias=False)  # Default: axis=0\n",
        "\n",
        "scipy.stats.describe(a, axis=1, ddof=1, bias=False)\n"
      ],
      "metadata": {
        "colab": {
          "base_uri": "https://localhost:8080/"
        },
        "id": "mqpXS3-88AiI",
        "outputId": "3bd5016f-cf7c-4b25-e37c-5fb1005397b9"
      },
      "execution_count": 91,
      "outputs": [
        {
          "output_type": "execute_result",
          "data": {
            "text/plain": [
              "DescribeResult(nobs=3, minmax=(array([1, 1, 2, 4, 1]), array([ 1,  3,  9, 27, 16])), mean=array([ 1.,  2.,  5., 13.,  6.]), variance=array([  0.,   1.,  13., 151.,  75.]), skewness=array([0.        , 0.        , 1.15206964, 1.52787436, 1.73205081]), kurtosis=array([-3. , -1.5, -1.5, -1.5, -1.5]))"
            ]
          },
          "metadata": {},
          "execution_count": 91
        }
      ]
    },
    {
      "cell_type": "markdown",
      "source": [
        "Όταν παρέχετε axis=None, λαμβάνετε τη σύνοψη σε όλα τα δεδομένα. Τα περισσότερα αποτελέσματα είναι βαθμίδες. Εάν το ορίσετε axis=0ή το παραλείψετε, τότε η επιστρεφόμενη τιμή είναι η περίληψη για κάθε στήλη. Έτσι, τα περισσότερα αποτελέσματα είναι οι πίνακες με τον ίδιο αριθμό στοιχείων με τον αριθμό των στηλών. Εάν ορίσετε axis=1, τότε describe() επιστρέφει τη σύνοψη για όλες τις σειρές.\n",
        "\n",
        "Μπορείτε να λάβετε μια συγκεκριμένη τιμή από τη σύνοψη με σημειογραφία κουκίδων:"
      ],
      "metadata": {
        "id": "JZv9ftou8Evs"
      }
    },
    {
      "cell_type": "code",
      "source": [
        "result = scipy.stats.describe(a, axis=1, ddof=1, bias=False)\n",
        "result.mean"
      ],
      "metadata": {
        "colab": {
          "base_uri": "https://localhost:8080/"
        },
        "id": "lqkMJH6G8Kuh",
        "outputId": "e1fffaa2-ae97-489c-acad-8f343ebeda1c"
      },
      "execution_count": 92,
      "outputs": [
        {
          "output_type": "execute_result",
          "data": {
            "text/plain": [
              "array([ 1.,  2.,  5., 13.,  6.])"
            ]
          },
          "metadata": {},
          "execution_count": 92
        }
      ]
    },
    {
      "cell_type": "markdown",
      "source": [
        "Έτσι μπορείτε να δείτε μια σύνοψη στατιστικών στοιχείων για έναν πίνακα 2D με μία κλήση συνάρτησης."
      ],
      "metadata": {
        "id": "qMqnwoIg8NyJ"
      }
    },
    {
      "cell_type": "markdown",
      "source": [
        "# **DataFrames**\n",
        "Η κλάση DataFrame είναι ένας από τους βασικούς τύπους δεδομένων Panda. Είναι πολύ άνετο να δουλέψεις γιατί έχει ετικέτες για σειρές και στήλες. Χρησιμοποιήστε τον πίνακα aκαι δημιουργήστε ένα DataFrame:"
      ],
      "metadata": {
        "id": "LdOmaz3F8RDN"
      }
    },
    {
      "cell_type": "code",
      "source": [
        "row_names = ['first', 'second', 'third', 'fourth', 'fifth']\n",
        "col_names = ['A', 'B', 'C']\n",
        "df = pd.DataFrame(a, index=row_names, columns=col_names)\n",
        "df"
      ],
      "metadata": {
        "colab": {
          "base_uri": "https://localhost:8080/",
          "height": 206
        },
        "id": "HL6vb5VE8WBO",
        "outputId": "b54230a3-43d6-43a8-9f99-59f0d4ab569e"
      },
      "execution_count": 93,
      "outputs": [
        {
          "output_type": "execute_result",
          "data": {
            "text/plain": [
              "         A   B  C\n",
              "first    1   1  1\n",
              "second   2   3  1\n",
              "third    4   9  2\n",
              "fourth   8  27  4\n",
              "fifth   16   1  1"
            ],
            "text/html": [
              "\n",
              "  <div id=\"df-4677a4e0-511c-4c58-a22d-6e66d32c77d9\">\n",
              "    <div class=\"colab-df-container\">\n",
              "      <div>\n",
              "<style scoped>\n",
              "    .dataframe tbody tr th:only-of-type {\n",
              "        vertical-align: middle;\n",
              "    }\n",
              "\n",
              "    .dataframe tbody tr th {\n",
              "        vertical-align: top;\n",
              "    }\n",
              "\n",
              "    .dataframe thead th {\n",
              "        text-align: right;\n",
              "    }\n",
              "</style>\n",
              "<table border=\"1\" class=\"dataframe\">\n",
              "  <thead>\n",
              "    <tr style=\"text-align: right;\">\n",
              "      <th></th>\n",
              "      <th>A</th>\n",
              "      <th>B</th>\n",
              "      <th>C</th>\n",
              "    </tr>\n",
              "  </thead>\n",
              "  <tbody>\n",
              "    <tr>\n",
              "      <th>first</th>\n",
              "      <td>1</td>\n",
              "      <td>1</td>\n",
              "      <td>1</td>\n",
              "    </tr>\n",
              "    <tr>\n",
              "      <th>second</th>\n",
              "      <td>2</td>\n",
              "      <td>3</td>\n",
              "      <td>1</td>\n",
              "    </tr>\n",
              "    <tr>\n",
              "      <th>third</th>\n",
              "      <td>4</td>\n",
              "      <td>9</td>\n",
              "      <td>2</td>\n",
              "    </tr>\n",
              "    <tr>\n",
              "      <th>fourth</th>\n",
              "      <td>8</td>\n",
              "      <td>27</td>\n",
              "      <td>4</td>\n",
              "    </tr>\n",
              "    <tr>\n",
              "      <th>fifth</th>\n",
              "      <td>16</td>\n",
              "      <td>1</td>\n",
              "      <td>1</td>\n",
              "    </tr>\n",
              "  </tbody>\n",
              "</table>\n",
              "</div>\n",
              "      <button class=\"colab-df-convert\" onclick=\"convertToInteractive('df-4677a4e0-511c-4c58-a22d-6e66d32c77d9')\"\n",
              "              title=\"Convert this dataframe to an interactive table.\"\n",
              "              style=\"display:none;\">\n",
              "        \n",
              "  <svg xmlns=\"http://www.w3.org/2000/svg\" height=\"24px\"viewBox=\"0 0 24 24\"\n",
              "       width=\"24px\">\n",
              "    <path d=\"M0 0h24v24H0V0z\" fill=\"none\"/>\n",
              "    <path d=\"M18.56 5.44l.94 2.06.94-2.06 2.06-.94-2.06-.94-.94-2.06-.94 2.06-2.06.94zm-11 1L8.5 8.5l.94-2.06 2.06-.94-2.06-.94L8.5 2.5l-.94 2.06-2.06.94zm10 10l.94 2.06.94-2.06 2.06-.94-2.06-.94-.94-2.06-.94 2.06-2.06.94z\"/><path d=\"M17.41 7.96l-1.37-1.37c-.4-.4-.92-.59-1.43-.59-.52 0-1.04.2-1.43.59L10.3 9.45l-7.72 7.72c-.78.78-.78 2.05 0 2.83L4 21.41c.39.39.9.59 1.41.59.51 0 1.02-.2 1.41-.59l7.78-7.78 2.81-2.81c.8-.78.8-2.07 0-2.86zM5.41 20L4 18.59l7.72-7.72 1.47 1.35L5.41 20z\"/>\n",
              "  </svg>\n",
              "      </button>\n",
              "      \n",
              "  <style>\n",
              "    .colab-df-container {\n",
              "      display:flex;\n",
              "      flex-wrap:wrap;\n",
              "      gap: 12px;\n",
              "    }\n",
              "\n",
              "    .colab-df-convert {\n",
              "      background-color: #E8F0FE;\n",
              "      border: none;\n",
              "      border-radius: 50%;\n",
              "      cursor: pointer;\n",
              "      display: none;\n",
              "      fill: #1967D2;\n",
              "      height: 32px;\n",
              "      padding: 0 0 0 0;\n",
              "      width: 32px;\n",
              "    }\n",
              "\n",
              "    .colab-df-convert:hover {\n",
              "      background-color: #E2EBFA;\n",
              "      box-shadow: 0px 1px 2px rgba(60, 64, 67, 0.3), 0px 1px 3px 1px rgba(60, 64, 67, 0.15);\n",
              "      fill: #174EA6;\n",
              "    }\n",
              "\n",
              "    [theme=dark] .colab-df-convert {\n",
              "      background-color: #3B4455;\n",
              "      fill: #D2E3FC;\n",
              "    }\n",
              "\n",
              "    [theme=dark] .colab-df-convert:hover {\n",
              "      background-color: #434B5C;\n",
              "      box-shadow: 0px 1px 3px 1px rgba(0, 0, 0, 0.15);\n",
              "      filter: drop-shadow(0px 1px 2px rgba(0, 0, 0, 0.3));\n",
              "      fill: #FFFFFF;\n",
              "    }\n",
              "  </style>\n",
              "\n",
              "      <script>\n",
              "        const buttonEl =\n",
              "          document.querySelector('#df-4677a4e0-511c-4c58-a22d-6e66d32c77d9 button.colab-df-convert');\n",
              "        buttonEl.style.display =\n",
              "          google.colab.kernel.accessAllowed ? 'block' : 'none';\n",
              "\n",
              "        async function convertToInteractive(key) {\n",
              "          const element = document.querySelector('#df-4677a4e0-511c-4c58-a22d-6e66d32c77d9');\n",
              "          const dataTable =\n",
              "            await google.colab.kernel.invokeFunction('convertToInteractive',\n",
              "                                                     [key], {});\n",
              "          if (!dataTable) return;\n",
              "\n",
              "          const docLinkHtml = 'Like what you see? Visit the ' +\n",
              "            '<a target=\"_blank\" href=https://colab.research.google.com/notebooks/data_table.ipynb>data table notebook</a>'\n",
              "            + ' to learn more about interactive tables.';\n",
              "          element.innerHTML = '';\n",
              "          dataTable['output_type'] = 'display_data';\n",
              "          await google.colab.output.renderOutput(dataTable, element);\n",
              "          const docLink = document.createElement('div');\n",
              "          docLink.innerHTML = docLinkHtml;\n",
              "          element.appendChild(docLink);\n",
              "        }\n",
              "      </script>\n",
              "    </div>\n",
              "  </div>\n",
              "  "
            ]
          },
          "metadata": {},
          "execution_count": 93
        }
      ]
    },
    {
      "cell_type": "markdown",
      "source": [
        "Στην πράξη, τα ονόματα των στηλών έχουν σημασία και πρέπει να είναι περιγραφικά. Τα ονόματα των σειρών μερικές φορές καθορίζονται αυτόματα ως 0, 1, και ούτω καθεξής. Μπορείτε να τα καθορίσετε ρητά με την παράμετρο index, αν και μπορείτε να τα παραλείψετε indexαν θέλετε.\n",
        "\n",
        "DataFrame Οι μέθοδοι είναι πολύ παρόμοιες με τις Series μεθόδους, αν και η συμπεριφορά είναι διαφορετική. Εάν καλέσετε μεθόδους στατιστικής Python χωρίς ορίσματα, τότε DataFrame θα εμφανιστούν τα αποτελέσματα για κάθε στήλη:"
      ],
      "metadata": {
        "id": "HnvbziLA8Z5i"
      }
    },
    {
      "cell_type": "code",
      "source": [
        "df.mean()\n",
        "\n",
        "df.var()"
      ],
      "metadata": {
        "colab": {
          "base_uri": "https://localhost:8080/"
        },
        "id": "6HJB6tf58fdw",
        "outputId": "0b14753b-4469-462d-c92e-eb37ab12990f"
      },
      "execution_count": 94,
      "outputs": [
        {
          "output_type": "execute_result",
          "data": {
            "text/plain": [
              "A     37.2\n",
              "B    121.2\n",
              "C      1.7\n",
              "dtype: float64"
            ]
          },
          "metadata": {},
          "execution_count": 94
        }
      ]
    },
    {
      "cell_type": "markdown",
      "source": [
        "Αυτό που παίρνετε είναι ένα νέο Series που κρατά τα αποτελέσματα. Σε αυτήν την περίπτωση, η Series τιμή περιέχει τον μέσο όρο και τη διακύμανση για κάθε στήλη. Εάν θέλετε τα αποτελέσματα για κάθε σειρά, τότε απλώς καθορίστε την παράμετρο axis=1:"
      ],
      "metadata": {
        "id": "MVM3g6GT8jct"
      }
    },
    {
      "cell_type": "code",
      "source": [
        "df.mean(axis=1)\n",
        "\n",
        "\n",
        "df.var(axis=1)"
      ],
      "metadata": {
        "colab": {
          "base_uri": "https://localhost:8080/"
        },
        "id": "TD_wJRSu8oBj",
        "outputId": "f90d2f15-3a73-4b90-9831-d198c08da26f"
      },
      "execution_count": 95,
      "outputs": [
        {
          "output_type": "execute_result",
          "data": {
            "text/plain": [
              "first       0.0\n",
              "second      1.0\n",
              "third      13.0\n",
              "fourth    151.0\n",
              "fifth      75.0\n",
              "dtype: float64"
            ]
          },
          "metadata": {},
          "execution_count": 95
        }
      ]
    },
    {
      "cell_type": "markdown",
      "source": [
        "Το αποτέλεσμα είναι ένα Seriesμε την επιθυμητή ποσότητα για κάθε σειρά. Οι ετικέτες 'first', 'second'και ούτω καθεξής αναφέρονται στις διαφορετικές σειρές.\n",
        "\n",
        "Μπορείτε να απομονώσετε κάθε στήλη ενός DataFrame όπως αυτό:"
      ],
      "metadata": {
        "id": "RYva3-Ix8sE5"
      }
    },
    {
      "cell_type": "code",
      "source": [
        "df['A']"
      ],
      "metadata": {
        "colab": {
          "base_uri": "https://localhost:8080/"
        },
        "id": "m1K0KK1w8v63",
        "outputId": "0275a987-d83f-4e25-84bc-325e65125e07"
      },
      "execution_count": 96,
      "outputs": [
        {
          "output_type": "execute_result",
          "data": {
            "text/plain": [
              "first      1\n",
              "second     2\n",
              "third      4\n",
              "fourth     8\n",
              "fifth     16\n",
              "Name: A, dtype: int64"
            ]
          },
          "metadata": {},
          "execution_count": 96
        }
      ]
    },
    {
      "cell_type": "markdown",
      "source": [
        "Τώρα, έχετε τη στήλη 'A' σε μορφή Series αντικειμένου και μπορείτε να εφαρμόσετε τις κατάλληλες μεθόδους:"
      ],
      "metadata": {
        "id": "_-5XlAns82Qb"
      }
    },
    {
      "cell_type": "code",
      "source": [
        "df['A'].mean()\n",
        "\n",
        "df['A'].var()"
      ],
      "metadata": {
        "colab": {
          "base_uri": "https://localhost:8080/"
        },
        "id": "rlBG3at284aK",
        "outputId": "79fe1ac2-92e5-45d2-ccc0-9656a30c7513"
      },
      "execution_count": 97,
      "outputs": [
        {
          "output_type": "execute_result",
          "data": {
            "text/plain": [
              "37.20000000000001"
            ]
          },
          "metadata": {},
          "execution_count": 97
        }
      ]
    },
    {
      "cell_type": "markdown",
      "source": [
        "Με αυτόν τον τρόπο μπορείτε να αποκτήσετε τα στατιστικά στοιχεία για μία στήλη.\n",
        "\n",
        "Μερικές φορές, μπορεί να θέλετε να χρησιμοποιήσετε έναν DataFrame ως πίνακα NumPy και να εφαρμόσετε κάποια συνάρτηση σε αυτόν. Είναι δυνατό να λάβετε όλα τα δεδομένα από ένα DataFrame με .values ή .to_numpy():"
      ],
      "metadata": {
        "id": "V8MyM2xs87Ul"
      }
    },
    {
      "cell_type": "code",
      "source": [
        "df.values\n",
        "\n",
        "\n",
        "df.to_numpy()"
      ],
      "metadata": {
        "colab": {
          "base_uri": "https://localhost:8080/"
        },
        "id": "f6N9yF1g9CJ-",
        "outputId": "3374573a-91ff-4349-b678-10e432aaa7a4"
      },
      "execution_count": 98,
      "outputs": [
        {
          "output_type": "execute_result",
          "data": {
            "text/plain": [
              "array([[ 1,  1,  1],\n",
              "       [ 2,  3,  1],\n",
              "       [ 4,  9,  2],\n",
              "       [ 8, 27,  4],\n",
              "       [16,  1,  1]])"
            ]
          },
          "metadata": {},
          "execution_count": 98
        }
      ]
    },
    {
      "cell_type": "markdown",
      "source": [
        "df.valuesκαι df.to_numpy() να σας δώσει έναν πίνακα NumPy με όλα τα στοιχεία από τις DataFrame ετικέτες χωρίς γραμμή και στήλη. Σημειώστε ότι df.to_numpy() είναι πιο ευέλικτο επειδή μπορείτε να καθορίσετε τον τύπο δεδομένων των στοιχείων και εάν θέλετε να χρησιμοποιήσετε τα υπάρχοντα δεδομένα ή να τα αντιγράψετε.\n",
        "\n",
        "Όπως Series, DataFrame τα αντικείμενα έχουν τη μέθοδο .describe() που επιστρέφει μια άλλη DataFrame με τη σύνοψη στατιστικών στοιχείων για όλες τις στήλες:"
      ],
      "metadata": {
        "id": "VKfIRsU59LWw"
      }
    },
    {
      "cell_type": "code",
      "source": [
        "df.describe()"
      ],
      "metadata": {
        "colab": {
          "base_uri": "https://localhost:8080/",
          "height": 300
        },
        "id": "LsNWltZH9QIO",
        "outputId": "8a9d1049-d824-4e65-992e-c0415cba71e0"
      },
      "execution_count": 99,
      "outputs": [
        {
          "output_type": "execute_result",
          "data": {
            "text/plain": [
              "              A          B        C\n",
              "count   5.00000   5.000000  5.00000\n",
              "mean    6.20000   8.200000  1.80000\n",
              "std     6.09918  11.009087  1.30384\n",
              "min     1.00000   1.000000  1.00000\n",
              "25%     2.00000   1.000000  1.00000\n",
              "50%     4.00000   3.000000  1.00000\n",
              "75%     8.00000   9.000000  2.00000\n",
              "max    16.00000  27.000000  4.00000"
            ],
            "text/html": [
              "\n",
              "  <div id=\"df-63400e7d-6f04-4984-b0d8-158e519954f2\">\n",
              "    <div class=\"colab-df-container\">\n",
              "      <div>\n",
              "<style scoped>\n",
              "    .dataframe tbody tr th:only-of-type {\n",
              "        vertical-align: middle;\n",
              "    }\n",
              "\n",
              "    .dataframe tbody tr th {\n",
              "        vertical-align: top;\n",
              "    }\n",
              "\n",
              "    .dataframe thead th {\n",
              "        text-align: right;\n",
              "    }\n",
              "</style>\n",
              "<table border=\"1\" class=\"dataframe\">\n",
              "  <thead>\n",
              "    <tr style=\"text-align: right;\">\n",
              "      <th></th>\n",
              "      <th>A</th>\n",
              "      <th>B</th>\n",
              "      <th>C</th>\n",
              "    </tr>\n",
              "  </thead>\n",
              "  <tbody>\n",
              "    <tr>\n",
              "      <th>count</th>\n",
              "      <td>5.00000</td>\n",
              "      <td>5.000000</td>\n",
              "      <td>5.00000</td>\n",
              "    </tr>\n",
              "    <tr>\n",
              "      <th>mean</th>\n",
              "      <td>6.20000</td>\n",
              "      <td>8.200000</td>\n",
              "      <td>1.80000</td>\n",
              "    </tr>\n",
              "    <tr>\n",
              "      <th>std</th>\n",
              "      <td>6.09918</td>\n",
              "      <td>11.009087</td>\n",
              "      <td>1.30384</td>\n",
              "    </tr>\n",
              "    <tr>\n",
              "      <th>min</th>\n",
              "      <td>1.00000</td>\n",
              "      <td>1.000000</td>\n",
              "      <td>1.00000</td>\n",
              "    </tr>\n",
              "    <tr>\n",
              "      <th>25%</th>\n",
              "      <td>2.00000</td>\n",
              "      <td>1.000000</td>\n",
              "      <td>1.00000</td>\n",
              "    </tr>\n",
              "    <tr>\n",
              "      <th>50%</th>\n",
              "      <td>4.00000</td>\n",
              "      <td>3.000000</td>\n",
              "      <td>1.00000</td>\n",
              "    </tr>\n",
              "    <tr>\n",
              "      <th>75%</th>\n",
              "      <td>8.00000</td>\n",
              "      <td>9.000000</td>\n",
              "      <td>2.00000</td>\n",
              "    </tr>\n",
              "    <tr>\n",
              "      <th>max</th>\n",
              "      <td>16.00000</td>\n",
              "      <td>27.000000</td>\n",
              "      <td>4.00000</td>\n",
              "    </tr>\n",
              "  </tbody>\n",
              "</table>\n",
              "</div>\n",
              "      <button class=\"colab-df-convert\" onclick=\"convertToInteractive('df-63400e7d-6f04-4984-b0d8-158e519954f2')\"\n",
              "              title=\"Convert this dataframe to an interactive table.\"\n",
              "              style=\"display:none;\">\n",
              "        \n",
              "  <svg xmlns=\"http://www.w3.org/2000/svg\" height=\"24px\"viewBox=\"0 0 24 24\"\n",
              "       width=\"24px\">\n",
              "    <path d=\"M0 0h24v24H0V0z\" fill=\"none\"/>\n",
              "    <path d=\"M18.56 5.44l.94 2.06.94-2.06 2.06-.94-2.06-.94-.94-2.06-.94 2.06-2.06.94zm-11 1L8.5 8.5l.94-2.06 2.06-.94-2.06-.94L8.5 2.5l-.94 2.06-2.06.94zm10 10l.94 2.06.94-2.06 2.06-.94-2.06-.94-.94-2.06-.94 2.06-2.06.94z\"/><path d=\"M17.41 7.96l-1.37-1.37c-.4-.4-.92-.59-1.43-.59-.52 0-1.04.2-1.43.59L10.3 9.45l-7.72 7.72c-.78.78-.78 2.05 0 2.83L4 21.41c.39.39.9.59 1.41.59.51 0 1.02-.2 1.41-.59l7.78-7.78 2.81-2.81c.8-.78.8-2.07 0-2.86zM5.41 20L4 18.59l7.72-7.72 1.47 1.35L5.41 20z\"/>\n",
              "  </svg>\n",
              "      </button>\n",
              "      \n",
              "  <style>\n",
              "    .colab-df-container {\n",
              "      display:flex;\n",
              "      flex-wrap:wrap;\n",
              "      gap: 12px;\n",
              "    }\n",
              "\n",
              "    .colab-df-convert {\n",
              "      background-color: #E8F0FE;\n",
              "      border: none;\n",
              "      border-radius: 50%;\n",
              "      cursor: pointer;\n",
              "      display: none;\n",
              "      fill: #1967D2;\n",
              "      height: 32px;\n",
              "      padding: 0 0 0 0;\n",
              "      width: 32px;\n",
              "    }\n",
              "\n",
              "    .colab-df-convert:hover {\n",
              "      background-color: #E2EBFA;\n",
              "      box-shadow: 0px 1px 2px rgba(60, 64, 67, 0.3), 0px 1px 3px 1px rgba(60, 64, 67, 0.15);\n",
              "      fill: #174EA6;\n",
              "    }\n",
              "\n",
              "    [theme=dark] .colab-df-convert {\n",
              "      background-color: #3B4455;\n",
              "      fill: #D2E3FC;\n",
              "    }\n",
              "\n",
              "    [theme=dark] .colab-df-convert:hover {\n",
              "      background-color: #434B5C;\n",
              "      box-shadow: 0px 1px 3px 1px rgba(0, 0, 0, 0.15);\n",
              "      filter: drop-shadow(0px 1px 2px rgba(0, 0, 0, 0.3));\n",
              "      fill: #FFFFFF;\n",
              "    }\n",
              "  </style>\n",
              "\n",
              "      <script>\n",
              "        const buttonEl =\n",
              "          document.querySelector('#df-63400e7d-6f04-4984-b0d8-158e519954f2 button.colab-df-convert');\n",
              "        buttonEl.style.display =\n",
              "          google.colab.kernel.accessAllowed ? 'block' : 'none';\n",
              "\n",
              "        async function convertToInteractive(key) {\n",
              "          const element = document.querySelector('#df-63400e7d-6f04-4984-b0d8-158e519954f2');\n",
              "          const dataTable =\n",
              "            await google.colab.kernel.invokeFunction('convertToInteractive',\n",
              "                                                     [key], {});\n",
              "          if (!dataTable) return;\n",
              "\n",
              "          const docLinkHtml = 'Like what you see? Visit the ' +\n",
              "            '<a target=\"_blank\" href=https://colab.research.google.com/notebooks/data_table.ipynb>data table notebook</a>'\n",
              "            + ' to learn more about interactive tables.';\n",
              "          element.innerHTML = '';\n",
              "          dataTable['output_type'] = 'display_data';\n",
              "          await google.colab.output.renderOutput(dataTable, element);\n",
              "          const docLink = document.createElement('div');\n",
              "          docLink.innerHTML = docLinkHtml;\n",
              "          element.appendChild(docLink);\n",
              "        }\n",
              "      </script>\n",
              "    </div>\n",
              "  </div>\n",
              "  "
            ]
          },
          "metadata": {},
          "execution_count": 99
        }
      ]
    },
    {
      "cell_type": "markdown",
      "source": [
        "Η περίληψη περιέχει τα ακόλουθα αποτελέσματα:\n",
        "\n",
        "count: ο αριθμός των στοιχείων σε κάθε στήλη\n",
        "mean: ο μέσος όρος κάθε στήλης\n",
        "std: η τυπική απόκλιση\n",
        "minκαι max: τις ελάχιστες και μέγιστες τιμές\n",
        "25%, 50%, και 75%: τα εκατοστημόρια\n",
        "Εάν θέλετε το DataFrameαντικείμενο που προκύπτει να περιέχει άλλα εκατοστημόρια, τότε θα πρέπει να καθορίσετε την τιμή της προαιρετικής παραμέτρου percentiles.\n",
        "\n",
        "Μπορείτε να αποκτήσετε πρόσβαση σε κάθε στοιχείο της περίληψης ως εξής:"
      ],
      "metadata": {
        "id": "CWwxQCj89THe"
      }
    },
    {
      "cell_type": "code",
      "source": [
        "df.describe().at['mean', 'A']\n",
        "\n",
        "df.describe().at['50%', 'B']"
      ],
      "metadata": {
        "colab": {
          "base_uri": "https://localhost:8080/"
        },
        "id": "V8g5daOF9WzM",
        "outputId": "a87f72c6-eae3-4c72-c279-305d398dd799"
      },
      "execution_count": 100,
      "outputs": [
        {
          "output_type": "execute_result",
          "data": {
            "text/plain": [
              "3.0"
            ]
          },
          "metadata": {},
          "execution_count": 100
        }
      ]
    },
    {
      "cell_type": "markdown",
      "source": [
        "Έτσι μπορείτε να λάβετε περιγραφικά στατιστικά στοιχεία Python σε ένα Series αντικείμενο με μία κλήση μεθόδου Pandas."
      ],
      "metadata": {
        "id": "qIW7kmUR9aBc"
      }
    },
    {
      "cell_type": "markdown",
      "source": [],
      "metadata": {
        "id": "0SE3L6tt9eEp"
      }
    }
  ]
}